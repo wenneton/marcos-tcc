{
 "cells": [
  {
   "cell_type": "markdown",
   "metadata": {},
   "source": [
    "# Train-test-validation split\n",
    "\n",
    "* Train: 70%\n",
    "* Test: 20%\n",
    "* Validation: 10%"
   ]
  },
  {
   "cell_type": "code",
   "execution_count": 2,
   "metadata": {},
   "outputs": [],
   "source": [
    "import glob\n",
    "import os\n",
    "from random import choices\n",
    "from shutil import copyfile"
   ]
  },
  {
   "cell_type": "code",
   "execution_count": 7,
   "metadata": {},
   "outputs": [],
   "source": [
    "categories = ['train', 'test', 'validation']\n",
    "weights = [0.7,0.2,0.1]"
   ]
  },
  {
   "cell_type": "markdown",
   "metadata": {},
   "source": [
    "## Approach 1"
   ]
  },
  {
   "cell_type": "code",
   "execution_count": 39,
   "metadata": {},
   "outputs": [],
   "source": [
    "genuine_files = (glob.glob(\"data/SigComp2009/NISDCC/NISDCC-genuines-preprocessed/*.png\") +\n",
    "                 glob.glob(\"data/SigComp2009/NFI/NFI-genuines-preprocessed/*.png\"))\n",
    "\n",
    "for file in genuine_files:\n",
    "    category = choices(categories,weights)\n",
    "    filename = file.split('/')[-1]\n",
    "    \n",
    "    current_path = os.getcwd() + '/' + file\n",
    "    new_path = os.getcwd() + '/data/approach1/' + ''.join(category) + '/genuine/'\n",
    "    \n",
    "    if not os.path.exists(new_path):\n",
    "        os.makedirs(new_path)\n",
    "    \n",
    "    copyfile(current_path, new_path + filename)"
   ]
  },
  {
   "cell_type": "code",
   "execution_count": 40,
   "metadata": {},
   "outputs": [],
   "source": [
    "forgerie_files = (glob.glob(\"data/SigComp2009/NISDCC/NISDCC-forgeries-preprocessed/*.png\") +\n",
    "                 glob.glob(\"data/SigComp2009/NFI/NFI-forgeries-preprocessed/*.png\"))\n",
    "\n",
    "for file in forgerie_files:\n",
    "    category = choices(categories,weights)\n",
    "    filename = file.split('/')[-1]\n",
    "    \n",
    "    current_path = os.getcwd() + '/' + file\n",
    "    new_path = os.getcwd() + '/data/approach1/' + ''.join(category) + '/forgerie/'\n",
    "    \n",
    "    if not os.path.exists(new_path):\n",
    "        os.makedirs(new_path)\n",
    "    \n",
    "    copyfile(current_path, new_path + filename)"
   ]
  },
  {
   "cell_type": "markdown",
   "metadata": {},
   "source": [
    "## Approach 2"
   ]
  },
  {
   "cell_type": "code",
   "execution_count": 66,
   "metadata": {},
   "outputs": [],
   "source": [
    "for category in categories:\n",
    "    forgerie_files = glob.glob(\"data/approach1/\" + category + \"/forgerie/*.png\")\n",
    "    genuine_files = glob.glob(\"data/approach1/\" + category + \"/genuine/*.png\")\n",
    "    \n",
    "    for file in forgerie_files:\n",
    "        save = choices([True, False], [0.18, 0.82])\n",
    "        filename = file.split('/')[-1]\n",
    "        current_path = os.getcwd() + '/' + file\n",
    "\n",
    "        if save[0]:\n",
    "            new_path = os.getcwd() + '/data/approach2/' + category + '/forgerie/'\n",
    "        else:\n",
    "            new_path = os.getcwd() + '/data/approach2/forgerie-test/'           \n",
    "        \n",
    "        if not os.path.exists(new_path):\n",
    "            os.makedirs(new_path)\n",
    "            \n",
    "        copyfile(current_path, new_path + filename)\n",
    "    \n",
    "    for file in genuine_files:\n",
    "        filename = file.split('/')[-1]\n",
    "        \n",
    "        current_path = os.getcwd() + '/' + file\n",
    "        new_path = os.getcwd() + '/data/approach2/' + category + '/genuine/'\n",
    "        \n",
    "        if not os.path.exists(new_path):\n",
    "            os.makedirs(new_path)\n",
    "            \n",
    "        copyfile(current_path, new_path + filename)"
   ]
  },
  {
   "cell_type": "code",
   "execution_count": null,
   "metadata": {},
   "outputs": [],
   "source": []
  }
 ],
 "metadata": {
  "kernelspec": {
   "display_name": "Python 3",
   "language": "python",
   "name": "python3"
  },
  "language_info": {
   "codemirror_mode": {
    "name": "ipython",
    "version": 3
   },
   "file_extension": ".py",
   "mimetype": "text/x-python",
   "name": "python",
   "nbconvert_exporter": "python",
   "pygments_lexer": "ipython3",
   "version": "3.7.1"
  }
 },
 "nbformat": 4,
 "nbformat_minor": 2
}
