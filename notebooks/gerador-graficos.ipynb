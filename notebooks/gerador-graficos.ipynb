{
 "cells": [
  {
   "cell_type": "code",
   "execution_count": 1,
   "metadata": {},
   "outputs": [],
   "source": [
    "import matplotlib.pyplot as plt\n",
    "import numpy as np\n",
    "import glob"
   ]
  },
  {
   "cell_type": "markdown",
   "metadata": {},
   "source": [
    "## Approach 1"
   ]
  },
  {
   "cell_type": "code",
   "execution_count": 2,
   "metadata": {},
   "outputs": [],
   "source": [
    "genuines = []\n",
    "forgeries = []\n",
    "\n",
    "imagens = glob.glob('data/approach1/train/genuine/*.png')\n",
    "genuines.append(len(imagens))\n",
    "\n",
    "imagens = glob.glob('data/approach1/validation/genuine/*.png')\n",
    "genuines.append(len(imagens))\n",
    "\n",
    "imagens = glob.glob('data/approach1/test/genuine/*.png')\n",
    "genuines.append(len(imagens))\n",
    "\n",
    "imagens = glob.glob('data/approach1/train/forgerie/*.png')\n",
    "forgeries.append(len(imagens))\n",
    "\n",
    "imagens = glob.glob('data/approach1/validation/forgerie/*.png')\n",
    "forgeries.append(len(imagens))\n",
    "\n",
    "imagens = glob.glob('data/approach1/test/forgerie/*.png')\n",
    "forgeries.append(len(imagens))"
   ]
  },
  {
   "cell_type": "code",
   "execution_count": 3,
   "metadata": {},
   "outputs": [
    {
     "data": {
      "text/plain": [
       "<Figure size 720x360 with 0 Axes>"
      ]
     },
     "metadata": {},
     "output_type": "display_data"
    }
   ],
   "source": [
    "barWidth = 0.3\n",
    "\n",
    "plt.figure(figsize=(10,5))\n",
    "\n",
    "r1 = np.arange(len(genuines))\n",
    "r2 = [x + barWidth for x in r1]"
   ]
  },
  {
   "cell_type": "code",
   "execution_count": 18,
   "metadata": {},
   "outputs": [
    {
     "data": {
      "image/png": "[encoded data removed]",
      "text/plain": [
       "<Figure size 432x288 with 1 Axes>"
      ]
     },
     "metadata": {
      "needs_background": "light"
     },
     "output_type": "display_data"
    }
   ],
   "source": [
    "plt.bar(r1, genuines, color='darkgray', width=barWidth, label='Assinaturas genuínas')\n",
    "plt.bar(r2, forgeries, color='lightgray', width=barWidth, label='Assinaturas forjadas')\n",
    "\n",
    "plt.xlabel('Divisão do conjunto de dados')\n",
    "plt.xticks([r + barWidth for r in range(len(genuines))],['Treino', 'Validação', 'Teste'])\n",
    "plt.ylabel('Quantidade de exemplos')\n",
    "\n",
    "plt.legend()\n",
    "\n",
    "fig1 = plt.gcf()\n",
    "plt.show()\n",
    "fig1.savefig('approach1.png')"
   ]
  },
  {
   "cell_type": "markdown",
   "metadata": {},
   "source": [
    "## Abordagem 2"
   ]
  },
  {
   "cell_type": "code",
   "execution_count": 26,
   "metadata": {},
   "outputs": [],
   "source": [
    "genuines = []\n",
    "forgeries = []\n",
    "\n",
    "imagens = glob.glob('data/approach2/train/genuine/*.png')\n",
    "genuines.append(len(imagens))\n",
    "\n",
    "imagens = glob.glob('data/approach2/validation/genuine/*.png')\n",
    "genuines.append(len(imagens))\n",
    "\n",
    "imagens = glob.glob('data/approach2/test/genuine/*.png')\n",
    "genuines.append(len(imagens))\n",
    "\n",
    "imagens = glob.glob('data/approach2/train/forgerie/*.png')\n",
    "forgeries.append(len(imagens))\n",
    "\n",
    "imagens = glob.glob('data/approach2/validation/forgerie/*.png')\n",
    "forgeries.append(len(imagens))\n",
    "\n",
    "imagens = glob.glob('data/approach2/test/forgerie/*.png')\n",
    "forgeries.append(len(imagens))"
   ]
  },
  {
   "cell_type": "code",
   "execution_count": 27,
   "metadata": {},
   "outputs": [
    {
     "data": {
      "text/plain": [
       "<Figure size 720x360 with 0 Axes>"
      ]
     },
     "metadata": {},
     "output_type": "display_data"
    }
   ],
   "source": [
    "barWidth = 0.3\n",
    "\n",
    "plt.figure(figsize=(10,5))\n",
    "\n",
    "r1 = np.arange(len(genuines))\n",
    "r2 = [x + barWidth for x in r1]"
   ]
  },
  {
   "cell_type": "code",
   "execution_count": 28,
   "metadata": {},
   "outputs": [
    {
     "data": {
      "image/png": "[encoded data removed]",
      "text/plain": [
       "<Figure size 432x288 with 1 Axes>"
      ]
     },
     "metadata": {
      "needs_background": "light"
     },
     "output_type": "display_data"
    }
   ],
   "source": [
    "plt.bar(r1, genuines, color='darkgray', width=barWidth, label='Assinaturas genuínas')\n",
    "plt.bar(r2, forgeries, color='lightgray', width=barWidth, label='Assinaturas forjadas')\n",
    "\n",
    "plt.xlabel('Divisão do conjunto de dados')\n",
    "plt.xticks([r + barWidth for r in range(len(genuines))],['Treino', 'Validação', 'Teste'])\n",
    "plt.ylabel('Quantidade de exemplos')\n",
    "\n",
    "plt.legend()\n",
    "\n",
    "fig2 = plt.gcf()\n",
    "plt.show()\n",
    "fig2.savefig('approach2.png')"
   ]
  },
  {
   "cell_type": "markdown",
   "metadata": {},
   "source": [
    "## Abordagem 3"
   ]
  },
  {
   "cell_type": "code",
   "execution_count": 29,
   "metadata": {},
   "outputs": [],
   "source": [
    "genuines = []\n",
    "forgeries = []\n",
    "\n",
    "imagens = glob.glob('data/approach3/train/genuine/*.png')\n",
    "genuines.append(len(imagens))\n",
    "\n",
    "imagens = glob.glob('data/approach3/validation/genuine/*.png')\n",
    "genuines.append(len(imagens))\n",
    "\n",
    "imagens = glob.glob('data/approach3/test/genuine/*.png')\n",
    "genuines.append(len(imagens))\n",
    "\n",
    "imagens = glob.glob('data/approach3/train/forgerie/*.png')\n",
    "forgeries.append(len(imagens))\n",
    "\n",
    "imagens = glob.glob('data/approach3/validation/forgerie/*.png')\n",
    "forgeries.append(len(imagens))\n",
    "\n",
    "imagens = glob.glob('data/approach3/test/forgerie/*.png')\n",
    "forgeries.append(len(imagens))"
   ]
  },
  {
   "cell_type": "code",
   "execution_count": 30,
   "metadata": {},
   "outputs": [
    {
     "data": {
      "text/plain": [
       "<Figure size 720x360 with 0 Axes>"
      ]
     },
     "metadata": {},
     "output_type": "display_data"
    }
   ],
   "source": [
    "barWidth = 0.3\n",
    "\n",
    "plt.figure(figsize=(10,5))\n",
    "\n",
    "r1 = np.arange(len(genuines))\n",
    "r2 = [x + barWidth for x in r1]"
   ]
  },
  {
   "cell_type": "code",
   "execution_count": 31,
   "metadata": {},
   "outputs": [
    {
     "data": {
      "image/png": "[encoded data removed]",
      "text/plain": [
       "<Figure size 432x288 with 1 Axes>"
      ]
     },
     "metadata": {
      "needs_background": "light"
     },
     "output_type": "display_data"
    }
   ],
   "source": [
    "plt.bar(r1, genuines, color='darkgray', width=barWidth, label='Assinaturas genuínas')\n",
    "plt.bar(r2, forgeries, color='lightgray', width=barWidth, label='Assinaturas forjadas')\n",
    "\n",
    "plt.xlabel('Divisão do conjunto de dados')\n",
    "plt.xticks([r + barWidth for r in range(len(genuines))],['Treino', 'Validação', 'Teste'])\n",
    "plt.ylabel('Quantidade de exemplos')\n",
    "\n",
    "plt.legend()\n",
    "\n",
    "fig2 = plt.gcf()\n",
    "plt.show()\n",
    "fig2.savefig('approach3.png')"
   ]
  },
  {
   "cell_type": "code",
   "execution_count": null,
   "metadata": {},
   "outputs": [],
   "source": []
  }
 ],
 "metadata": {
  "kernelspec": {
   "display_name": "Python 3",
   "language": "python",
   "name": "python3"
  },
  "language_info": {
   "codemirror_mode": {
    "name": "ipython",
    "version": 3
   },
   "file_extension": ".py",
   "mimetype": "text/x-python",
   "name": "python",
   "nbconvert_exporter": "python",
   "pygments_lexer": "ipython3",
   "version": "3.7.1"
  }
 },
 "nbformat": 4,
 "nbformat_minor": 2
}
