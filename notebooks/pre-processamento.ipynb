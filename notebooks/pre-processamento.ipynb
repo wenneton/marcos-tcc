{
 "cells": [
  {
   "cell_type": "code",
   "execution_count": 1,
   "metadata": {},
   "outputs": [],
   "source": [
    "from PIL import Image\n",
    "import glob\n",
    "import os\n",
    "import errno"
   ]
  },
  {
   "cell_type": "code",
   "execution_count": 2,
   "metadata": {},
   "outputs": [],
   "source": [
    "def resizeImages(path, extension, width=256, height=256):\n",
    "    newpath = path + '-preprocessed'\n",
    "    \n",
    "    if not os.path.exists(newpath):\n",
    "        try:\n",
    "            os.makedirs(newpath)\n",
    "        except OSError as exc:\n",
    "            if exc.errno != errno.EEXIST:\n",
    "                raise\n",
    "    \n",
    "    images = glob.glob(path + '/*.' + extension) \n",
    "    size = (width, height)\n",
    "    \n",
    "    for image in images:\n",
    "        filename = image.split('/')[-1]\n",
    "        im = Image.open(image)\n",
    "        im = im.resize(size, Image.ANTIALIAS)\n",
    "        im = im.convert('LA')\n",
    "        im.save(newpath + '/' + filename)\n",
    "    "
   ]
  },
  {
   "cell_type": "code",
   "execution_count": 3,
   "metadata": {},
   "outputs": [],
   "source": [
    "resizeImages('data/NISDCC-all', 'PNG')"
   ]
  },
  {
   "cell_type": "code",
   "execution_count": 4,
   "metadata": {},
   "outputs": [],
   "source": [
    "resizeImages('data/NFI-forgeries', 'png')"
   ]
  },
  {
   "cell_type": "code",
   "execution_count": 5,
   "metadata": {},
   "outputs": [],
   "source": [
    "resizeImages('data/NFI-genuines', 'png')"
   ]
  },
  {
   "cell_type": "code",
   "execution_count": 6,
   "metadata": {},
   "outputs": [
    {
     "name": "stdout",
     "output_type": "stream",
     "text": [
      "60 genuínas\n",
      "1838 forjadas\n"
     ]
    }
   ],
   "source": [
    "imagens = glob.glob('data/NISDCC-all/*.PNG')\n",
    "genuines = 0\n",
    "size = (256,256)\n",
    "for imagem in imagens:    \n",
    "    arquivo = imagem.split('/')[-1]\n",
    "    sa = arquivo[7:10]\n",
    "    pa = arquivo[11:14]\n",
    "    signature_id = arquivo[15:18]\n",
    "    if (sa == pa):\n",
    "        genuines+=1\n",
    "\n",
    "print(\"{} genuínas\".format(genuines))\n",
    "print(\"{} forjadas\".format(len(imagens)-genuines))"
   ]
  },
  {
   "cell_type": "code",
   "execution_count": 7,
   "metadata": {},
   "outputs": [],
   "source": [
    "imagens = glob.glob('data/NFI-forgeries/*.png')\n",
    "for imagem in imagens:\n",
    "    arquivo = imagem.split('/')[-1]\n",
    "    sa = arquivo[4:7]\n",
    "    signature_id = arquivo[7:9]\n",
    "    pa = arquivo[9:12]"
   ]
  },
  {
   "cell_type": "code",
   "execution_count": null,
   "metadata": {},
   "outputs": [],
   "source": []
  }
 ],
 "metadata": {
  "kernelspec": {
   "display_name": "Python 3",
   "language": "python",
   "name": "python3"
  },
  "language_info": {
   "codemirror_mode": {
    "name": "ipython",
    "version": 3
   },
   "file_extension": ".py",
   "mimetype": "text/x-python",
   "name": "python",
   "nbconvert_exporter": "python",
   "pygments_lexer": "ipython3",
   "version": "3.7.1"
  }
 },
 "nbformat": 4,
 "nbformat_minor": 2
}
