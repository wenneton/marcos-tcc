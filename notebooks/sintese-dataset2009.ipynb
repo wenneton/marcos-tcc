{
 "cells": [
  {
   "cell_type": "code",
   "execution_count": 2,
   "metadata": {
    "collapsed": true
   },
   "outputs": [],
   "source": [
    "import glob\n",
    "from statistics import mean"
   ]
  },
  {
   "cell_type": "markdown",
   "metadata": {},
   "source": [
    "## NISDCC Training Set"
   ]
  },
  {
   "cell_type": "code",
   "execution_count": 3,
   "metadata": {},
   "outputs": [
    {
     "name": "stdout",
     "output_type": "stream",
     "text": [
      "60 genuínas\n",
      "1838 forjadas\n",
      "Média de genuínas por indivíduo: 5\n",
      "Média de forjadas por indivíduo: 153.17\n",
      "Total de indivíduos com assinaturas genuínas e forjadas: 12\n"
     ]
    }
   ],
   "source": [
    "imagens = glob.glob('data/SigComp2009/NISDCC-all/*.PNG')\n",
    "\n",
    "genuines = {}\n",
    "forgeries = {}\n",
    "size = (256,256)\n",
    "count = 0\n",
    "\n",
    "for imagem in imagens:    \n",
    "    arquivo = imagem.split('/')[-1]\n",
    "    sa = arquivo[7:10] # simulating author\n",
    "    pa = arquivo[11:14] # primary author\n",
    "    signature_id = arquivo[15:18]\n",
    "    if (sa == pa):\n",
    "        genuines[pa] = 1 if pa not in genuines else genuines[pa] + 1  \n",
    "    else:\n",
    "        forgeries[pa] = 1 if pa not in forgeries else forgeries[pa] + 1\n",
    "\n",
    "print(\"{} genuínas\".format(sum(genuines.values())))\n",
    "print(\"{} forjadas\".format(sum(forgeries.values())))\n",
    "print(\"Média de genuínas por indivíduo: {}\".format(mean(genuines.values())))\n",
    "print(\"Média de forjadas por indivíduo: {}\".format(round(mean(forgeries.values()),2)))\n",
    "print(\"Total de indivíduos com assinaturas genuínas e forjadas: {}\".format(len(forgeries.keys() & genuines.keys())))"
   ]
  },
  {
   "cell_type": "markdown",
   "metadata": {},
   "source": [
    "## NFI Evaluation Set"
   ]
  },
  {
   "cell_type": "code",
   "execution_count": 4,
   "metadata": {
    "collapsed": true
   },
   "outputs": [],
   "source": [
    "imagens = glob.glob('data/SigComp2009/NFI-forgeries/*.png')\n",
    "\n",
    "forgeries = {}\n",
    "\n",
    "for imagem in imagens:\n",
    "    arquivo = imagem.split('/')[-1]\n",
    "    sa = arquivo[4:7]\n",
    "    signature_id = arquivo[7:9]\n",
    "    pa = arquivo[9:12]\n",
    "    \n",
    "    forgeries[pa] = 1 if pa not in forgeries else forgeries[pa] + 1"
   ]
  },
  {
   "cell_type": "code",
   "execution_count": 5,
   "metadata": {
    "collapsed": true
   },
   "outputs": [],
   "source": [
    "imagens = glob.glob('data/SigComp2009/NFI-genuines/*.png')\n",
    "\n",
    "genuines = {}\n",
    "\n",
    "for imagem in imagens:\n",
    "    arquivo = imagem.split('/')[-1]\n",
    "    sa = arquivo[4:7]\n",
    "    signature_id = arquivo[7:9]\n",
    "    pa = arquivo[9:12]\n",
    "    \n",
    "    genuines[pa] = 1 if pa not in genuines else genuines[pa] + 1"
   ]
  },
  {
   "cell_type": "code",
   "execution_count": 6,
   "metadata": {},
   "outputs": [
    {
     "name": "stdout",
     "output_type": "stream",
     "text": [
      "940 genuínas\n",
      "624 forjadas\n",
      "Média de genuínas por indivíduo: 11.9\n",
      "Média de forjadas por indivíduo: 32.84\n",
      "Total de indivíduos com assinaturas genuínas e forjadas: 19\n"
     ]
    }
   ],
   "source": [
    "print(\"{} genuínas\".format(sum(genuines.values())))\n",
    "print(\"{} forjadas\".format(sum(forgeries.values())))\n",
    "print(\"Média de genuínas por indivíduo: {}\".format(round(mean(genuines.values()),2)))\n",
    "print(\"Média de forjadas por indivíduo: {}\".format(round(mean(forgeries.values()),2)))\n",
    "print(\"Total de indivíduos com assinaturas genuínas e forjadas: {}\".format(len(forgeries.keys() & genuines.keys())))"
   ]
  },
  {
   "cell_type": "code",
   "execution_count": null,
   "metadata": {
    "collapsed": true
   },
   "outputs": [],
   "source": []
  }
 ],
 "metadata": {
  "kernelspec": {
   "display_name": "Python 3",
   "language": "python",
   "name": "python3"
  },
  "language_info": {
   "codemirror_mode": {
    "name": "ipython",
    "version": 3
   },
   "file_extension": ".py",
   "mimetype": "text/x-python",
   "name": "python",
   "nbconvert_exporter": "python",
   "pygments_lexer": "ipython3",
   "version": "3.6.7"
  }
 },
 "nbformat": 4,
 "nbformat_minor": 2
}
