{
 "cells": [
  {
   "cell_type": "code",
   "execution_count": 10,
   "metadata": {},
   "outputs": [],
   "source": [
    "import glob\n",
    "from PIL import Image\n",
    "import os\n",
    "from random import choices\n",
    "from shutil import copyfile"
   ]
  },
  {
   "cell_type": "markdown",
   "metadata": {},
   "source": [
    "## Preprocessing images"
   ]
  },
  {
   "cell_type": "code",
   "execution_count": 4,
   "metadata": {},
   "outputs": [],
   "source": [
    "SIZE = (256,256)\n",
    "MERGED_SIZE = (256,512)"
   ]
  },
  {
   "cell_type": "code",
   "execution_count": 2,
   "metadata": {},
   "outputs": [],
   "source": [
    "genuine_images = glob.glob('data/SigComp2009/NFI/NFI-genuines/*.png')"
   ]
  },
  {
   "cell_type": "code",
   "execution_count": 6,
   "metadata": {},
   "outputs": [],
   "source": [
    "for image1 in genuine_images:\n",
    "    filename1 = image1.split('/')[-1]\n",
    "    sa1 = filename1[4:7]\n",
    "    sign_id1 = filename1[7:9]\n",
    "    pa1 = filename1[9:12]\n",
    "    \n",
    "    im1 = Image.open(image1)\n",
    "    im1 = im1.resize(SIZE, Image.ANTIALIAS)\n",
    "    im1 = im1.convert('LA')\n",
    "    \n",
    "    for image2 in genuine_images:\n",
    "        filename2 = image2.split('/')[-1]\n",
    "        sa2 = filename2[4:7]\n",
    "        sign_id2 = filename2[7:9]\n",
    "        pa2 = filename2[9:12]\n",
    "        \n",
    "        if (pa1 == pa2):\n",
    "            im2 = Image.open(image2)\n",
    "            im2 = im2.resize(SIZE, Image.ANTIALIAS)\n",
    "            im2 = im2.convert('LA')\n",
    "\n",
    "            new_im = Image.new('LA', MERGED_SIZE)\n",
    "\n",
    "            new_im.paste(im1, (0,0))\n",
    "            new_im.paste(im2, (0,256))\n",
    "            new_im = new_im.resize(SIZE, Image.ANTIALIAS)\n",
    "\n",
    "            path = '/'.join(image2.split('/')[0:-2]) + '/NFI-genuines-approach3/'\n",
    "            filename = '-'.join([pa1,sa2,sign_id1, sign_id2]) + '.png'\n",
    "\n",
    "            if not os.path.exists(path):\n",
    "                os.makedirs(path)\n",
    "\n",
    "            new_im.save(path+filename)"
   ]
  },
  {
   "cell_type": "markdown",
   "metadata": {},
   "source": [
    "## Train-test-validation split"
   ]
  },
  {
   "cell_type": "code",
   "execution_count": 7,
   "metadata": {},
   "outputs": [],
   "source": [
    "categories = ['train', 'test', 'validation']\n",
    "weights = [0.7,0.2,0.1]"
   ]
  },
  {
   "cell_type": "code",
   "execution_count": 11,
   "metadata": {},
   "outputs": [],
   "source": [
    "genuine_files = (glob.glob(\"data/SigComp2009/NISDCC/NISDCC-genuines-preprocessed/*.png\") +\n",
    "                 glob.glob(\"data/SigComp2009/NFI/NFI-genuines-approach3/*.png\"))\n",
    "\n",
    "for file in genuine_files:\n",
    "    category = choices(categories,weights)\n",
    "    filename = file.split('/')[-1]\n",
    "    \n",
    "    current_path = os.getcwd() + '/' + file\n",
    "    new_path = os.getcwd() + '/data/approach3/' + ''.join(category) + '/genuine/'\n",
    "    \n",
    "    if not os.path.exists(new_path):\n",
    "        os.makedirs(new_path)\n",
    "    \n",
    "    copyfile(current_path, new_path + filename)"
   ]
  },
  {
   "cell_type": "markdown",
   "metadata": {},
   "source": [
    "Obs: forgerie examples split are the same as in approach 1. Thus, all forgerie examples from train, test and validation were copied from approach1 folder."
   ]
  }
 ],
 "metadata": {
  "kernelspec": {
   "display_name": "Python 3",
   "language": "python",
   "name": "python3"
  },
  "language_info": {
   "codemirror_mode": {
    "name": "ipython",
    "version": 3
   },
   "file_extension": ".py",
   "mimetype": "text/x-python",
   "name": "python",
   "nbconvert_exporter": "python",
   "pygments_lexer": "ipython3",
   "version": "3.7.3"
  }
 },
 "nbformat": 4,
 "nbformat_minor": 2
}
