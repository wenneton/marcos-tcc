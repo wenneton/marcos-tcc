{
 "cells": [
  {
   "cell_type": "code",
   "execution_count": 1,
   "metadata": {},
   "outputs": [],
   "source": [
    "from PIL import Image\n",
    "import glob\n",
    "import os\n",
    "import errno"
   ]
  },
  {
   "cell_type": "code",
   "execution_count": 2,
   "metadata": {},
   "outputs": [],
   "source": [
    "def resizeImages(path, extension, width=256, height=256):\n",
    "    newpath = path + '-preprocessed'\n",
    "    \n",
    "    if not os.path.exists(newpath):\n",
    "        try:\n",
    "            os.makedirs(newpath)\n",
    "        except OSError as exc:\n",
    "            if exc.errno != errno.EEXIST:\n",
    "                raise\n",
    "    \n",
    "    images = glob.glob(path + '/*.' + extension) \n",
    "    size = (width, height)\n",
    "    \n",
    "    for image in images:\n",
    "        filename = image.split('/')[-1]\n",
    "        im = Image.open(image)\n",
    "        im = im.resize(size, Image.ANTIALIAS)\n",
    "        im = im.convert('LA')\n",
    "        im.save(newpath + '/' + filename)\n",
    "    "
   ]
  },
  {
   "cell_type": "code",
   "execution_count": 3,
   "metadata": {},
   "outputs": [],
   "source": [
    "resizeImages('data/NISDCC-all', 'PNG')"
   ]
  },
  {
   "cell_type": "code",
   "execution_count": 4,
   "metadata": {},
   "outputs": [],
   "source": [
    "resizeImages('data/NFI-forgeries', 'png')"
   ]
  },
  {
   "cell_type": "code",
   "execution_count": 5,
   "metadata": {},
   "outputs": [],
   "source": [
    "resizeImages('data/NFI-genuines', 'png')"
   ]
  },
  {
   "cell_type": "code",
   "execution_count": null,
   "metadata": {},
   "outputs": [],
   "source": []
  }
 ],
 "metadata": {
  "kernelspec": {
   "display_name": "Python 3",
   "language": "python",
   "name": "python3"
  },
  "language_info": {
   "codemirror_mode": {
    "name": "ipython",
    "version": 3
   },
   "file_extension": ".py",
   "mimetype": "text/x-python",
   "name": "python",
   "nbconvert_exporter": "python",
   "pygments_lexer": "ipython3",
   "version": "3.7.1"
  }
 },
 "nbformat": 4,
 "nbformat_minor": 2
}
