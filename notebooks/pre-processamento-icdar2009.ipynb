{
 "cells": [
  {
   "cell_type": "markdown",
   "metadata": {},
   "source": [
    "# Resizing Images"
   ]
  },
  {
   "cell_type": "code",
   "execution_count": 1,
   "metadata": {},
   "outputs": [],
   "source": [
    "from PIL import Image\n",
    "import glob\n",
    "import os"
   ]
  },
  {
   "cell_type": "code",
   "execution_count": 20,
   "metadata": {},
   "outputs": [],
   "source": [
    "SIZE = (256,256)\n",
    "MERGED_SIZE = (256,512)"
   ]
  },
  {
   "cell_type": "markdown",
   "metadata": {},
   "source": [
    "## NISDCC Dataset"
   ]
  },
  {
   "cell_type": "code",
   "execution_count": 57,
   "metadata": {},
   "outputs": [],
   "source": [
    "images = glob.glob('data/SigComp2009/NISDCC/NISDCC-all/*.PNG')\n",
    "\n",
    "for image1 in images:    \n",
    "    filename1 = image1.split('/')[-1]\n",
    "    sa1 = filename1[7:10] # simulating author\n",
    "    pa1 = filename1[11:14] # primary author\n",
    "    sign_id1 = filename1[15:18]\n",
    "    \n",
    "    im1 = Image.open(image1)\n",
    "    im1 = im1.resize(SIZE, Image.ANTIALIAS)\n",
    "    im1 = im1.convert('LA')\n",
    "    \n",
    "    if(sa1 == pa1): # if the signature is genuine\n",
    "        for image2 in images:\n",
    "            filename2 = image2.split('/')[-1]\n",
    "            sa2 = filename2[7:10]\n",
    "            pa2 = filename2[11:14]\n",
    "            sign_id2 = filename2[15:18]\n",
    "            \n",
    "            if(pa1 == pa2): # only signatures from the primary author 1\n",
    "                im2 = Image.open(image2)\n",
    "                im2 = im2.resize(SIZE, Image.ANTIALIAS)\n",
    "                im2 = im2.convert('LA')\n",
    "\n",
    "                new_im = Image.new('LA', MERGED_SIZE)\n",
    "\n",
    "                new_im.paste(im1, (0,0))\n",
    "                new_im.paste(im2, (0,256))\n",
    "                new_im = new_im.resize(SIZE, Image.ANTIALIAS)\n",
    "            \n",
    "                path = '/'.join(image2.split('/')[0:-2])\n",
    "                \n",
    "                if(pa1 == sa2): # genuine example\n",
    "                    path = path + '/NISDCC-genuines-preprocessed/'\n",
    "                    filename = '-'.join([pa1,sa2,sign_id1, sign_id2]) + '.png'\n",
    "                else: # forgerie example\n",
    "                    path = path + '/NISDCC-forgeries-preprocessed/'\n",
    "                    filename = '-'.join([pa1,sa2,sign_id1, sign_id2]) + '.png'\n",
    "\n",
    "                if not os.path.exists(path):\n",
    "                    os.makedirs(path)\n",
    "                    \n",
    "                new_im.save(path+filename)\n"
   ]
  },
  {
   "cell_type": "markdown",
   "metadata": {},
   "source": [
    "## NFI Dataset"
   ]
  },
  {
   "cell_type": "code",
   "execution_count": 54,
   "metadata": {
    "scrolled": true
   },
   "outputs": [],
   "source": [
    "genuine_images = glob.glob('data/SigComp2009/NFI/NFI-genuines/*.png')\n",
    "forgerie_images = glob.glob('data/SigComp2009/NFI/NFI-forgeries/*.png')\n",
    "\n",
    "forgeries = []\n",
    "\n",
    "for image in forgerie_images:\n",
    "    filename = image.split('/')[-1]\n",
    "    sa = filename[4:7]\n",
    "    pa = filename[9:12]\n",
    "    \n",
    "    if pa not in forgeries: forgeries.append(pa)\n",
    "\n",
    "for image1 in genuine_images:\n",
    "    filename1 = image1.split('/')[-1]\n",
    "    sa1 = filename1[4:7]\n",
    "    sign_id1 = filename1[7:9]\n",
    "    pa1 = filename1[9:12]\n",
    "    \n",
    "    im1 = Image.open(image1)\n",
    "    im1 = im1.resize(SIZE, Image.ANTIALIAS)\n",
    "    im1 = im1.convert('LA')\n",
    "    \n",
    "    for image2 in (genuine_images+forgerie_images):\n",
    "        filename2 = image2.split('/')[-1]\n",
    "        sa2 = filename2[4:7]\n",
    "        sign_id2 = filename2[7:9]\n",
    "        pa2 = filename2[9:12]\n",
    "        \n",
    "        if (pa1 == pa2) and (pa1 in forgeries): # the primary author must have genuine and forgerie signatures\n",
    "            im2 = Image.open(image2)\n",
    "            im2 = im2.resize(SIZE, Image.ANTIALIAS)\n",
    "            im2 = im2.convert('LA')\n",
    "\n",
    "            new_im = Image.new('LA', MERGED_SIZE)\n",
    "\n",
    "            new_im.paste(im1, (0,0))\n",
    "            new_im.paste(im2, (0,256))\n",
    "            new_im = new_im.resize(SIZE, Image.ANTIALIAS)\n",
    "\n",
    "            path = '/'.join(image2.split('/')[0:-2])\n",
    "            \n",
    "            if (pa2 == sa2):\n",
    "                path = path + '/NFI-genuines-preprocessed/'\n",
    "                filename = '-'.join([pa1,sa2,sign_id1, sign_id2]) + '.png'\n",
    "            else:\n",
    "                path = path + '/NFI-forgeries-preprocessed/'\n",
    "                filename = '-'.join([pa1,sa2,sign_id1, sign_id2]) + '.png'\n",
    "                    \n",
    "            if not os.path.exists(path):\n",
    "                    os.makedirs(path)\n",
    "                    \n",
    "            new_im.save(path+filename)"
   ]
  },
  {
   "cell_type": "markdown",
   "metadata": {},
   "source": [
    "## Resizing Test for Two Images"
   ]
  },
  {
   "cell_type": "code",
   "execution_count": 2,
   "metadata": {},
   "outputs": [],
   "source": [
    "# teste da imagem\n",
    "im1 = Image.open(\"data/SigComp2009/NISDCC-all/NISDCC-001_001_001_6g.PNG\")\n",
    "im1 = im1.resize((256,256), Image.ANTIALIAS)\n",
    "im1 = im1.convert('LA')\n",
    "\n",
    "im2 = Image.open(\"data/SigComp2009/NISDCC-all/NISDCC-001_001_002_6g.PNG\")\n",
    "im2 = im2.resize((256,256), Image.ANTIALIAS)\n",
    "im2 = im2.convert('LA')\n",
    "\n",
    "new_im = Image.new('LA', (256,512))\n",
    "            \n",
    "new_im.paste(im1, (0,0))\n",
    "new_im.paste(im2, (0,256))\n",
    "\n",
    "new_im = new_im.resize((256,256), Image.ANTIALIAS)\n",
    "new_im.save('test.png')"
   ]
  },
  {
   "cell_type": "code",
   "execution_count": null,
   "metadata": {},
   "outputs": [],
   "source": []
  }
 ],
 "metadata": {
  "kernelspec": {
   "display_name": "Python 3",
   "language": "python",
   "name": "python3"
  },
  "language_info": {
   "codemirror_mode": {
    "name": "ipython",
    "version": 3
   },
   "file_extension": ".py",
   "mimetype": "text/x-python",
   "name": "python",
   "nbconvert_exporter": "python",
   "pygments_lexer": "ipython3",
   "version": "3.7.1"
  }
 },
 "nbformat": 4,
 "nbformat_minor": 2
}
