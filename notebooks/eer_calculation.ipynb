{
 "cells": [
  {
   "cell_type": "code",
   "execution_count": 1,
   "metadata": {},
   "outputs": [
    {
     "name": "stderr",
     "output_type": "stream",
     "text": [
      "Using TensorFlow backend.\n"
     ]
    },
    {
     "data": {
      "text/plain": [
       "['/job:localhost/replica:0/task:0/device:GPU:0']"
      ]
     },
     "execution_count": 1,
     "metadata": {},
     "output_type": "execute_result"
    }
   ],
   "source": [
    "from keras import backend as K\n",
    "K.tensorflow_backend._get_available_gpus()"
   ]
  },
  {
   "cell_type": "code",
   "execution_count": 2,
   "metadata": {},
   "outputs": [],
   "source": [
    "import os\n",
    "import keras\n",
    "import pandas as pd\n",
    "from keras.preprocessing.image import ImageDataGenerator\n",
    "import numpy as np\n",
    "from sklearn.metrics import f1_score, confusion_matrix, accuracy_score, classification_report\n",
    "from sklearn.metrics import roc_curve, auc\n",
    "import matplotlib.pyplot as plt\n",
    "from keras.optimizers import SGD, RMSprop, Adam\n",
    "from keras.callbacks import EarlyStopping\n",
    "import itertools\n",
    "from models import AlexNet, LeNet"
   ]
  },
  {
   "cell_type": "code",
   "execution_count": 3,
   "metadata": {},
   "outputs": [],
   "source": [
    "os.environ[\"CUDA_DEVICE_ORDER\"] = \"PCI_BUS_ID\"\n",
    "os.environ[\"CUDA_VISIBLE_DEVICES\"] = \"0\""
   ]
  },
  {
   "cell_type": "code",
   "execution_count": 4,
   "metadata": {},
   "outputs": [
    {
     "name": "stdout",
     "output_type": "stream",
     "text": [
      "WARNING:tensorflow:From /home/indtusuario/anaconda3/envs/tcc/lib/python3.7/site-packages/tensorflow/python/framework/op_def_library.py:263: colocate_with (from tensorflow.python.framework.ops) is deprecated and will be removed in a future version.\n",
      "Instructions for updating:\n",
      "Colocations handled automatically by placer.\n"
     ]
    }
   ],
   "source": [
    "model = LeNet(img_width=256, img_height=256, img_depth=1, activation='relu')"
   ]
  },
  {
   "cell_type": "code",
   "execution_count": 5,
   "metadata": {},
   "outputs": [
    {
     "name": "stderr",
     "output_type": "stream",
     "text": [
      "/home/indtusuario/anaconda3/envs/tcc/lib/python3.7/site-packages/keras/engine/sequential.py:110: UserWarning: `Sequential.model` is deprecated. `Sequential` is a subclass of `Model`, you can just use your `Sequential` instance directly.\n",
      "  warnings.warn('`Sequential.model` is deprecated. '\n"
     ]
    }
   ],
   "source": [
    "model.model.load_weights('weights/new_approach-lenet-rmsprop-5-relu.h5')"
   ]
  },
  {
   "cell_type": "code",
   "execution_count": 6,
   "metadata": {},
   "outputs": [],
   "source": [
    "sgd = SGD(lr=0.01, decay=1e-6, momentum=0.9)\n",
    "rmsprop = RMSprop(lr=1e-4)\n",
    "adam = Adam(lr=0.01, beta_1=0.9, beta_2=0.999, epsilon=None, decay=0.00001, amsgrad=True)"
   ]
  },
  {
   "cell_type": "code",
   "execution_count": 7,
   "metadata": {},
   "outputs": [],
   "source": [
    "model.model.compile(loss='binary_crossentropy',\n",
    "    optimizer=rmsprop,\n",
    "    metrics=['acc'])"
   ]
  },
  {
   "cell_type": "code",
   "execution_count": 8,
   "metadata": {
    "scrolled": true
   },
   "outputs": [
    {
     "name": "stdout",
     "output_type": "stream",
     "text": [
      "_________________________________________________________________\n",
      "Layer (type)                 Output Shape              Param #   \n",
      "=================================================================\n",
      "conv_1 (Conv2D)              (None, 252, 252, 6)       156       \n",
      "_________________________________________________________________\n",
      "activation_1 (Activation)    (None, 252, 252, 6)       0         \n",
      "_________________________________________________________________\n",
      "max_pooling2d_1 (MaxPooling2 (None, 126, 126, 6)       0         \n",
      "_________________________________________________________________\n",
      "batch_normalization_1 (Batch (None, 126, 126, 6)       24        \n",
      "_________________________________________________________________\n",
      "conv_2 (Conv2D)              (None, 122, 122, 16)      2416      \n",
      "_________________________________________________________________\n",
      "activation_2 (Activation)    (None, 122, 122, 16)      0         \n",
      "_________________________________________________________________\n",
      "max_pooling2d_2 (MaxPooling2 (None, 61, 61, 16)        0         \n",
      "_________________________________________________________________\n",
      "batch_normalization_2 (Batch (None, 61, 61, 16)        64        \n",
      "_________________________________________________________________\n",
      "flatten_1 (Flatten)          (None, 59536)             0         \n",
      "_________________________________________________________________\n",
      "dense_1 (Dense)              (None, 120)               7144440   \n",
      "_________________________________________________________________\n",
      "activation_3 (Activation)    (None, 120)               0         \n",
      "_________________________________________________________________\n",
      "batch_normalization_3 (Batch (None, 120)               480       \n",
      "_________________________________________________________________\n",
      "dense_2 (Dense)              (None, 84)                10164     \n",
      "_________________________________________________________________\n",
      "activation_4 (Activation)    (None, 84)                0         \n",
      "_________________________________________________________________\n",
      "batch_normalization_4 (Batch (None, 84)                336       \n",
      "_________________________________________________________________\n",
      "dense_3 (Dense)              (None, 1)                 85        \n",
      "_________________________________________________________________\n",
      "activation_5 (Activation)    (None, 1)                 0         \n",
      "=================================================================\n",
      "Total params: 7,158,165\n",
      "Trainable params: 7,157,713\n",
      "Non-trainable params: 452\n",
      "_________________________________________________________________\n"
     ]
    }
   ],
   "source": [
    "model.model.summary()"
   ]
  },
  {
   "cell_type": "code",
   "execution_count": 9,
   "metadata": {},
   "outputs": [],
   "source": [
    "test_datagen = ImageDataGenerator(rescale=1./255)\n",
    "\n",
    "test_path = '../data/new_approach/test/'"
   ]
  },
  {
   "cell_type": "code",
   "execution_count": 10,
   "metadata": {},
   "outputs": [
    {
     "name": "stdout",
     "output_type": "stream",
     "text": [
      "Found 8376 images belonging to 2 classes.\n"
     ]
    }
   ],
   "source": [
    "test_generator = test_datagen.flow_from_directory(test_path,\n",
    "                                                  class_mode=None,\n",
    "                                                 color_mode='grayscale',\n",
    "                                                  batch_size=1,\n",
    "                                                 shuffle=False,\n",
    "                                                 seed=42)"
   ]
  },
  {
   "cell_type": "code",
   "execution_count": 11,
   "metadata": {},
   "outputs": [],
   "source": [
    "STEP_SIZE_TEST = test_generator.n//test_generator.batch_size"
   ]
  },
  {
   "cell_type": "code",
   "execution_count": 12,
   "metadata": {},
   "outputs": [
    {
     "name": "stdout",
     "output_type": "stream",
     "text": [
      "8376/8376 [==============================] - 98s 12ms/step\n"
     ]
    }
   ],
   "source": [
    "results = model.model.predict_generator(test_generator,\n",
    "                                        steps=STEP_SIZE_TEST,\n",
    "                                       verbose=1)"
   ]
  },
  {
   "cell_type": "code",
   "execution_count": 13,
   "metadata": {
    "scrolled": true
   },
   "outputs": [
    {
     "data": {
      "text/plain": [
       "array([[2.7970200e-08],\n",
       "       [2.2344910e-09],\n",
       "       [2.4832604e-08],\n",
       "       ...,\n",
       "       [9.9996591e-01],\n",
       "       [9.9947196e-01],\n",
       "       [9.9993527e-01]], dtype=float32)"
      ]
     },
     "execution_count": 13,
     "metadata": {},
     "output_type": "execute_result"
    }
   ],
   "source": [
    "results"
   ]
  },
  {
   "cell_type": "code",
   "execution_count": 36,
   "metadata": {},
   "outputs": [],
   "source": [
    "y_pred = results.copy()\n",
    "y_pred = [1 if i >= 0.5 else 0 for i in results]"
   ]
  },
  {
   "cell_type": "code",
   "execution_count": 14,
   "metadata": {},
   "outputs": [
    {
     "data": {
      "text/plain": [
       "array([0, 0, 0, ..., 1, 1, 1], dtype=int32)"
      ]
     },
     "execution_count": 14,
     "metadata": {},
     "output_type": "execute_result"
    }
   ],
   "source": [
    "y_true = test_generator.classes\n",
    "y_true"
   ]
  },
  {
   "cell_type": "code",
   "execution_count": 38,
   "metadata": {},
   "outputs": [
    {
     "name": "stdout",
     "output_type": "stream",
     "text": [
      "Acurácia:  0.9865090735434575\n",
      "F-score:  0.9754721076622531\n"
     ]
    }
   ],
   "source": [
    "print(\"Acurácia: \", accuracy_score(y_true, y_pred))\n",
    "print(\"F-score: \", f1_score(y_true, y_pred))"
   ]
  },
  {
   "cell_type": "code",
   "execution_count": 39,
   "metadata": {},
   "outputs": [
    {
     "data": {
      "text/plain": [
       "array([[6016,  103],\n",
       "       [  10, 2247]])"
      ]
     },
     "execution_count": 39,
     "metadata": {},
     "output_type": "execute_result"
    }
   ],
   "source": [
    "confusion_matrix(y_true, y_pred)"
   ]
  },
  {
   "cell_type": "code",
   "execution_count": 40,
   "metadata": {},
   "outputs": [
    {
     "data": {
      "text/plain": [
       "array([[6016,  103],\n",
       "       [  10, 2247]])"
      ]
     },
     "execution_count": 40,
     "metadata": {},
     "output_type": "execute_result"
    }
   ],
   "source": [
    "confusion_matrix(y_true, y_pred)"
   ]
  },
  {
   "cell_type": "code",
   "execution_count": 56,
   "metadata": {},
   "outputs": [],
   "source": [
    "fpr, tpr, threshold = roc_curve(y_true, results, pos_label=1)\n",
    "roc_auc = auc(fpr, tpr)"
   ]
  },
  {
   "cell_type": "code",
   "execution_count": 43,
   "metadata": {},
   "outputs": [
    {
     "data": {
      "image/png": "[encoded data removed]",
      "text/plain": [
       "<Figure size 432x288 with 1 Axes>"
      ]
     },
     "metadata": {
      "needs_background": "light"
     },
     "output_type": "display_data"
    }
   ],
   "source": [
    "plt.title('Receiver Operating Characteristic')\n",
    "plt.plot(fpr, tpr, 'b', label = 'AUC = %0.2f' % roc_auc)\n",
    "plt.legend(loc = 'lower right')\n",
    "plt.plot([0, 1], [0, 1],'r--')\n",
    "plt.xlim([0, 1])\n",
    "plt.ylim([0, 1])\n",
    "plt.ylabel('True Positive Rate')\n",
    "plt.xlabel('False Positive Rate')\n",
    "plt.show()"
   ]
  },
  {
   "cell_type": "code",
   "execution_count": 44,
   "metadata": {},
   "outputs": [],
   "source": [
    "from scipy.optimize import brentq\n",
    "from scipy.interpolate import interp1d"
   ]
  },
  {
   "cell_type": "code",
   "execution_count": 67,
   "metadata": {},
   "outputs": [],
   "source": [
    "eer = brentq(lambda x : 1. - x - interp1d(fpr,tpr)(x), 0., 1.)\n",
    "thresh = interp1d(fpr, threshold)(eer)"
   ]
  },
  {
   "cell_type": "code",
   "execution_count": 68,
   "metadata": {},
   "outputs": [
    {
     "data": {
      "text/plain": [
       "1.1678678520700716"
      ]
     },
     "execution_count": 68,
     "metadata": {},
     "output_type": "execute_result"
    }
   ],
   "source": [
    "eer*100"
   ]
  },
  {
   "cell_type": "code",
   "execution_count": 34,
   "metadata": {},
   "outputs": [
    {
     "name": "stdout",
     "output_type": "stream",
     "text": [
      "              precision    recall  f1-score   support\n",
      "\n",
      "           0       1.00      1.00      1.00     13633\n",
      "           1       0.00      0.00      0.00         0\n",
      "\n",
      "    accuracy                           1.00     13633\n",
      "   macro avg       0.50      0.50      0.50     13633\n",
      "weighted avg       1.00      1.00      1.00     13633\n",
      "\n"
     ]
    },
    {
     "name": "stderr",
     "output_type": "stream",
     "text": [
      "/home/indtusuario/anaconda3/envs/tcc/lib/python3.7/site-packages/sklearn/metrics/classification.py:1439: UndefinedMetricWarning: Recall and F-score are ill-defined and being set to 0.0 in labels with no true samples.\n",
      "  'recall', 'true', average, warn_for)\n"
     ]
    }
   ],
   "source": [
    "print(classification_report(y_true, y_pred))"
   ]
  },
  {
   "cell_type": "code",
   "execution_count": 21,
   "metadata": {},
   "outputs": [],
   "source": [
    "labels = (test_generator.class_indices)\n",
    "labels = dict((v,k) for k, v in labels.items())\n",
    "predictions = [labels[k] for k in y_pred]"
   ]
  },
  {
   "cell_type": "code",
   "execution_count": 22,
   "metadata": {},
   "outputs": [],
   "source": [
    "filenames = test_generator.filenames\n",
    "results = pd.DataFrame({\"Filename\": filenames,\n",
    "                        \"Predictions\": predictions})\n",
    "results.to_csv(\"results_2.csv\", index=False)"
   ]
  },
  {
   "cell_type": "markdown",
   "metadata": {},
   "source": [
    "## Testes individuais"
   ]
  },
  {
   "cell_type": "code",
   "execution_count": 24,
   "metadata": {},
   "outputs": [],
   "source": [
    "from keras.preprocessing import image"
   ]
  },
  {
   "cell_type": "code",
   "execution_count": 78,
   "metadata": {},
   "outputs": [],
   "source": [
    "test_image= image.load_img('data/approach2/test/forgerie/024-013-07-02.png', color_mode='grayscale') \n",
    "test_image = image.img_to_array(test_image)\n",
    "test_image = np.expand_dims(test_image, axis = 0)\n",
    "test_image = test_image/255."
   ]
  },
  {
   "cell_type": "code",
   "execution_count": 79,
   "metadata": {},
   "outputs": [],
   "source": [
    "result = model.predict(test_image)"
   ]
  },
  {
   "cell_type": "code",
   "execution_count": 80,
   "metadata": {},
   "outputs": [
    {
     "data": {
      "text/plain": [
       "array([[0.51207256]], dtype=float32)"
      ]
     },
     "execution_count": 80,
     "metadata": {},
     "output_type": "execute_result"
    }
   ],
   "source": [
    "result"
   ]
  },
  {
   "cell_type": "markdown",
   "metadata": {},
   "source": [
    "## Cálculo do EER"
   ]
  },
  {
   "cell_type": "code",
   "execution_count": 50,
   "metadata": {},
   "outputs": [
    {
     "data": {
      "text/plain": [
       "array([[2.7970200e-08],\n",
       "       [2.2344910e-09],\n",
       "       [2.4832604e-08],\n",
       "       ...,\n",
       "       [9.9996591e-01],\n",
       "       [9.9947196e-01],\n",
       "       [9.9993527e-01]], dtype=float32)"
      ]
     },
     "execution_count": 50,
     "metadata": {},
     "output_type": "execute_result"
    }
   ],
   "source": [
    "results"
   ]
  },
  {
   "cell_type": "code",
   "execution_count": 51,
   "metadata": {},
   "outputs": [
    {
     "data": {
      "text/plain": [
       "array([0, 0, 0, ..., 1, 1, 1], dtype=int32)"
      ]
     },
     "execution_count": 51,
     "metadata": {},
     "output_type": "execute_result"
    }
   ],
   "source": [
    "y_true"
   ]
  },
  {
   "cell_type": "code",
   "execution_count": 54,
   "metadata": {},
   "outputs": [],
   "source": [
    "threshold = np.linspace(0,1,num=100)"
   ]
  },
  {
   "cell_type": "code",
   "execution_count": 55,
   "metadata": {},
   "outputs": [
    {
     "data": {
      "text/plain": [
       "8376"
      ]
     },
     "execution_count": 55,
     "metadata": {},
     "output_type": "execute_result"
    }
   ],
   "source": [
    "len(y_true)"
   ]
  },
  {
   "cell_type": "code",
   "execution_count": 76,
   "metadata": {},
   "outputs": [
    {
     "data": {
      "text/plain": [
       "[<matplotlib.lines.Line2D at 0x7f98deaedb70>]"
      ]
     },
     "execution_count": 76,
     "metadata": {},
     "output_type": "execute_result"
    },
    {
     "data": {
      "image/png": "[encoded data removed]",
      "text/plain": [
       "<Figure size 432x288 with 1 Axes>"
      ]
     },
     "metadata": {
      "needs_background": "light"
     },
     "output_type": "display_data"
    }
   ],
   "source": [
    "plt.plot(fpr, threshold)\n",
    "plt.plot(1-tpr, threshold)"
   ]
  },
  {
   "cell_type": "code",
   "execution_count": 87,
   "metadata": {},
   "outputs": [],
   "source": [
    "fpr, tpr, threshold = roc_curve(y_true, results, pos_label=1)\n",
    "fnr = 1 - tpr\n",
    "eer = brentq(lambda x : 1. - x - interp1d(fpr,tpr)(x), 0., 1., full_output=True)"
   ]
  },
  {
   "cell_type": "code",
   "execution_count": 89,
   "metadata": {},
   "outputs": [
    {
     "data": {
      "text/plain": [
       "(0.011678678520700717,       converged: True\n",
       "            flag: 'converged'\n",
       "  function_calls: 14\n",
       "      iterations: 13\n",
       "            root: 0.011678678520700717)"
      ]
     },
     "execution_count": 89,
     "metadata": {},
     "output_type": "execute_result"
    }
   ],
   "source": [
    "eer"
   ]
  },
  {
   "cell_type": "code",
   "execution_count": 77,
   "metadata": {
    "scrolled": true
   },
   "outputs": [
    {
     "data": {
      "text/plain": [
       "array([2.0000000e+00, 1.0000000e+00, 9.9999988e-01, 9.9999976e-01,\n",
       "       9.9999964e-01, 9.9999952e-01, 9.9999940e-01, 9.9999928e-01,\n",
       "       9.9999905e-01, 9.9999893e-01, 9.9999881e-01, 9.9999869e-01,\n",
       "       9.9999857e-01, 9.9999845e-01, 9.9999833e-01, 9.9999821e-01,\n",
       "       9.9999809e-01, 9.9999797e-01, 9.9999785e-01, 9.9999774e-01,\n",
       "       9.9999762e-01, 9.9999750e-01, 9.9999738e-01, 9.9999726e-01,\n",
       "       9.9999714e-01, 9.9999702e-01, 9.9999690e-01, 9.9999678e-01,\n",
       "       9.9999666e-01, 9.9999642e-01, 9.9999630e-01, 9.9999619e-01,\n",
       "       9.9999607e-01, 9.9999595e-01, 9.9999571e-01, 9.9999559e-01,\n",
       "       9.9999547e-01, 9.9999535e-01, 9.9999523e-01, 9.9999499e-01,\n",
       "       9.9999487e-01, 9.9999475e-01, 9.9999464e-01, 9.9999452e-01,\n",
       "       9.9999440e-01, 9.9999428e-01, 9.9999416e-01, 9.9999404e-01,\n",
       "       9.9999392e-01, 9.9999380e-01, 9.9999368e-01, 9.9999356e-01,\n",
       "       9.9999332e-01, 9.9999321e-01, 9.9999309e-01, 9.9999297e-01,\n",
       "       9.9999285e-01, 9.9999273e-01, 9.9999261e-01, 9.9999249e-01,\n",
       "       9.9999237e-01, 9.9999213e-01, 9.9999201e-01, 9.9999166e-01,\n",
       "       9.9999154e-01, 9.9999142e-01, 9.9999130e-01, 9.9999118e-01,\n",
       "       9.9999082e-01, 9.9999070e-01, 9.9999058e-01, 9.9999046e-01,\n",
       "       9.9999034e-01, 9.9998999e-01, 9.9998975e-01, 9.9998963e-01,\n",
       "       9.9998939e-01, 9.9998927e-01, 9.9998879e-01, 9.9998868e-01,\n",
       "       9.9998856e-01, 9.9998820e-01, 9.9998796e-01, 9.9998784e-01,\n",
       "       9.9998760e-01, 9.9998736e-01, 9.9998701e-01, 9.9998677e-01,\n",
       "       9.9998653e-01, 9.9998641e-01, 9.9998629e-01, 9.9998617e-01,\n",
       "       9.9998605e-01, 9.9998569e-01, 9.9998546e-01, 9.9998534e-01,\n",
       "       9.9998510e-01, 9.9998486e-01, 9.9998462e-01, 9.9998438e-01,\n",
       "       9.9998426e-01, 9.9998415e-01, 9.9998391e-01, 9.9998367e-01,\n",
       "       9.9998295e-01, 9.9998271e-01, 9.9998224e-01, 9.9998176e-01,\n",
       "       9.9998164e-01, 9.9998152e-01, 9.9998128e-01, 9.9998116e-01,\n",
       "       9.9998093e-01, 9.9998069e-01, 9.9998057e-01, 9.9997997e-01,\n",
       "       9.9997962e-01, 9.9997938e-01, 9.9997926e-01, 9.9997902e-01,\n",
       "       9.9997890e-01, 9.9997866e-01, 9.9997854e-01, 9.9997842e-01,\n",
       "       9.9997795e-01, 9.9997747e-01, 9.9997652e-01, 9.9997628e-01,\n",
       "       9.9997616e-01, 9.9997592e-01, 9.9997556e-01, 9.9997544e-01,\n",
       "       9.9997532e-01, 9.9997520e-01, 9.9997509e-01, 9.9997449e-01,\n",
       "       9.9997389e-01, 9.9997365e-01, 9.9997354e-01, 9.9997246e-01,\n",
       "       9.9997222e-01, 9.9997199e-01, 9.9997187e-01, 9.9996984e-01,\n",
       "       9.9996972e-01, 9.9996901e-01, 9.9996865e-01, 9.9996841e-01,\n",
       "       9.9996805e-01, 9.9996793e-01, 9.9996781e-01, 9.9996758e-01,\n",
       "       9.9996734e-01, 9.9996722e-01, 9.9996698e-01, 9.9996674e-01,\n",
       "       9.9996662e-01, 9.9996626e-01, 9.9996591e-01, 9.9996567e-01,\n",
       "       9.9996543e-01, 9.9996507e-01, 9.9996471e-01, 9.9996459e-01,\n",
       "       9.9996257e-01, 9.9996209e-01, 9.9996185e-01, 9.9996173e-01,\n",
       "       9.9996150e-01, 9.9996138e-01, 9.9996102e-01, 9.9996090e-01,\n",
       "       9.9996078e-01, 9.9996018e-01, 9.9995983e-01, 9.9995899e-01,\n",
       "       9.9995863e-01, 9.9995816e-01, 9.9995804e-01, 9.9995661e-01,\n",
       "       9.9995613e-01, 9.9995589e-01, 9.9995577e-01, 9.9995542e-01,\n",
       "       9.9995530e-01, 9.9995470e-01, 9.9995434e-01, 9.9995410e-01,\n",
       "       9.9995375e-01, 9.9995112e-01, 9.9995089e-01, 9.9994755e-01,\n",
       "       9.9994743e-01, 9.9994731e-01, 9.9994719e-01, 9.9994600e-01,\n",
       "       9.9994540e-01, 9.9994433e-01, 9.9994385e-01, 9.9994028e-01,\n",
       "       9.9993956e-01, 9.9993610e-01, 9.9993598e-01, 9.9993575e-01,\n",
       "       9.9993563e-01, 9.9993455e-01, 9.9993420e-01, 9.9993110e-01,\n",
       "       9.9993086e-01, 9.9992836e-01, 9.9992824e-01, 9.9992812e-01,\n",
       "       9.9992478e-01, 9.9992406e-01, 9.9992275e-01, 9.9992251e-01,\n",
       "       9.9992073e-01, 9.9992037e-01, 9.9991941e-01, 9.9991894e-01,\n",
       "       9.9991751e-01, 9.9991727e-01, 9.9991393e-01, 9.9991381e-01,\n",
       "       9.9991131e-01, 9.9991119e-01, 9.9991095e-01, 9.9991083e-01,\n",
       "       9.9990237e-01, 9.9990153e-01, 9.9990082e-01, 9.9990058e-01,\n",
       "       9.9989963e-01, 9.9989903e-01, 9.9988627e-01, 9.9988532e-01,\n",
       "       9.9988186e-01, 9.9988174e-01, 9.9988067e-01, 9.9987948e-01,\n",
       "       9.9987793e-01, 9.9987745e-01, 9.9987423e-01, 9.9987388e-01,\n",
       "       9.9987364e-01, 9.9987328e-01, 9.9986160e-01, 9.9986112e-01,\n",
       "       9.9985886e-01, 9.9985600e-01, 9.9985564e-01, 9.9985492e-01,\n",
       "       9.9985027e-01, 9.9985003e-01, 9.9984431e-01, 9.9984360e-01,\n",
       "       9.9984288e-01, 9.9984252e-01, 9.9984205e-01, 9.9984181e-01,\n",
       "       9.9983716e-01, 9.9983585e-01, 9.9982649e-01, 9.9982506e-01,\n",
       "       9.9979848e-01, 9.9979812e-01, 9.9979633e-01, 9.9979526e-01,\n",
       "       9.9978918e-01, 9.9978894e-01, 9.9975771e-01, 9.9975711e-01,\n",
       "       9.9968946e-01, 9.9968755e-01, 9.9967587e-01, 9.9966896e-01,\n",
       "       9.9964094e-01, 9.9963844e-01, 9.9952769e-01, 9.9952745e-01,\n",
       "       9.9942774e-01, 9.9942470e-01, 9.9867731e-01, 9.9866438e-01,\n",
       "       9.9790299e-01, 9.9790239e-01, 9.9559832e-01, 9.9557519e-01,\n",
       "       9.9494487e-01, 9.9491787e-01, 9.9375957e-01, 9.9373323e-01,\n",
       "       9.9365342e-01, 9.9364519e-01, 9.9161971e-01, 9.9156970e-01,\n",
       "       9.8714221e-01, 9.8711616e-01, 9.8640579e-01, 9.8624289e-01,\n",
       "       9.8557019e-01, 9.8553824e-01, 9.8522437e-01, 9.8496544e-01,\n",
       "       9.8476160e-01, 9.8471707e-01, 9.8469931e-01, 9.8460084e-01,\n",
       "       9.8334265e-01, 9.8311484e-01, 9.7749054e-01, 9.7740990e-01,\n",
       "       9.7600251e-01, 9.7542089e-01, 9.7297949e-01, 9.7284645e-01,\n",
       "       9.7216457e-01, 9.7205746e-01, 9.6984392e-01, 9.6890020e-01,\n",
       "       9.6483064e-01, 9.6460938e-01, 9.6154690e-01, 9.5999342e-01,\n",
       "       9.5878583e-01, 9.5750290e-01, 9.5590365e-01, 9.5530832e-01,\n",
       "       9.4440162e-01, 9.4428378e-01, 9.3287003e-01, 9.3260640e-01,\n",
       "       9.3034953e-01, 9.2941642e-01, 9.2446047e-01, 9.2430687e-01,\n",
       "       9.1958016e-01, 9.1824663e-01, 9.1410726e-01, 9.1271895e-01,\n",
       "       9.1119331e-01, 9.1053069e-01, 9.0710157e-01, 9.0147507e-01,\n",
       "       8.9796734e-01, 8.9616531e-01, 8.9479059e-01, 8.9401853e-01,\n",
       "       8.9320046e-01, 8.9262998e-01, 8.9126921e-01, 8.8736171e-01,\n",
       "       8.8630861e-01, 8.8503569e-01, 8.7407148e-01, 8.6439055e-01,\n",
       "       8.6166620e-01, 8.5919988e-01, 8.5911584e-01, 8.5696119e-01,\n",
       "       8.5626823e-01, 8.5564214e-01, 8.5355276e-01, 8.5114276e-01,\n",
       "       8.4905624e-01, 8.4635758e-01, 8.4558934e-01, 8.4287590e-01,\n",
       "       8.3623588e-01, 8.1390476e-01, 8.1039709e-01, 8.0110073e-01,\n",
       "       7.9455113e-01, 7.9252166e-01, 7.9193574e-01, 7.7428645e-01,\n",
       "       7.7140146e-01, 7.6663953e-01, 7.4598968e-01, 7.3855931e-01,\n",
       "       7.2897720e-01, 7.2007143e-01, 7.1002769e-01, 7.0238280e-01,\n",
       "       7.0129830e-01, 7.0119739e-01, 6.9865900e-01, 6.6881335e-01,\n",
       "       6.4023864e-01, 6.3163871e-01, 6.2384713e-01, 6.0877317e-01,\n",
       "       6.0283768e-01, 5.9598947e-01, 5.9120232e-01, 5.8514100e-01,\n",
       "       5.8362168e-01, 5.5144238e-01, 5.5136275e-01, 5.4990858e-01,\n",
       "       5.4615998e-01, 5.0921822e-01, 5.0038666e-01, 4.7792768e-01,\n",
       "       4.7670227e-01, 4.7029856e-01, 4.6033224e-01, 4.4310954e-01,\n",
       "       4.3764657e-01, 3.9415771e-01, 3.8516688e-01, 3.6486486e-01,\n",
       "       3.6382940e-01, 3.5291520e-01, 3.4072119e-01, 1.7816898e-01,\n",
       "       1.6681705e-01, 1.6424258e-01, 1.6391119e-01, 1.3966773e-09,\n",
       "       1.3929475e-09, 1.5604624e-12], dtype=float32)"
      ]
     },
     "execution_count": 77,
     "metadata": {},
     "output_type": "execute_result"
    }
   ],
   "source": [
    "threshold"
   ]
  },
  {
   "cell_type": "code",
   "execution_count": 86,
   "metadata": {},
   "outputs": [
    {
     "data": {
      "text/plain": [
       "-0.30000000000000004"
      ]
     },
     "execution_count": 86,
     "metadata": {},
     "output_type": "execute_result"
    }
   ],
   "source": [
    "1. - 0.3 - interp1d(fpr,tpr)(0.3)"
   ]
  },
  {
   "cell_type": "code",
   "execution_count": 91,
   "metadata": {},
   "outputs": [],
   "source": [
    "def f(x):\n",
    "   return(1. - x - interp1d(fpr,tpr)(x))"
   ]
  },
  {
   "cell_type": "code",
   "execution_count": 92,
   "metadata": {},
   "outputs": [
    {
     "data": {
      "text/plain": [
       "0.011678678520700717"
      ]
     },
     "execution_count": 92,
     "metadata": {},
     "output_type": "execute_result"
    }
   ],
   "source": [
    "brentq(f, 0., 1.)"
   ]
  },
  {
   "cell_type": "code",
   "execution_count": 93,
   "metadata": {},
   "outputs": [
    {
     "data": {
      "text/plain": [
       "0.00022088317826018944"
      ]
     },
     "execution_count": 93,
     "metadata": {},
     "output_type": "execute_result"
    }
   ],
   "source": [
    "f(0.0116)"
   ]
  },
  {
   "cell_type": "code",
   "execution_count": 102,
   "metadata": {},
   "outputs": [],
   "source": [
    "f = interp1d(fpr,tpr)"
   ]
  },
  {
   "cell_type": "code",
   "execution_count": 21,
   "metadata": {},
   "outputs": [
    {
     "name": "stdout",
     "output_type": "stream",
     "text": [
      "[0.3638294041156769, 0.9998470544815063, 0.9965818524360657, 0.9994246959686279, 0.9914473295211792, 0.9715498089790344, 1.0, 0.999943733215332, 1.0, 0.9999997615814209, 0.9998217225074768, 0.9999998807907104, 0.9999239444732666, 0.9999920129776001, 0.9999735355377197, 0.9999998807907104, 1.0, 0.9661316275596619, 0.9999994039535522, 0.9999998807907104, 0.9970018267631531, 0.9998408555984497, 0.9999240636825562, 0.9999943971633911, 0.9908314347267151, 0.9983068704605103, 0.9979814291000366, 0.9985272884368896, 0.9992376565933228, 0.9999991655349731, 0.9999998807907104, 0.9999805688858032, 0.9999817609786987, 0.9721645712852478, 0.9941148161888123, 0.9935011267662048, 1.0, 1.0, 0.9999997615814209, 1.0, 0.9999958276748657, 0.9999767541885376, 0.9999992847442627, 0.999998927116394, 0.9999991655349731, 0.9997952580451965, 0.9999998807907104, 0.9999722242355347, 1.0, 1.0, 1.0, 0.9999972581863403, 0.9999330043792725, 0.9999696016311646, 0.9999994039535522, 0.9999991655349731, 0.9999990463256836, 0.9999992847442627, 1.0, 0.9999998807907104, 0.9999997615814209, 0.9999909400939941, 1.0, 0.9998358488082886, 0.9999949932098389, 0.9937300682067871, 0.9978668093681335, 0.9999943971633911, 0.997373104095459, 0.999998927116394, 0.7919357419013977, 0.9997143149375916, 0.8959824442863464, 0.9725258350372314, 0.9999998807907104, 0.9945153594017029, 0.9970113039016724, 0.7986738681793213, 0.9999948740005493, 1.0, 0.999984622001648, 0.999901533126831, 0.9997398257255554, 0.9992280006408691, 1.0, 0.9997614026069641, 0.9998611211776733, 0.9999579191207886, 0.9999308586120605, 0.998044490814209, 0.9916440844535828, 0.9995195865631104, 1.0, 0.999788224697113, 0.9956597685813904, 0.9944741129875183, 0.9937595725059509, 0.8938052654266357, 0.9886257648468018, 0.9990583062171936, 0.9876750707626343, 0.9952791929244995, 0.9987046718597412, 0.9996083378791809, 0.9699829816818237, 0.9921782612800598, 0.9913451671600342, 0.9929307699203491, 0.9980120658874512, 0.9997454285621643, 0.9992589354515076, 0.9999680519104004, 0.9999947547912598, 0.9979786276817322, 0.9989147186279297, 0.9999972581863403, 0.9998817443847656, 0.9998316764831543, 0.9999973773956299, 0.9999774694442749, 0.9999990463256836, 0.9999997615814209, 0.999589741230011, 0.9998742341995239, 0.9998433589935303, 0.9989451766014099, 0.9998985528945923, 0.999920129776001, 0.9999985694885254, 0.999934196472168, 0.9968836903572083, 0.9986189603805542, 0.5461599826812744, 0.9648306369781494, 0.9999923706054688, 0.9964529275894165, 0.9974144697189331, 0.9929932951927185, 0.9983317255973816, 0.9996728897094727, 0.9998811483383179, 0.9999998807907104, 0.999968409538269, 1.0, 0.9999240636825562, 0.9999977350234985, 0.9999698400497437, 0.9999953508377075, 0.9984561204910278, 0.7100276947021484, 0.99992835521698, 0.9956583976745605, 0.9989633560180664, 0.9995707869529724, 0.9999918937683105, 0.9854593276977539, 0.9999991655349731, 0.9999176263809204, 0.9999723434448242, 0.9999997615814209, 0.9965856075286865, 0.9999403953552246, 0.8979673385620117, 0.9425415992736816, 0.8591158390045166, 0.7541612982749939, 0.38516688346862793, 0.9505836367607117, 0.7530379891395569, 0.7289772033691406, 0.9846993088722229, 0.999987006187439, 0.9795188307762146, 0.9972609281539917, 0.9987057447433472, 0.9995872378349304, 0.9984791874885559, 0.9999988079071045, 0.9999885559082031, 0.9999638795852661, 0.9999972581863403, 0.9999719858169556, 0.9088680744171143, 0.9946181178092957, 0.6986590027809143, 0.9999972581863403, 0.9999996423721313, 0.9997041821479797, 0.9999992847442627, 0.9996077418327332, 0.9995437264442444, 0.9999988079071045, 1.0, 0.9999983310699463, 0.9992656111717224, 0.9999144077301025, 0.9999340772628784, 0.9999991655349731, 0.9999996423721313, 0.99875807762146, 0.9999972581863403, 0.9800786972045898, 0.9999918937683105, 0.9617165327072144, 0.8872362971305847, 0.9963255524635315, 1.0, 0.9936841130256653, 0.9997914433479309, 0.9957330822944641, 0.9999806880950928, 0.9998818635940552, 0.9991067051887512, 0.9155378341674805, 0.9665437340736389, 0.9999998807907104, 0.9970213770866394, 0.9938797950744629, 0.9991753697395325, 1.0, 0.987545907497406, 0.9996374845504761, 0.9997618794441223, 0.9999315738677979, 0.9999581575393677, 0.999995231628418, 0.9998763799667358, 0.999981164932251, 0.998907208442688, 0.987779974937439, 0.999901533126831, 0.9987247586250305, 0.8912692070007324, 0.997473418712616, 0.9999619722366333, 0.9997807145118713, 0.9811887145042419, 0.9930539727210999, 0.9996256828308105, 0.9912466406822205, 0.9999876022338867, 0.9996166229248047, 0.9978852868080139, 0.9999970197677612, 0.9927277565002441, 0.9988952875137329, 0.9999915361404419, 0.9998636245727539, 0.991624653339386, 0.9999778270721436, 0.9993801116943359, 0.9999865293502808, 0.9999678134918213, 0.9998272061347961, 0.9999746084213257, 0.9999959468841553, 0.8995984196662903, 0.9227093458175659, 1.0, 0.9999886751174927, 0.999934196472168, 0.9998292922973633, 0.9999938011169434, 0.9989670515060425, 0.6028376817703247, 0.9987118244171143, 0.9992303848266602, 0.9981957077980042, 0.8535527586936951, 0.9994246959686279, 0.9999991655349731, 0.9999934434890747, 0.9999858140945435, 0.9999904632568359, 0.999994158744812, 0.9986525177955627, 0.9999686479568481, 0.9996681213378906, 0.9999986886978149, 0.999997615814209, 1.0, 0.9999290704727173, 0.9999270439147949, 0.9999986886978149, 1.0, 0.9999972581863403, 0.9998732805252075, 0.9989703893661499, 0.9999998807907104, 0.9988314509391785, 0.9972594976425171, 0.9998589754104614, 0.9981268048286438, 0.9999423027038574, 0.993653416633606, 0.9962900876998901, 0.9980862140655518, 0.999994158744812, 0.9997257590293884, 0.9998130202293396, 0.9952356219291687, 0.9989820122718811, 0.9999345541000366, 0.9993122816085815, 0.9982686042785645, 0.9999557733535767, 0.9999966621398926, 0.9999929666519165, 0.9993919134140015, 0.9998559951782227, 0.9999948740005493, 0.9998264908790588, 0.9999998807907104, 0.9999988079071045, 0.9999996423721313, 0.9999932050704956, 0.999987006187439, 0.9999505281448364, 0.9999121427536011, 0.9999985694885254, 0.9954164028167725, 0.9999985694885254, 0.9990768432617188, 0.999573290348053, 0.9997343420982361, 0.500386655330658, 0.6670829057693481, 0.9991925358772278, 0.9983910322189331, 0.9997979998588562, 0.999987006187439, 0.9999731779098511, 0.9993304014205933, 0.9993597865104675, 0.9998923540115356, 0.9999922513961792, 0.9999980926513672, 0.9999618530273438, 0.999984860420227, 0.9995075464248657, 0.9995385408401489, 0.99996018409729, 0.9970062375068665, 0.9921493530273438, 0.9989219903945923, 0.9996721744537354, 0.999955415725708, 0.9999964237213135, 0.999976634979248, 0.9999326467514038, 0.9999988079071045, 0.9999971389770508, 0.9999912977218628, 0.9993987083435059, 0.999735414981842, 0.9998878240585327, 0.9999948740005493, 0.9999183416366577, 0.9999305009841919, 0.9999949932098389, 0.9999650716781616, 0.9998435974121094, 0.9999998807907104, 0.9998990297317505, 0.9999905824661255, 1.0, 0.9999996423721313, 0.9999023675918579, 0.9999867677688599, 0.9999936819076538, 0.9999935626983643, 0.9989022016525269, 0.999984860420227, 0.9999959468841553, 0.999964714050293, 0.9995163679122925, 0.9992356300354004, 0.9999227523803711, 0.9998530149459839, 0.9999206066131592, 0.9952952265739441, 0.9999517202377319, 0.997848391532898, 0.9998414516448975, 0.9999978542327881, 0.9999189376831055, 0.9978390336036682, 0.9993453621864319, 0.6238471269607544, 0.8863086104393005, 0.9996304512023926, 0.9868653416633606, 0.9433792233467102, 0.972173810005188, 0.9999997615814209, 1.0, 1.0, 0.9999996423721313, 0.9999986886978149, 0.9999980926513672, 0.9999750852584839, 0.9999873638153076, 0.9998871088027954, 0.9999998807907104, 0.9999983310699463, 0.9999998807907104, 0.9999890327453613, 0.9999998807907104, 1.0, 0.9999997615814209, 0.9999982118606567, 0.9999998807907104, 0.999970555305481, 1.0, 0.9999737739562988, 0.9999994039535522, 0.9999607801437378, 0.9943087697029114, 0.9999939203262329, 0.9999995231628418, 0.9999948740005493, 0.9991732239723206, 0.9999988079071045, 0.9999994039535522, 0.9987573623657227, 0.9996384382247925, 0.9999806880950928, 0.9963544607162476, 0.9999524354934692, 0.9997674822807312, 0.9833426475524902, 0.9747578501701355, 0.9996201992034912, 0.9999971389770508, 0.9996565580368042, 0.9999912977218628, 1.0, 0.9997946619987488, 0.9999997615814209, 0.9999843835830688, 0.9974945783615112, 0.9978544116020203, 0.9999979734420776, 0.9996758699417114, 0.966745138168335, 0.999657154083252, 0.9999673366546631, 0.9999998807907104, 1.0, 0.9999035596847534, 0.9999995231628418, 0.9999969005584717, 0.9999991655349731, 0.9999972581863403, 0.9999972581863403, 0.9999561309814453, 0.9999998807907104, 1.0, 0.9457111358642578, 0.999416708946228, 0.9971471428871155, 0.9999972581863403, 0.9999557733535767, 0.9993240833282471, 0.999919056892395, 0.999997615814209, 0.9978949427604675, 0.9999628067016602, 1.0, 0.9999997615814209, 0.9999979734420776, 1.0, 1.0, 0.9998080134391785, 0.9962775111198425, 0.9999997615814209, 0.9999973773956299, 1.0, 0.9998774528503418, 0.999987006187439, 0.5912023186683655, 0.9996989965438843, 0.9999430179595947, 0.9955724477767944, 0.9999115467071533, 0.9981620907783508, 0.16391119360923767, 0.999987006187439, 0.9451672434806824, 0.9895428419113159, 0.9988434314727783, 0.9998668432235718, 0.9999468326568604, 0.9999982118606567, 0.9998406171798706, 0.9999885559082031, 0.9999613761901855, 1.0, 0.9999960660934448, 0.9999614953994751, 0.9998655319213867, 0.9999885559082031, 0.9997305274009705, 0.9999990463256836, 0.9999980926513672, 0.9999727010726929, 0.9999982118606567, 0.99993896484375, 0.999974250793457, 0.9999990463256836, 0.9997281432151794, 0.9975987076759338, 0.9999971389770508, 0.9999998807907104, 0.9999998807907104, 0.9999998807907104, 0.9999998807907104, 0.9999878406524658, 0.9999940395355225, 0.9999980926513672, 0.9999970197677612, 0.9997225403785706, 0.9967483282089233, 1.0, 1.0, 0.9999991655349731, 0.9999992847442627, 0.9999996423721313, 0.9999995231628418, 1.0, 0.9999943971633911, 0.9999589920043945, 0.9998615980148315, 0.9999938011169434, 1.0, 0.9999281167984009, 0.9999994039535522, 0.9999960660934448, 0.9999998807907104, 0.9999972581863403, 0.9999997615814209, 0.9974491000175476, 0.9998169541358948, 0.9999877214431763, 0.9877317547798157, 0.988556981086731, 0.9996028542518616, 0.9952933192253113, 0.990840494632721, 0.9988235831260681, 0.9973313808441162, 0.9969711303710938, 0.9563155770301819, 0.9988712668418884, 0.9615468978881836, 0.9444016218185425, 0.9907428622245789, 0.970619797706604, 0.9991363883018494, 0.9995377063751221, 0.9993560910224915, 0.9952477812767029, 0.9998428821563721, 0.981778621673584, 0.9999951124191284, 1.0, 0.9999998807907104, 0.999993085861206, 0.9870648384094238, 0.9998500347137451, 0.9998418092727661, 0.9852741360664368, 0.9922760128974915, 0.999609649181366, 0.9972943663597107, 0.9798373579978943, 0.9998288154602051, 0.9999927282333374, 0.999985933303833, 0.9999268054962158, 0.9997393488883972, 0.9999977350234985, 0.9996434450149536, 0.9999644756317139, 0.9999994039535522, 1.0, 0.9999464750289917, 0.9994787573814392, 0.9992291927337646, 1.0, 0.998562753200531, 0.9997690320014954, 0.9996590614318848, 0.9991080164909363, 0.9968834519386292, 0.9986010193824768, 0.9990056157112122, 0.9999686479568481, 0.999640941619873, 0.9999960660934448, 0.9998086094856262, 0.99996018409729, 0.9999580383300781, 0.9990611672401428, 0.9999970197677612, 0.9991956353187561, 0.9978031516075134, 0.999995231628418, 0.9992275238037109, 0.9999998807907104, 0.9999860525131226, 0.9995703101158142, 0.9994751811027527, 0.9999747276306152, 0.9999966621398926, 0.9999185800552368, 0.9998542070388794, 0.9593386650085449, 0.9988855719566345, 0.9999901056289673, 0.9941537976264954, 0.9999910593032837, 0.8490562438964844, 0.874071478843689, 0.9997872710227966, 0.9999263286590576, 0.9992202520370483, 0.9774905443191528, 0.9999892711639404, 0.9367694854736328, 0.9999642372131348, 0.9760025143623352, 0.9698439240455627, 0.9998540878295898, 0.9864799380302429, 0.9917952418327332, 0.9999988079071045, 0.9954906105995178, 0.9998118281364441, 0.9997244477272034, 0.9991918206214905, 0.9999988079071045, 0.999947190284729, 0.9999785423278809, 0.9999454021453857, 0.9999260902404785, 0.9999994039535522, 0.9995825886726379, 1.0, 0.9958773851394653, 0.9987358450889587, 0.9999271631240845, 0.9303872585296631, 0.9984513521194458, 0.9999717473983765, 0.9999960660934448, 1.0, 0.9999979734420776, 0.998577356338501, 0.9997838139533997, 0.9999982118606567, 0.9996034502983093, 0.999998927116394, 0.9992789626121521, 0.9999901056289673, 0.9999281167984009, 0.9999984502792358, 0.9999288320541382, 0.999996542930603, 1.0, 1.0, 0.999954342842102, 0.9999942779541016, 0.9993688464164734, 0.9989257454872131, 0.8870094418525696, 0.9996482133865356, 0.9981498718261719, 0.9882809519767761, 0.999583899974823, 0.9858102202415466, 0.9997792840003967, 0.9998223185539246, 0.999929666519165, 0.9999998807907104, 0.999866247177124, 0.9999473094940186, 0.9997243285179138, 1.0, 0.9999005794525146, 0.9998887777328491, 0.9997590184211731, 0.9978092312812805, 0.9983532428741455, 0.9992634654045105, 0.9966250658035278, 0.9999995231628418, 0.999762237071991, 0.9999470710754395, 0.9999598264694214, 0.9999178647994995, 0.9996358156204224, 0.9998371601104736, 0.9999085664749146, 0.9999361038208008, 0.9998032450675964, 0.9996875524520874, 0.9999667406082153, 0.9996115565299988, 0.9999998807907104, 0.9993945360183716, 0.9999052286148071, 0.9997404217720032, 0.9998681545257568, 0.9994884729385376, 0.9990422129631042, 0.9997352957725525, 0.999881386756897, 0.9938650727272034, 0.9999138116836548, 0.9973127245903015, 0.9934117197990417, 0.9998300075531006, 0.9999537467956543, 0.9968075752258301, 0.9999932050704956, 0.9994463324546814, 0.9977062940597534, 0.9723412990570068, 0.9980530738830566, 0.999459445476532, 0.9999738931655884, 0.9999071359634399, 0.9999740123748779, 0.9982821941375732, 0.9999712705612183, 0.9981827735900879, 0.9999946355819702, 0.9994863271713257, 0.9928885102272034, 0.999997615814209, 0.9765028953552246, 0.9998574256896973, 0.9999997615814209, 0.9328700304031372, 0.9991291165351868, 0.9999282360076904, 1.0, 0.9999991655349731, 0.9999974966049194, 0.9999996423721313, 0.9940896034240723, 0.9991462230682373, 0.9997879862785339, 0.999998927116394, 0.9982411861419678, 0.9999996423721313, 0.9999996423721313, 0.9999507665634155, 0.9999111890792847, 0.9999954700469971, 0.9852243661880493, 0.9999567270278931, 0.999957799911499, 0.9998489618301392, 0.9999926090240479, 0.9998917579650879, 0.9920542240142822, 0.9999983310699463, 0.9994056224822998, 0.9999786615371704, 0.999998927116394, 0.9999986886978149, 0.9999998807907104, 0.9999998807907104, 0.9999997615814209, 0.9994423985481262, 0.7945511341094971, 0.9999537467956543, 0.9995725750923157, 0.9899453520774841, 0.9999927282333374, 0.999299168586731, 0.9999996423721313, 1.0, 0.9999872446060181, 0.9999966621398926, 0.9999485015869141, 0.9921149611473083, 0.9999980926513672, 0.9947115182876587, 0.9999916553497314, 0.9998358488082886, 0.9999392032623291, 0.8362358808517456, 0.9999154806137085, 0.9995871186256409, 0.9833679795265198, 0.9967065453529358, 0.9625237584114075, 0.9999982118606567, 0.999963641166687, 0.9999182224273682, 0.9999996423721313, 0.9999994039535522, 0.9997863173484802, 0.9999586343765259, 1.0, 0.7373439073562622, 0.9984990358352661, 0.9627191424369812, 0.999954342842102, 0.9880508184432983, 0.9999024868011475, 0.9972278475761414, 0.9999984502792358, 0.9999951124191284, 0.9999958276748657, 0.9998500347137451, 0.9997952580451965, 0.9992914199829102, 0.9999920129776001, 0.9999996423721313, 0.8947905898094177, 0.9999203681945801, 0.9999836683273315, 0.9884780049324036, 0.9826399683952332, 0.9998390674591064, 0.9968438148498535, 0.9995189905166626, 0.9997770190238953, 0.4376465678215027, 0.6505270600318909, 0.9998780488967896, 0.9999356269836426, 0.9992653727531433, 0.9794235825538635, 0.9950798749923706, 0.9146158695220947, 0.9998791217803955, 0.998664379119873, 0.9931975603103638, 0.989161491394043, 0.9998658895492554, 0.9953163862228394, 0.911193311214447, 0.4767022728919983, 0.92828768491745, 0.9892822504043579, 0.9983440637588501, 0.9947296380996704, 0.9817432165145874, 0.9999996423721313, 0.9997207522392273, 0.9996625185012817, 0.998023271560669, 0.9985164999961853, 0.9973536729812622, 0.9908834099769592, 0.9978210926055908, 0.9949650168418884, 0.9999819993972778, 1.0, 0.9964677095413208, 0.9999420642852783, 0.9997504353523254, 0.9995539784431458, 0.9985307455062866, 0.998332679271698, 0.995357096195221, 0.9988916516304016, 0.9999995231628418, 0.9858975410461426, 0.9830639958381653, 0.998855471611023, 0.999626636505127, 0.5836216807365417, 0.7998126745223999, 0.9212848544120789, 0.9999903440475464, 0.9999841451644897, 1.0, 0.9984939098358154, 0.9892954230308533, 0.999975323677063, 0.9931469559669495, 0.9338638782501221, 0.9303495287895203, 0.9999921321868896, 0.9999953508377075, 0.9974533915519714, 0.9999991655349731, 0.9999978542327881, 0.9999972581863403, 0.9999998807907104, 1.0, 0.9999998807907104, 0.9999799728393555, 0.9998996257781982, 0.9999998807907104, 1.0, 0.9998295307159424, 0.9999667406082153, 0.9997915625572205, 0.9999878406524658, 0.995598316192627, 0.9998226761817932, 0.9997848868370056, 0.995211660861969, 0.9996871948242188, 0.9999289512634277, 0.9991727471351624, 0.9997050166130066, 0.9999864101409912, 0.9999978542327881, 0.9981424808502197, 0.9996285438537598, 0.9996875524520874, 0.9999194145202637, 0.9965734481811523, 0.9994822144508362, 0.9855701923370361, 0.9966188669204712, 0.9997984766960144, 0.9999916553497314, 0.9994296431541443, 0.9999861717224121, 0.999232292175293, 0.9999556541442871, 0.9999998807907104, 0.9999454021453857, 0.9966995120048523, 0.9969574213027954, 1.0, 1.0, 0.9999996423721313, 0.9999995231628418, 0.9999997615814209, 0.9999974966049194, 0.9999580383300781, 0.9999994039535522, 0.9999685287475586, 0.999996542930603, 0.999864935874939, 0.9999936819076538, 0.9999649524688721, 1.0, 0.9999803304672241, 0.9999395608901978, 0.9999475479125977, 0.9997571110725403, 0.9999951124191284, 0.9999914169311523, 1.0, 0.9999974966049194, 0.9999994039535522, 0.999997615814209, 1.0, 0.9999920129776001, 0.9999992847442627, 0.999996542930603, 1.0, 0.9999791383743286, 0.9999996423721313, 0.9999998807907104, 0.9998062252998352, 0.9998816251754761, 0.9999678134918213, 0.9999790191650391, 0.9983444213867188, 0.999991774559021, 0.9995918869972229, 0.999919056892395, 0.9996894598007202, 0.9990928173065186, 0.999998927116394, 0.9974320530891418, 0.9999986886978149, 0.9998384714126587, 0.9985488057136536, 0.9999996423721313, 0.9998779296875, 0.9999827146530151, 0.9999935626983643, 0.9999995231628418, 0.9999991655349731, 0.9999899864196777, 0.9999997615814209, 0.9999985694885254, 0.9999973773956299, 1.0, 0.9999586343765259, 0.9998071789741516, 1.0, 1.0, 0.9999443292617798, 0.9998794794082642, 0.9999994039535522, 0.9999914169311523, 1.0, 0.9999841451644897, 1.0, 0.9999998807907104, 0.9999910593032837, 0.9999474287033081, 0.9999998807907104, 0.9999889135360718, 0.9999769926071167, 0.995302677154541, 0.999998927116394, 0.9993880987167358, 0.9999992847442627, 0.9999992847442627, 0.9999991655349731, 0.9999949932098389, 0.999893307685852, 0.9999984502792358, 0.9999991655349731, 0.999495267868042, 0.9999940395355225, 0.9999980926513672, 0.9999356269836426, 0.9999740123748779, 0.9999998807907104, 0.9978952407836914, 0.9999839067459106, 0.9998990297317505, 0.9999793767929077, 0.999433696269989, 0.9999725818634033, 0.9984902143478394, 0.9998049139976501, 0.9999977350234985, 0.9994277358055115, 0.999679684638977, 0.9195801615715027, 0.9999655485153198, 0.999996542930603, 0.9998067021369934, 0.9999997615814209, 0.998467743396759, 0.9982706308364868, 0.9997062087059021, 0.9421660900115967, 0.9999935626983643, 0.9999994039535522, 0.9990161657333374, 0.9999370574951172, 0.9999402761459351, 0.9999998807907104, 0.9999997615814209, 0.999876856803894, 0.9999998807907104, 0.9999997615814209, 0.9999992847442627, 1.0, 1.0, 0.9999996423721313, 1.0, 0.9999961853027344, 1.0, 1.0, 0.999868631362915, 0.9999996423721313, 0.9984608888626099, 0.9997883439064026, 0.9240091443061829, 0.9999853372573853, 0.9999986886978149, 0.9999620914459229, 0.9999996423721313, 0.9999802112579346, 1.0, 0.9999933242797852, 0.9975835084915161, 0.9848398566246033, 0.9998971223831177, 0.9999988079071045, 1.0, 0.9957940578460693, 0.9999933242797852, 0.9995896220207214, 0.9999812841415405, 0.9940909743309021, 0.9544017314910889, 0.9960063099861145, 0.9982073307037354, 0.9998955726623535, 0.9991512298583984, 0.9998451471328735, 0.9998425245285034, 1.0, 0.9999755620956421, 0.9999996423721313, 0.997782289981842, 0.9998528957366943, 0.9999711513519287, 0.9902088642120361, 0.9997642636299133, 0.999910831451416, 0.9999028444290161, 0.9999923706054688, 0.9999680519104004, 0.999997615814209, 0.9999598264694214, 0.9999945163726807, 0.9997000694274902, 0.9997571110725403, 0.9996153116226196, 0.9999136924743652, 0.9999198913574219, 0.9999983310699463, 0.9997369647026062, 0.9998325109481812, 0.9999500513076782, 0.9998132586479187, 0.9997324347496033, 0.9999924898147583, 0.9999778270721436, 0.9996721744537354, 0.9996664524078369, 0.9968544840812683, 0.9998420476913452, 0.9995737671852112, 0.9998161196708679, 0.9999881982803345, 0.9999978542327881, 1.0, 1.0, 0.999983549118042, 0.9997722506523132, 0.9999511241912842, 0.9999189376831055, 0.9990264177322388, 0.9994848966598511, 0.9999979734420776, 0.9997889399528503, 0.9999947547912598, 0.9998296499252319, 0.9999914169311523, 0.9999964237213135, 0.9999796152114868, 0.9999837875366211, 0.9996767044067383, 0.999974250793457, 0.9945059418678284, 0.9998425245285034, 0.999934196472168, 0.999757707118988, 0.9996689558029175, 0.9971182346343994, 0.999997615814209, 0.9877490401268005, 0.9998730421066284, 0.9723242521286011, 0.9987112283706665, 0.9876962304115295, 0.9989526271820068, 0.9875863790512085, 0.998615026473999, 0.9888990521430969, 0.9999247789382935, 0.9992044568061829, 0.9999438524246216, 0.999913215637207, 0.9956984519958496, 0.9999947547912598, 0.9999138116836548, 0.9901102185249329, 0.8932004570960999, 0.9999890327453613, 0.9999982118606567, 0.9998519420623779, 0.9997950196266174, 0.9976709485054016, 0.9874457120895386, 0.9887518286705017, 0.9989867806434631, 0.9999805688858032, 0.999984860420227, 0.9997392296791077, 0.9999762773513794, 0.9999886751174927, 0.9995647072792053, 0.9999380111694336, 0.9958832263946533, 0.999848484992981, 0.999930739402771, 0.9999891519546509, 0.9979029893875122, 0.9998372793197632, 0.9999779462814331, 0.9999426603317261, 0.9999744892120361, 0.9999992847442627, 0.9998849630355835, 0.999971866607666, 0.9953123331069946, 0.9998748302459717, 0.9999986886978149, 0.999998927116394, 0.99998939037323, 0.9999996423721313, 0.999922513961792, 0.999954104423523, 0.9999759197235107, 0.9998862743377686, 0.9999970197677612, 0.9999978542327881, 0.9998936653137207, 0.999990701675415, 0.9999997615814209, 0.9999990463256836, 0.9999990463256836, 0.9999936819076538, 0.9999953508377075, 0.9999995231628418, 0.9957946538925171, 0.9997139573097229, 0.9999947547912598, 0.9867460131645203, 0.9985448122024536, 0.9998229146003723, 0.999998927116394, 0.9833793044090271, 0.9992688298225403, 0.9997977614402771, 0.7714014649391174, 0.9999856948852539, 0.999998927116394, 1.0, 1.0, 0.9981608986854553, 1.0, 0.9999997615814209, 0.9999995231628418, 0.9999990463256836, 0.9999821186065674, 0.9999958276748657, 0.9999964237213135, 0.9999936819076538, 0.9999998807907104, 0.9999982118606567, 0.9999990463256836, 0.9999982118606567, 0.9999991655349731, 0.9999997615814209, 0.9988576173782349, 0.9994499087333679, 0.9999672174453735, 0.9905316829681396, 0.9997017979621887, 0.9999790191650391, 0.9999203681945801, 0.9999003410339355, 0.9953370094299316, 0.9999891519546509, 0.9998712539672852, 0.9999520778656006, 0.9999854564666748, 0.9999005794525146, 0.9999222755432129, 0.9999880790710449, 0.9985287189483643, 0.9993342757225037, 0.7459896802902222, 0.9999690055847168, 0.9931057095527649, 0.994321346282959, 0.9999792575836182, 0.9950307607650757, 0.9999256134033203, 0.861666202545166, 0.9998825788497925, 0.999947190284729, 0.9998586177825928, 0.9999409914016724, 0.9960667490959167, 0.9999836683273315, 0.999990701675415, 0.9999998807907104, 0.9999078512191772, 0.9937204122543335, 0.9999974966049194, 0.9978557229042053, 0.9999008178710938, 0.9999969005584717, 0.999998927116394, 0.9996286630630493, 0.9999972581863403, 0.9998728036880493, 0.9723318219184875, 0.9999641180038452, 0.9994667172431946, 0.1668170541524887, 0.16808241605758667, 0.9999972581863403, 0.9999992847442627, 0.994566798210144, 0.9999097585678101, 0.9999843835830688, 0.907101571559906, 0.999139666557312, 0.9092379808425903, 0.8562682271003723, 0.9992179870605469, 0.9996384382247925, 0.9999853372573853, 0.9986439347267151, 0.9999980926513672, 0.9996792078018188, 0.9999990463256836, 0.996340811252594, 0.9999911785125732, 0.9999997615814209, 0.9999973773956299, 0.9998853206634521, 0.9999433755874634, 0.9999992847442627, 0.9999990463256836, 0.9999903440475464, 0.9999139308929443, 0.9991052746772766, 0.9978152513504028, 0.9999990463256836, 0.9999973773956299, 0.999993085861206, 0.9961835741996765, 0.9999754428863525, 0.9999855756759644, 0.9999920129776001, 1.0, 0.9999856948852539, 0.9779902696609497, 1.0, 0.9999998807907104, 0.9999994039535522, 0.9369222521781921, 0.9999784231185913, 0.9916197061538696, 1.0, 0.9999803304672241, 0.9999901056289673, 0.9999833106994629, 0.9999195337295532, 0.9999476671218872, 0.9999957084655762, 0.9999997615814209, 0.9999774694442749, 0.9999805688858032, 0.9999914169311523, 1.0, 1.0, 0.9976117610931396, 0.999659538269043, 0.9967910647392273, 0.9994644522666931, 0.9999991655349731, 0.9999613761901855, 0.9999994039535522, 0.9999752044677734, 0.9999620914459229, 0.9999985694885254, 1.0, 0.9999850988388062, 0.9999984502792358, 0.9999996423721313, 0.999998927116394, 0.9999995231628418, 1.0, 0.9999994039535522, 0.9999662637710571, 0.999992847442627, 0.9999804496765137, 0.9998990297317505, 0.9998757839202881, 0.9999899864196777, 0.9999735355377197, 0.9999945163726807, 0.9999041557312012, 0.9999126195907593, 0.999982476234436, 0.9999998807907104, 0.9999998807907104, 0.9999998807907104, 0.9993984699249268, 0.9999991655349731, 1.0, 0.9995966553688049, 0.9537427425384521, 0.9999998807907104, 0.9999547004699707, 0.99994957447052, 0.9999648332595825, 0.9999560117721558, 0.9999799728393555, 0.998221218585968, 0.9988043308258057, 0.9999656677246094, 0.9999878406524658, 0.999910831451416, 0.9992559552192688, 0.999723494052887, 0.9999877214431763, 0.9999992847442627, 0.9999997615814209, 0.996335506439209, 0.9864057898521423, 0.9716470837593079, 0.9997691512107849, 0.9976698756217957, 1.0, 0.9982428550720215, 0.9998549222946167, 0.9995326995849609, 0.9999879598617554, 0.999971866607666, 0.9675152897834778, 0.9999984502792358, 0.9945054650306702, 0.9999998807907104, 1.0, 0.9999934434890747, 1.0, 0.9999970197677612, 0.9999872446060181, 0.9999995231628418, 0.9995403289794922, 0.9999985694885254, 1.0, 0.9999998807907104, 0.9999521970748901, 0.9995563626289368, 0.9999914169311523, 1.0, 0.9999988079071045, 0.9999610185623169, 0.9998736381530762, 0.995630145072937, 0.9999656677246094, 1.0, 0.9973976612091064, 0.9976932406425476, 0.9999983310699463, 0.9999816417694092, 0.9999958276748657, 0.9907528162002563, 0.999832272529602, 0.9829145073890686, 0.9994440674781799, 0.9999942779541016, 0.9902916550636292, 0.9999526739120483, 0.9999427795410156, 0.9949104189872742, 0.9999887943267822, 0.999911904335022, 0.9999595880508423, 0.9999991655349731, 0.9999980926513672, 0.9987020492553711, 0.999998927116394, 1.0, 0.9999984502792358, 0.9999983310699463, 0.9999947547912598, 0.9999932050704956, 0.9999165534973145, 0.9999938011169434, 0.9998574256896973, 0.8455893397331238, 0.9996938705444336, 0.9999994039535522, 0.9999915361404419, 0.9999992847442627, 0.46833428740501404, 0.9949448704719543, 0.999997615814209, 0.9999988079071045, 0.9999966621398926, 0.9999935626983643, 0.9999969005584717, 0.9982652068138123, 0.9997525811195374, 0.9999592304229736, 0.9994557499885559, 0.9999040365219116, 0.9999977350234985, 0.9559036493301392, 0.9995494484901428, 0.9999802112579346, 0.9999872446060181, 0.9999995231628418, 0.9993498921394348, 0.9999852180480957, 0.9999732971191406, 0.9999997615814209, 0.9999957084655762, 0.9999998807907104, 1.0, 1.0, 0.9999978542327881, 0.9999359846115112, 0.999994158744812, 0.9999967813491821, 0.999998927116394, 0.9957626461982727, 0.9961333274841309, 0.9978287816047668, 0.9999516010284424, 0.9261439442634583, 0.999660849571228, 0.9999998807907104, 0.999997615814209, 0.9999936819076538, 0.9997135996818542, 0.9998332262039185, 0.9977668523788452, 0.999601423740387, 0.9998418092727661, 0.9999985694885254, 0.9999809265136719, 0.9999923706054688, 0.9999992847442627, 0.9998158812522888, 0.9999958276748657, 0.9999990463256836, 0.9999908208847046, 0.99982088804245, 0.9999206066131592, 0.9990071654319763, 0.9971238970756531, 0.9994919300079346, 0.9999780654907227, 0.9995276927947998, 1.0, 0.9999786615371704, 0.9999961853027344, 0.9999996423721313, 0.9999775886535645, 0.9999951124191284, 0.9999995231628418, 1.0, 1.0, 0.9999996423721313, 0.9997723698616028, 0.9994049072265625, 0.9989131689071655, 0.9998611211776733, 0.9998431205749512, 0.9987541437149048, 0.9999939203262329, 0.9999949932098389, 0.9974639415740967, 0.9997507929801941, 0.9990780353546143, 0.9999897480010986, 1.0, 0.9999969005584717, 0.9999991655349731, 0.9999990463256836, 0.9998051524162292, 0.9998586177825928, 0.999984860420227, 0.9998934268951416, 0.9999963045120239, 0.9999887943267822, 0.9999992847442627, 0.9999909400939941, 1.0, 0.999923825263977, 0.9999895095825195, 0.9960506558418274, 0.9999706745147705, 0.9999996423721313, 0.999944806098938, 0.9998250603675842, 0.9817257523536682, 0.9996728897094727, 0.9999998807907104, 0.9999858140945435, 1.0, 0.9999991655349731, 0.9999998807907104, 0.9868196249008179, 0.9996302127838135, 0.9943091869354248, 0.9905491471290588, 0.9999666213989258, 0.9998817443847656, 0.9999626874923706, 0.9998687505722046, 0.9992163181304932, 0.9999990463256836, 0.9998559951782227, 0.9999494552612305, 0.9483169913291931, 0.9999895095825195, 0.9999946355819702, 0.9999821186065674, 0.9968903660774231, 0.9989979863166809, 0.9999939203262329, 0.9806468486785889, 0.6457509994506836, 0.9141072630882263, 0.9958550333976746, 0.9983547329902649, 0.9999474287033081, 0.8391899466514587, 0.7012982964515686, 0.9985985159873962, 0.9998180270195007, 0.9999996423721313, 0.9990733861923218, 0.9981195330619812, 0.9996441602706909, 0.9998113512992859, 0.9999990463256836, 1.0, 0.9997641444206238, 0.9999784231185913, 0.9986029267311096, 0.999915361404419, 0.9994426369667053, 0.9996964931488037, 0.9997891783714294, 0.9953566193580627, 0.9913890957832336, 0.9980529546737671, 0.9999969005584717, 0.999855637550354, 0.9999985694885254, 0.9999614953994751, 0.999748170375824, 0.9986031651496887, 0.9999582767486572, 0.9999983310699463, 0.9999650716781616, 0.9948242902755737, 0.9999552965164185, 0.9999980926513672, 0.9999558925628662, 0.99998939037323, 0.9999979734420776, 0.9996185302734375, 0.9995736479759216, 0.9999357461929321, 0.9995808005332947, 0.9844380021095276, 0.9538173675537109, 0.9999942779541016, 0.9999349117279053, 0.9919223785400391, 0.9967764019966125, 0.9858147501945496, 0.8103970885276794, 0.9974036812782288, 0.9915400147438049, 0.9995274543762207, 0.9999872446060181, 0.9989006519317627, 0.9973487854003906, 0.9977503418922424, 0.9999382495880127, 0.9989559650421143, 0.9818041324615479, 0.9943878054618835, 0.9772849082946777, 0.999634861946106, 0.9985514283180237, 0.9981995820999146, 0.9949697852134705, 0.9989232420921326, 0.9667584896087646, 0.9974038004875183, 0.9999899864196777, 0.9914119243621826, 0.9999175071716309, 0.9945768117904663, 0.9999815225601196, 0.9984122514724731, 0.9998830556869507, 0.9998869895935059, 0.9983363747596741, 0.999927282333374, 0.9936135411262512, 0.9999281167984009, 0.9991349577903748, 0.9941117167472839, 0.9999614953994751, 0.9834852814674377, 0.9999408721923828, 0.9983862638473511, 0.9999163150787354, 0.9996423721313477, 0.9802501201629639, 0.9999788999557495, 0.9993849992752075, 0.9992150068283081, 0.9999990463256836, 0.9952829480171204, 0.9954054355621338, 0.9987934827804565, 0.9999971389770508, 0.9998250603675842, 0.9999356269836426, 0.9999843835830688, 0.9999872446060181, 0.9999964237213135, 0.9999886751174927, 0.999002993106842, 0.999663233757019, 0.9999862909317017, 0.9999997615814209, 0.9999943971633911, 0.999201238155365, 0.9998338222503662, 0.996021568775177, 0.9997105002403259, 0.9999996423721313, 0.9999959468841553, 0.9999947547912598, 0.9999508857727051, 1.0, 1.0, 0.9999566078186035, 0.9999586343765259, 0.9997738003730774, 0.9964630007743835, 0.9999978542327881, 0.9999325275421143, 0.9975683093070984, 0.999997615814209, 0.9999775886535645, 0.9997785687446594, 0.9999974966049194, 0.9999905824661255, 0.9997178912162781, 0.9993652701377869, 0.9998903274536133, 0.9901112914085388, 0.9999929666519165, 0.9729794859886169, 0.9999207258224487, 0.9999970197677612, 0.9999984502792358, 0.9999997615814209, 0.9996923208236694, 0.9999969005584717, 0.9871422052383423, 0.9998499155044556, 0.9956608414649963, 0.9998443126678467, 0.9999992847442627, 0.999586284160614, 0.9999697208404541, 0.9999868869781494, 0.9999978542327881, 0.9999996423721313, 0.9993477463722229, 0.9999523162841797, 0.9972923398017883, 0.9999459981918335, 0.999922513961792, 0.9999992847442627, 0.9999960660934448, 0.9994117021560669, 0.9999889135360718, 0.9999972581863403, 0.9999996423721313, 0.9999991655349731, 0.9999997615814209, 0.999555766582489, 0.9999992847442627, 0.9999990463256836, 0.9970631003379822, 0.9998620748519897, 0.9977732300758362, 0.9999994039535522, 0.9999675750732422, 0.9999977350234985, 0.9999922513961792, 0.9983217120170593, 0.999817430973053, 0.9999704360961914, 0.9996582269668579, 0.9992836117744446, 0.9999713897705078, 0.9986552000045776, 0.9963406920433044, 0.9959839582443237, 0.9992891550064087, 0.999025821685791, 0.9999837875366211, 0.9991781115531921, 0.9969814419746399, 0.9991235136985779, 0.9971657395362854, 0.9999986886978149, 0.9998806715011597, 0.9999783039093018, 0.9817721843719482, 0.9999961853027344, 0.9999979734420776, 1.0, 0.9999997615814209, 0.9999868869781494, 0.990177571773529, 0.9999995231628418, 0.9991940855979919, 0.9999985694885254, 0.999915599822998, 0.9999005794525146, 0.9998817443847656, 0.9999961853027344, 0.9847615957260132, 0.9999372959136963, 0.9999793767929077, 0.999984860420227, 0.9999997615814209, 0.9999960660934448, 0.9996960163116455, 0.9203742146492004, 0.8495750427246094, 0.5513627529144287, 0.9997349381446838, 0.9999995231628418, 0.9999864101409912, 0.9986773133277893, 0.9976736903190613, 0.9999762773513794, 0.9998606443405151, 1.0, 0.9999998807907104, 0.9999984502792358, 1.0, 0.9999957084655762, 1.0, 0.9995613694190979, 0.9999942779541016, 0.9999997615814209, 0.9999943971633911, 1.0, 0.9922014474868774, 0.9993120431900024, 0.9998643398284912, 0.9911001324653625, 0.3407211899757385, 0.9966940879821777, 0.9780465960502625, 0.9999645948410034, 0.998664379119873, 0.9989446997642517, 0.9998527765274048, 0.999997615814209, 0.999962568283081, 0.9251111149787903, 0.9999995231628418, 0.9997435212135315, 0.9543715119361877, 0.6402386426925659, 0.9999955892562866, 0.9999953508377075, 0.9998732805252075, 0.9996471405029297, 0.9980660080909729, 0.9991913437843323, 0.9933860898017883, 0.9990200996398926, 0.9809056520462036, 0.9999438524246216, 0.9999966621398926, 0.9999960660934448, 0.9999679327011108, 0.9999954700469971, 0.9996317625045776, 0.9999966621398926, 0.9999994039535522, 0.9999972581863403, 0.9998119473457336, 0.9999992847442627, 0.9999992847442627, 0.9958873391151428, 0.999152421951294, 0.9999929666519165, 0.9999985694885254, 0.9994530081748962, 0.9962006211280823, 0.9999986886978149, 0.9999804496765137, 0.9998929500579834, 0.9991092085838318, 0.997672975063324, 0.9999172687530518, 0.9999980926513672, 0.9999936819076538, 0.9999957084655762, 1.0, 0.9998840093612671, 0.9999943971633911, 0.9999489784240723, 0.99996018409729, 0.9980851411819458, 0.9999831914901733, 0.9999955892562866, 0.9999765157699585, 0.99715256690979, 0.9999980926513672, 0.9998219609260559, 0.9999960660934448, 1.0, 0.9999998807907104, 1.0, 0.9999929666519165, 0.9999654293060303, 1.0, 0.9999994039535522, 0.9999998807907104, 0.9999967813491821, 0.9999995231628418, 0.9999926090240479, 0.9999973773956299, 0.9999750852584839, 0.9997889399528503, 0.9999552965164185, 0.9874101281166077, 0.999502420425415, 0.9866729974746704, 0.9999995231628418, 0.9991980195045471, 0.9999974966049194, 0.9999561309814453, 0.9999959468841553, 0.9994580149650574, 0.9999395608901978, 0.9999749660491943, 0.9999936819076538, 0.9999985694885254, 0.999997615814209, 0.9995488524436951, 0.9999992847442627, 0.9998875856399536, 0.9999985694885254, 0.9999817609786987, 0.9998502731323242, 0.9991366267204285, 0.9997325539588928, 0.9999842643737793, 0.9999982118606567, 0.9999951124191284, 0.9999721050262451, 0.9997054934501648, 0.9999997615814209, 0.9999908208847046, 0.9993020296096802, 0.9996662139892578, 0.9999761581420898, 0.9999667406082153, 0.999971866607666, 0.9999840259552002, 0.9998692274093628, 0.9998452663421631, 0.9999738931655884, 0.9998781681060791, 0.9880826473236084, 0.9998853206634521, 0.9999172687530518, 0.9996546506881714, 0.9999669790267944, 0.9998947381973267, 0.9999645948410034, 0.999985933303833, 0.9975639581680298, 0.9163199067115784, 0.9999109506607056, 0.9999946355819702, 0.9999969005584717, 0.9814115166664124, 0.9999110698699951, 0.9999583959579468, 0.9996689558029175, 0.9993901252746582, 0.9999969005584717, 0.9244604706764221, 0.995080828666687, 0.4603322446346283, 0.992439866065979, 0.9998151659965515, 0.9999876022338867, 0.9988976716995239, 0.9946416616439819, 0.9999867677688599, 0.9960793852806091, 0.9984400868415833, 0.9999513626098633, 0.9914219975471497, 0.9761912822723389, 0.9991556406021118, 0.9994687438011169, 0.9999978542327881, 0.9921836256980896, 0.9994955062866211, 0.9654818177223206, 0.9999673366546631, 0.9953463673591614, 0.9995032548904419, 0.9927712082862854, 0.999862790107727, 0.9999710321426392, 0.9999990463256836, 0.9999990463256836, 0.9996644258499146, 0.9999827146530151, 0.999054491519928, 0.9999996423721313, 0.9946891069412231, 0.9997528195381165, 0.9999996423721313, 0.9999988079071045, 0.9999691247940063, 0.9999996423721313, 0.9998594522476196, 0.9999996423721313, 0.9999208450317383, 0.996601939201355, 1.0, 1.0, 0.9999994039535522, 0.999981164932251, 0.9999997615814209, 0.9999946355819702, 0.9999995231628418, 0.9999722242355347, 0.9999967813491821, 0.9996211528778076, 0.9998846054077148, 0.999975323677063, 1.0, 0.9999994039535522, 0.9999316930770874, 0.9999974966049194, 0.9999662637710571, 0.9999697208404541, 0.9999938011169434, 1.0, 0.9999995231628418, 0.999790608882904, 0.9997485280036926, 0.9998347759246826, 0.9999990463256836, 0.9999754428863525, 0.9999998807907104, 0.999997615814209, 0.9999992847442627, 0.9999995231628418, 0.9999723434448242, 1.0, 0.9999921321868896, 0.9999310970306396, 0.9999991655349731, 0.9999998807907104, 0.9999308586120605, 0.9999948740005493, 0.9637117981910706, 0.9996127486228943, 0.9888922572135925, 0.9999608993530273, 0.9999853372573853, 0.9999282360076904, 0.9999998807907104, 0.9999998807907104, 0.9998317956924438, 0.9999991655349731, 0.9975194334983826, 0.9997419714927673, 0.999937891960144, 0.9948139190673828, 0.5049745440483093, 0.6475918292999268, 0.9988353848457336, 0.9999949932098389, 0.9587858319282532, 0.9999995231628418, 0.9999878406524658, 0.9999997615814209, 0.999991774559021, 0.995978832244873, 0.994652271270752, 0.9973172545433044, 0.9908636212348938, 0.9999990463256836, 0.9999995231628418, 0.9785100221633911, 0.9999620914459229, 0.99904865026474, 0.9960689544677734, 0.9999788999557495, 0.9975515007972717, 0.9270878434181213, 0.9999645948410034, 0.99346923828125, 0.9999791383743286, 0.9999926090240479, 0.9999974966049194, 0.9999759197235107, 0.9999815225601196, 0.9998156428337097, 0.9999957084655762, 0.9999285936355591, 0.9999997615814209, 0.9998248219490051, 0.9999986886978149, 0.9998435974121094, 0.999998927116394, 1.0, 0.9999549388885498, 0.9999995231628418, 0.9999998807907104, 1.0, 0.9999986886978149, 0.9999948740005493, 0.9999998807907104, 0.9996449947357178, 0.9999994039535522, 0.9999955892562866, 0.9997279047966003, 0.9963975548744202, 0.9999213218688965, 0.9999099969863892, 0.9999992847442627, 0.997771143913269, 0.9999984502792358, 0.999992847442627, 0.9999881982803345, 0.9999979734420776, 0.9995934367179871, 0.9999998807907104, 0.9997124075889587, 0.9999998807907104, 0.9999992847442627, 1.0, 0.9978238344192505, 0.999998927116394, 0.9999997615814209, 0.9999996423721313, 0.9999998807907104, 0.9994283318519592, 0.9998445510864258, 0.9999986886978149, 1.0, 0.9999982118606567, 0.999990701675415, 0.9997368454933167, 0.9999686479568481, 0.9999111890792847, 0.9999897480010986, 0.9987706542015076, 0.9999822378158569, 0.999996542930603, 0.999997615814209, 1.0, 0.9999990463256836, 0.999342143535614, 0.9999998807907104, 0.9995274543762207, 0.9998459815979004, 0.9999141693115234, 0.9999788999557495, 1.0, 0.9999972581863403, 0.9999974966049194, 0.9999986886978149, 0.9999998807907104, 0.9999997615814209, 0.9999943971633911, 0.9999915361404419, 0.9999953508377075, 0.9999998807907104, 0.9999699592590332, 0.9999923706054688, 0.9999988079071045, 0.9999896287918091, 0.999998927116394, 0.9947127103805542, 0.9998134970664978, 0.9985381364822388, 0.9899082183837891, 0.9998396635055542, 0.9999707937240601, 0.9998549222946167, 0.999804675579071, 0.999936580657959, 0.9999819993972778, 0.9997875094413757, 0.9994944334030151, 0.9999861717224121, 0.9999608993530273, 0.9999693632125854, 0.9998902082443237, 0.9999669790267944, 0.9999983310699463, 0.9999964237213135, 0.9999477863311768, 0.9996870756149292, 1.0, 0.9997308850288391, 0.9999992847442627, 0.9999996423721313, 0.9999977350234985, 0.9994551539421082, 0.9994741082191467, 0.999992847442627, 0.9958628416061401, 0.9751867651939392, 0.9671018123626709, 0.9654313325881958, 0.9998588562011719, 0.9997963309288025, 0.9999339580535889, 0.9999829530715942, 0.9998774528503418, 0.9999886751174927, 0.9999997615814209, 0.9999998807907104, 0.9906288981437683, 0.9999977350234985, 0.9999995231628418, 0.9999948740005493, 0.9999997615814209, 0.9999997615814209, 0.999450147151947, 0.9891873002052307, 0.993024468421936, 0.9995542168617249, 0.9931126236915588, 0.9999926090240479, 0.9999557733535767, 0.9999487400054932, 0.9999724626541138, 0.9999359846115112, 0.999998927116394, 0.9878756403923035, 0.9937050938606262, 0.9956199526786804, 0.9987466335296631, 0.9999113082885742, 0.9999508857727051, 0.9999754428863525, 0.9999736547470093, 0.9993720650672913, 0.9998794794082642, 0.9999834299087524, 0.9999659061431885, 0.9994719624519348, 0.9999352693557739]\n",
      "[2.797020037803577e-08, 2.234491036645636e-09, 2.4832603529034714e-08, 2.1185705634252372e-08, 1.9187135436027347e-08, 7.83473933552159e-06, 4.612879536125547e-07, 3.6829139844485326e-06, 2.4969065179902827e-06, 2.6976424578606384e-06, 3.6639397649196326e-07, 2.6836879385427892e-08, 2.0854693616456643e-07, 1.501673381198998e-07, 2.2828270118679939e-07, 6.846144970040768e-06, 4.1166111941493e-07, 2.2999447537586093e-06, 1.7410595773981186e-06, 1.8668654320208589e-06, 1.7766762994142482e-07, 9.76492042781274e-09, 1.202690214086033e-07, 7.193793294391071e-08, 8.835900899839544e-08, 2.047351586043078e-07, 1.1436354974136975e-08, 1.0402492200967117e-09, 6.518410811118258e-10, 2.146980904171869e-08, 5.7630822993814945e-05, 2.2566648567590164e-06, 2.8236991056473926e-07, 4.230166439356253e-08, 6.1998621276870836e-06, 2.4229348127846606e-06, 1.650911656270182e-07, 1.520971615320832e-08, 7.0660832740543356e-09, 2.1931991511792148e-07, 3.96397226722911e-05, 1.585504037393548e-06, 2.1888176604534237e-07, 4.117085339316873e-08, 4.315951173339272e-06, 1.2428791933416505e-06, 5.331849095568941e-08, 4.587764390606708e-09, 2.593221859470418e-09, 1.2087211587186175e-07, 1.4178244689411201e-10, 3.47384254695271e-09, 5.928238788754925e-09, 4.442298973117431e-09, 4.15274108434005e-08, 1.8896225029152447e-08, 6.534525027745985e-07, 9.578589015291072e-07, 3.8696222759426746e-07, 6.972648861847119e-06, 1.4105047130286152e-09, 5.014037185446796e-08, 6.627472970421877e-08, 4.382222229537547e-08, 3.5827738997795677e-07, 1.981591957189721e-08, 5.028551868235809e-07, 8.115177934087114e-07, 3.147715688101016e-07, 5.327501185092842e-06, 4.813081044829914e-10, 1.5270325448568656e-08, 2.441247559659132e-08, 1.640267655034222e-08, 2.0418899282503844e-07, 7.314961136817288e-11, 1.3118442998560909e-09, 6.136621664154518e-07, 4.21871471090185e-09, 1.4740780152067146e-08, 4.35783142904711e-09, 1.3621574623812194e-07, 0.00014507747255265713, 8.943864600041707e-07, 4.819722562388051e-06, 4.6172671241961893e-10, 1.1835402879967205e-08, 1.3948518244433217e-05, 4.198792424858766e-08, 1.6793998725006531e-07, 4.921961949122533e-09, 1.279147738841857e-07, 0.00010488917905604467, 6.232908731362841e-07, 3.587492301448947e-06, 1.9463081146753325e-10, 5.088653942664223e-09, 7.4033682722074445e-06, 2.2802502996910334e-08, 1.013230388480224e-07, 3.10623477162153e-07, 5.851664708345083e-10, 2.846298197134445e-10, 1.943574856611008e-09, 4.920939211672248e-09, 0.00011374322639312595, 4.995785474193326e-08, 3.2963239249284015e-08, 2.0279155421576434e-07, 7.523931344621815e-07, 3.8489888538606465e-06, 4.792353180960163e-09, 3.00080893467225e-09, 1.8164074688797882e-08, 4.869263037221572e-08, 9.748133743414655e-05, 4.4512489694170654e-08, 2.9772420973017688e-08, 1.45378066918056e-07, 4.968825351170381e-07, 1.8039627320831642e-06, 1.8873955731635306e-09, 8.93368989896004e-10, 7.016752068267351e-09, 1.9168151510484677e-08, 2.2783511610668938e-07, 1.0975125519507856e-07, 9.919100957267446e-11, 4.3979976993568926e-08, 1.260598452290651e-07, 5.921639603911899e-05, 1.550027445773594e-05, 7.122711753737576e-09, 4.176227776042651e-06, 2.8704951546387747e-05, 3.0734079246030888e-06, 1.203179408548749e-06, 8.856004818369456e-10, 5.586180122918449e-07, 1.4020491789779044e-06, 4.105709376744926e-05, 9.098174814425875e-06, 7.286212966306493e-09, 2.9150221507734386e-06, 2.3596234314027242e-05, 1.848194187914487e-06, 7.329613822548708e-07, 3.591030528493633e-10, 2.956946048016107e-07, 7.489989570785838e-07, 3.708076068420496e-10, 2.845030877551835e-08, 3.885261445901733e-09, 5.043473905175233e-08, 3.805140735835266e-08, 7.28371603031519e-08, 5.72247154195793e-06, 7.624747127010778e-07, 1.905517819977831e-05, 6.227950962056639e-06, 4.491655047900167e-09, 3.285374532424612e-07, 5.0839606302588436e-08, 7.391702183667803e-07, 3.182333330187248e-07, 5.9239571470470764e-08, 4.658614670915995e-06, 5.979741786177328e-07, 1.4873176951368805e-05, 4.637581241695443e-06, 1.2130770832285975e-09, 1.0948070894301054e-07, 1.6340163000450048e-08, 1.7008157726650097e-07, 1.0638314534849869e-10, 2.5725701569001558e-09, 5.790571147579193e-12, 1.4331002162748518e-08, 2.7996716056577498e-09, 7.339859831034801e-09, 3.586175125747104e-07, 1.927496634523962e-10, 3.595946054701926e-06, 2.30292911851393e-07, 7.693027326283186e-10, 6.030300564452418e-11, 1.827542348564748e-07, 2.8796600659575233e-08, 6.559297105468431e-09, 2.7427097393228905e-07, 2.3499266421644904e-10, 3.349637381688808e-06, 1.8491219577754237e-07, 3.888803723484102e-10, 9.21434484268957e-09, 2.4302705681211734e-11, 5.308530859338134e-08, 1.1854470294281327e-08, 6.895695126019064e-10, 4.173288825626287e-09, 6.602472457650777e-10, 1.4216984034476354e-08, 3.2120114901168506e-10, 1.0475154965661204e-07, 5.47358922631247e-07, 5.5647248586865317e-08, 2.3088825855666073e-06, 4.6703796385827445e-08, 7.818949043780776e-09, 4.662734198745966e-08, 6.217910186734343e-09, 2.0394166710957506e-07, 4.090837890657895e-09, 9.228173070141565e-08, 3.8192075635379297e-07, 4.9192891538041295e-08, 1.9250517198088346e-06, 3.851617691452702e-08, 3.374698298586054e-09, 2.6105826833600076e-08, 2.440273316750563e-09, 8.241465820901794e-08, 1.317445930126837e-09, 2.802518679345667e-07, 5.607212028024833e-09, 1.3525230997402105e-06, 2.733463361437316e-06, 1.549683048551742e-07, 4.081003862665966e-05, 7.111731861186854e-07, 0.001099522109143436, 0.0006820656126365066, 2.1773739717900753e-05, 3.1416082038049353e-06, 5.435911276663319e-08, 3.086962897214107e-05, 1.7415561615052866e-06, 3.125045259366743e-05, 0.00045892715570516884, 0.00027035438688471913, 1.2765554856741801e-05, 1.8935190837510163e-06, 2.3833003126583208e-08, 1.2736320968542714e-05, 3.2155025110114366e-05, 8.614916282567719e-07, 7.227085152550217e-09, 6.205469471609604e-09, 2.8114066630280377e-09, 1.2376235591915474e-09, 5.385485390974054e-09, 2.008023557209526e-06, 1.5241146229527658e-06, 2.7490654019857175e-07, 2.561355074703897e-07, 6.862505870230962e-07, 8.41423144493092e-08, 7.608790753010908e-08, 2.7470676400298544e-08, 1.6424497317757414e-08, 6.016959730459348e-08, 1.671398081271036e-06, 2.384046524639416e-07, 2.1846904019184876e-07, 5.482407914314535e-07, 3.206940135669356e-08, 3.023555805725664e-08, 1.0278579765099494e-08, 5.879906339600893e-09, 2.2158390677873285e-08, 4.766425032443067e-10, 9.549606261316512e-08, 6.078110237339729e-10, 1.9756751612476364e-07, 1.214777167746206e-08, 3.8835072047049835e-08, 1.8881288269767538e-05, 1.0505409164807133e-07, 7.198090315796435e-05, 3.4449096801836276e-06, 4.11490130858283e-09, 1.2971374871995067e-06, 5.423864024578506e-09, 2.4941127776401117e-06, 1.31515250245684e-07, 3.4604394016923834e-08, 1.7464593838667497e-05, 7.999551598913968e-08, 6.296739593381062e-05, 2.194698026869446e-06, 1.4988020824446835e-09, 5.08180448832718e-07, 1.8724362060851263e-09, 1.1108135140602826e-06, 5.264396918391867e-08, 6.430220356179461e-09, 1.2526023773773431e-08, 1.9951493790415498e-09, 1.242951128688219e-07, 1.8773567944663228e-07, 1.9139802134304773e-06, 2.2804149466537638e-06, 5.134043590260262e-07, 5.208218499319628e-05, 0.00011279694444965571, 7.090116582730843e-08, 1.5705136036103795e-07, 2.5562691519098735e-08, 1.7705325490169344e-06, 2.7619469165074406e-06, 1.3811801409246982e-06, 1.7215734260389581e-06, 4.261385697645892e-07, 3.749923052964732e-05, 5.115296153235249e-05, 3.2980089770262566e-08, 8.443409882374908e-08, 9.62657509262499e-09, 7.454992214661615e-07, 1.3021832501181052e-06, 0.0017602668376639485, 0.001154193771071732, 0.28278303146362305, 0.6848112940788269, 0.8139047622680664, 0.9553083181381226, 0.00042194215347990394, 9.502765169600025e-05, 0.022357098758220673, 0.08421851694583893, 0.27239176630973816, 0.3941577076911926, 5.819564194098348e-06, 1.2398092621879186e-05, 0.0013257639948278666, 0.005289701744914055, 0.011984005570411682, 0.055567413568496704, 7.374628125944582e-07, 1.0141314277234414e-07, 1.627500751055777e-05, 0.00020011820015497506, 3.9927261241246015e-05, 0.00011821078805951402, 5.974070518277586e-07, 5.811450023429643e-07, 4.9873135139932856e-05, 0.00029459656798280776, 0.0002919228281825781, 0.0026902491226792336, 0.010174021124839783, 0.0037015946581959724, 0.3075946271419525, 0.8026099801063538, 0.1871781349182129, 0.8511427640914917, 2.4083612970571266e-06, 1.1024928880942753e-06, 0.0001203040883410722, 0.0006375517696142197, 0.0025222531985491514, 0.010660206899046898, 1.4954952121115639e-06, 2.087271241180133e-06, 0.00017726124497130513, 0.0005058209062553942, 0.002138430019840598, 0.007545047905296087, 1.4332787031889893e-05, 4.588393494486809e-06, 0.0002676338190212846, 0.003970447927713394, 0.0007427644450217485, 0.006296564359217882, 0.00018307413847651333, 0.00017557674436829984, 0.04897312447428703, 0.1460987627506256, 0.26343995332717896, 0.449763685464859, 2.1992886104271747e-05, 1.3094572750560474e-06, 0.00014577622641809285, 0.0011605739127844572, 0.0010117683559656143, 0.00467847753316164, 1.8750749859464122e-06, 1.9610963590821484e-06, 0.00010712305811466649, 0.00022316238027997315, 0.0005022010300308466, 0.0015007434412837029, 1.1308141978361164e-08, 2.7995000095870637e-07, 1.1571675713639706e-05, 2.7705744287231937e-05, 7.637949579475389e-07, 3.7252917195473856e-08, 6.843265509814955e-07, 2.515467167540919e-05, 3.939890302717686e-05, 2.1564321741607273e-06, 3.289948580231794e-08, 4.3665534121828387e-07, 1.8019365597865544e-05, 3.061591269215569e-05, 1.6444313359897933e-06, 1.512465672703911e-07, 4.335806806921028e-06, 0.00013304421736393124, 0.0001916542969411239, 1.0677441423467826e-05, 7.067716722986006e-08, 1.1950270391025697e-06, 3.493125768727623e-05, 7.682866271352395e-05, 3.5465288874547696e-06, 2.975384383319124e-09, 1.8099058252118994e-08, 1.7475725727633673e-11, 2.372183338650302e-09, 1.7985134215248166e-10, 5.791275459188228e-09, 3.1772529496265633e-08, 4.380235410494926e-11, 5.229736643741489e-09, 4.128468122921447e-10, 4.626693250742164e-09, 2.610294025373605e-08, 3.585307051245934e-11, 4.595848590582818e-09, 4.4244799490833486e-10, 4.341464787671612e-08, 2.8146089903202665e-07, 2.5954718929632747e-10, 3.5567190082019806e-08, 2.5425939131906716e-09, 1.5949348508570438e-08, 9.525502520091322e-08, 1.1548176304110314e-10, 1.3622517336386863e-08, 1.0280359896697178e-09, 1.498748503081515e-08, 3.1294353219912807e-10, 3.48995001786534e-07, 9.280300833358623e-11, 7.193628448476375e-08, 3.474719179052954e-08, 7.478128671856155e-10, 1.1271500852672034e-06, 2.5868726605260406e-10, 1.6946907521742105e-07, 2.2145925981931214e-08, 8.147664765090212e-10, 9.376361731483485e-07, 2.2745749728159126e-10, 1.284684572055994e-07, 2.3485024769343e-07, 4.837546363489764e-09, 4.235873348079622e-06, 1.2058611886800463e-09, 1.3949603498986107e-06, 6.591795198573891e-08, 1.8503073517806001e-09, 2.223946694357437e-06, 4.74342509715342e-10, 5.28571717950399e-07, 1.580818320690014e-08, 2.388103048645007e-10, 4.994934688085095e-09, 1.2716536268442269e-08, 1.260911652867236e-10, 3.5775112650071605e-08, 6.928060347632936e-10, 9.87403492302974e-09, 3.9857379618979394e-08, 2.9764274378507594e-10, 3.3546960764851974e-08, 5.988742279861015e-10, 9.547307833202012e-09, 2.895859019247382e-08, 3.1368158071032326e-10, 2.712946809424466e-07, 4.4109498276156955e-09, 6.384650674817749e-08, 1.877582320730653e-07, 2.2480466377317043e-09, 9.158770097883462e-08, 1.510174096885919e-09, 2.8982627853224585e-08, 8.297838860471529e-08, 8.512076044020489e-10, 9.046767246445597e-08, 2.6227516686239127e-11, 7.688245040604613e-10, 5.475750963768178e-10, 8.442022192411969e-09, 2.2363154528193263e-07, 5.510953846044053e-11, 1.945203109698923e-09, 1.5522775287379886e-09, 3.062057274405561e-08, 1.5586471135975444e-07, 5.544639400389961e-11, 1.584007813804078e-09, 1.480815026155824e-09, 2.463446868716801e-08, 1.5784253264428116e-06, 3.77195524814411e-10, 1.1882427486398228e-08, 8.468809653550124e-09, 1.4786191115945257e-07, 5.889517069590511e-07, 1.5402086550597716e-10, 5.556555215946446e-09, 3.5804177400677872e-09, 6.471849189892964e-08, 2.0239117048959088e-08, 7.427579662433459e-10, 4.7181805129525856e-09, 7.3511654541391636e-09, 9.246951648833601e-09, 2.576141255872244e-08, 1.2320511277863488e-09, 7.753737207849554e-09, 1.2216526457109467e-08, 1.6742660591262393e-08, 2.8638520888080166e-08, 1.3929475350948906e-09, 8.553042718517645e-09, 1.5402951802911957e-08, 1.7380182626425267e-08, 2.4927280151132436e-07, 1.449982267587302e-08, 6.097100424540258e-08, 1.282422346093881e-07, 1.235048472381095e-07, 9.492999453186712e-08, 5.144946246815607e-09, 2.842709356798423e-08, 4.645326612262579e-08, 5.255798640746434e-08, 3.080424526569203e-10, 3.598281139716164e-08, 1.894813125846717e-11, 2.1756266121997214e-08, 5.876973907525951e-11, 6.602333124661186e-10, 9.518981869405252e-08, 4.5149710359293493e-11, 5.5493980966048184e-08, 1.2170674190681297e-10, 6.123223039722347e-10, 7.05622653640603e-08, 4.270581457910261e-11, 3.9477196622783595e-08, 1.2865609966272729e-10, 3.886047039713958e-09, 4.4002135268783604e-07, 2.6011615084087225e-10, 2.952214970264322e-07, 8.81678563491306e-10, 1.8540947666068064e-09, 2.4505411033715063e-07, 1.1961845403085647e-10, 1.1568011615281648e-07, 3.4453020991698224e-10, 2.0687904722649364e-09, 4.304662848397811e-09, 8.940359563780476e-09, 1.8793748779444286e-08, 7.814476177259166e-09, 4.851341106615337e-09, 7.900380794012563e-09, 1.797777926526578e-08, 2.7572935934472298e-08, 1.3950486099645332e-08, 4.426972566307086e-09, 7.316028671766617e-09, 1.6850174588967093e-08, 2.7220998788379802e-08, 1.454167097847403e-08, 3.243783197603989e-08, 6.31257890404413e-08, 1.2641692137549398e-07, 1.779742291319053e-07, 1.2952679639965936e-07, 1.433390117711042e-08, 2.7242137434768665e-08, 5.2751317980437307e-08, 7.063997031764302e-08, 5.360932320286338e-08, 4.709623908638605e-07, 1.0604856548468433e-08, 4.417940715484292e-07, 2.1814052786339744e-07, 4.1247808724165225e-08, 1.0704668511607451e-06, 3.074674737035821e-08, 9.638453093430144e-07, 5.553368396249425e-07, 8.122999872739456e-08, 7.412689910779591e-07, 2.722239855756925e-08, 7.650692168681417e-07, 4.0641336340740963e-07, 6.589708334558964e-08, 6.374700205924455e-06, 1.4056863051337132e-07, 6.387156190612586e-06, 3.3802159578044666e-06, 4.593839548761025e-07, 1.966253648788552e-06, 6.8505009664932e-08, 2.2134286155051086e-06, 9.819916613196256e-07, 1.5185229074177187e-07, 3.153512118103663e-09, 5.178407147532482e-10, 4.596891312047546e-09, 1.879477906641114e-09, 2.518441899468371e-09, 8.846403609652498e-09, 1.035691865602928e-09, 7.994559680923885e-09, 3.980319629448559e-09, 5.649325451884124e-09, 8.03574451424538e-09, 9.305404224946301e-10, 7.767889442789055e-09, 3.592964592513681e-09, 4.94699747832783e-09, 5.091782284694091e-08, 7.858765194157513e-09, 6.915814765307005e-08, 3.4435117868270027e-08, 3.980427720762236e-08, 2.0751226514903465e-08, 3.3819793632261508e-09, 3.018686811628868e-08, 1.3931846787329505e-08, 1.6199896535340486e-08, 5.773477340653699e-08, 6.273233310594151e-08, 4.7193708496706677e-07, 3.6088230181974268e-09, 1.015976014429043e-08, 7.26524831407005e-08, 1.276704182373578e-07, 1.167747427643917e-06, 7.56528706347126e-09, 2.1917454517961232e-08, 8.394081163487499e-08, 1.1679796330099634e-07, 1.0851364322661539e-06, 6.618059433805001e-09, 2.212532201895101e-08, 7.842819513825816e-07, 7.617225037392927e-07, 7.28017130313674e-06, 5.8234565614156963e-08, 1.4869281983465044e-07, 2.40274260931983e-07, 3.110102966275008e-07, 2.776943347271299e-06, 2.1598367538899765e-08, 4.7709413308894e-08, 3.383920366140103e-10, 6.291722351448037e-12, 3.386071867339524e-09, 2.2264576293729021e-10, 1.334281307663332e-08, 7.634222698449378e-10, 1.1214197973008488e-11, 7.890577080615913e-09, 4.778860085430381e-10, 2.435113799492683e-08, 6.228518256712334e-10, 1.376442015921242e-11, 7.36302352422058e-09, 4.1879746892625747e-10, 2.8234182991582202e-08, 6.186607670599642e-09, 1.0294893409978911e-10, 6.056198742498964e-08, 3.80225184670735e-09, 1.6379985368075722e-07, 2.3504163060295014e-09, 3.207724710851956e-11, 2.2406592137258485e-08, 1.5328356361976603e-09, 7.860477779786379e-08, 6.670584298262838e-07, 5.3608712136110626e-08, 4.605606118701644e-09, 1.8397194878616574e-08, 2.0116566190608864e-09, 2.889370762204635e-06, 1.2891261746972305e-07, 3.437966356045763e-08, 8.38736085029268e-08, 1.2215548572669377e-08, 1.2476182575937855e-07, 6.636678762106385e-09, 1.06900654994746e-09, 3.0616875701383606e-09, 4.5640308199423885e-10, 9.315593842984526e-07, 4.776978101972418e-08, 1.0665916150287558e-08, 2.6888011817050028e-08, 4.495323224773529e-09, 1.1226455171708949e-05, 4.382720248941041e-07, 8.097985926269757e-08, 2.171937296679971e-07, 3.091646050279451e-08, 1.8452933403523275e-08, 1.1666543286992237e-06, 3.199000275344588e-06, 5.162903993216617e-10, 2.9178539762142464e-07, 4.2082454854153184e-08, 3.0867850000504404e-06, 1.318532395089278e-05, 2.6038631251168454e-09, 1.359511543341796e-06, 2.1709458675189808e-09, 1.184183133773331e-07, 4.5087816147315607e-07, 1.0171868902730807e-10, 5.073122011367559e-08, 1.8108863741872483e-08, 1.2519619758677436e-06, 3.7832026009709807e-06, 9.603315920259092e-10, 3.90407308259455e-07, 7.785677524907442e-08, 6.756055427104002e-06, 2.187201243941672e-05, 6.14499962026116e-09, 1.608355432836106e-06, 4.422456640895689e-06, 0.00011405831173760816, 1.5593935813740245e-06, 2.1822305740215597e-08, 1.8209203034302845e-08, 1.6105646864161827e-05, 0.0005251572001725435, 3.828692115348531e-06, 7.269517254826496e-08, 4.9305054261594705e-08, 5.447260491564521e-07, 8.727422027732246e-06, 1.759230769948772e-07, 2.7175384165190053e-09, 2.175563285078397e-09, 5.24144070368493e-06, 0.00012029330537188798, 1.5095002936504898e-06, 2.3024430362283965e-08, 1.8117535915962435e-08, 2.5265602744184434e-05, 0.0005402782699093223, 5.650977072946262e-06, 1.646016016820795e-07, 1.1965855151174765e-07, 1.1033123720194382e-10, 4.487068139269468e-08, 6.330924673392246e-10, 1.754012379784342e-09, 2.949850497202533e-08, 8.218633551493326e-10, 1.9847512078285945e-07, 3.122300418212376e-09, 8.045329735750784e-09, 9.297003344954646e-08, 2.2625797069242282e-11, 6.276294595153331e-09, 9.971170417122366e-11, 2.9247820831912463e-10, 3.6856269147733656e-09, 2.3225889267397548e-10, 5.97833960114258e-08, 1.0056993016149818e-09, 3.0329578848409255e-09, 3.375981094677627e-08, 1.4885912502649035e-09, 4.584731527756958e-07, 6.575330946390068e-09, 1.4614910170962503e-08, 2.31608922263149e-07, 3.8645401218673214e-05, 7.786709829815663e-06, 3.0102093660389073e-05, 2.2996658397000935e-11, 1.0582765774813652e-09, 0.00010527054109843448, 2.5160095901810564e-05, 9.912739915307611e-05, 1.4329813724511808e-10, 4.6001189524247366e-09, 4.024214831588324e-06, 1.0779524473036872e-06, 3.5801272133539896e-06, 5.4954782044425166e-12, 1.7121876139114534e-10, 3.9424350688932464e-05, 9.796646736504044e-06, 3.419827044126578e-05, 4.723182261967551e-11, 1.6616796827406688e-09, 0.00040090910624712706, 0.00013660202967002988, 0.00043339200783520937, 3.608346121897199e-10, 1.2563924123298875e-08, 2.4685959942871705e-09, 1.6133921976191345e-10, 2.153485212375017e-08, 3.094378087098448e-08, 8.969048836959814e-10, 1.3496283202130144e-08, 7.83149767258351e-10, 9.51765670720306e-08, 1.2434276186468196e-07, 4.913604634282365e-09, 4.547061338566749e-10, 3.385403415934185e-11, 3.106410240150126e-09, 4.386183860560777e-09, 2.4045571089814644e-10, 4.740298376049168e-09, 3.247382918125652e-10, 2.758208594855205e-08, 4.0674599688372837e-08, 2.081658401209552e-09, 3.9046309296963955e-08, 3.029766215689733e-09, 2.696698402360198e-07, 3.004333279932325e-07, 1.411641292747845e-08, 9.474621975869013e-08, 2.1703163710640183e-09, 5.151329141028782e-09, 7.692722903129834e-09, 1.7373195078107528e-06, 2.145616093685021e-07, 8.028146147864845e-09, 1.963356766054858e-08, 2.79635337108175e-08, 4.54962219009758e-06, 1.2488714062897088e-08, 3.94368232514708e-10, 8.871000045651556e-10, 1.1580959524692958e-09, 2.37914733247635e-07, 9.716821836036615e-08, 3.2979385888864954e-09, 7.41586259067617e-09, 1.0114825421680962e-08, 1.722208935461822e-06, 5.214320708546438e-07, 1.9495088210419453e-08, 4.171030809629883e-08, 8.116835914506737e-08, 1.8575770809547976e-05, 1.229906132493852e-07, 1.693394402479953e-08, 1.9618557445255647e-08, 1.0675827333272991e-08, 6.273888963903573e-09, 4.129882427150733e-07, 6.58938219544325e-08, 6.556885523423261e-08, 5.663806135203231e-08, 3.0276474660695385e-08, 1.6286954007682652e-08, 3.28828431150896e-09, 2.921633379671107e-09, 1.9569925679974176e-09, 1.1354300832877584e-09, 1.336129429319044e-07, 2.998607584459023e-08, 2.748603122881832e-08, 1.8045216876316772e-08, 1.084752643265574e-08, 8.721987683202315e-07, 1.9214809299228364e-07, 1.5981190415459423e-07, 1.1885673956157916e-07, 7.107772859171746e-08, 8.212546021013623e-08, 3.896095890354445e-09, 3.2101643228088506e-06, 6.07038145972183e-06, 3.764111511372903e-07, 4.2904846964120225e-07, 2.096262363693313e-08, 1.1043914128094912e-05, 1.7475589629611932e-05, 1.6060839698184282e-06, 1.0718143705901184e-08, 6.719044765013393e-10, 3.9212972069435637e-07, 7.706426004006062e-07, 5.94488618332889e-08, 1.0605690192733164e-07, 6.494016435709682e-09, 3.5292878237669356e-06, 6.609182491956744e-06, 4.830647526432585e-07, 9.162750416180643e-07, 4.998988245574765e-08, 1.8222310245619155e-05, 7.994318002602085e-05, 2.43354315898614e-06, 3.363435041592311e-08, 1.5719455959128936e-08, 1.4924328439747114e-08, 3.7467891011999654e-09, 7.595958777528722e-06, 1.0462994737281406e-07, 6.107494243678957e-08, 5.378487344387395e-08, 2.0035589187727965e-08, 1.8093978724209592e-05, 4.514252083254178e-09, 2.5951316651173784e-09, 2.409769495059777e-09, 7.538534796402985e-10, 7.1563084702575e-07, 3.3844528957160946e-08, 2.040606439379644e-08, 2.1249162429626267e-08, 6.514002226509774e-09, 7.0218416112766135e-06, 2.456756078572653e-07, 9.072237361351654e-08, 1.1106171626806827e-07, 4.553080401592524e-08, 4.169141539023258e-05, 3.736711828850048e-09, 2.0021643649670295e-06, 1.5706843896623468e-06, 2.2242025465857296e-07, 2.5254573188249196e-07, 1.5490071447743503e-08, 5.54786538486951e-06, 2.9610794172185706e-06, 6.067609774618177e-07, 7.57267343942658e-07, 7.026834669687787e-10, 1.9986758559298323e-07, 1.583343163247264e-07, 2.3624179945613832e-08, 3.4023749151401717e-08, 6.16934503483435e-09, 2.1520888822124107e-06, 1.4492184163827915e-06, 1.8171149918089213e-07, 2.7183517659068457e-07, 4.003124232099253e-08, 1.1789454219979234e-05, 7.839268619136419e-06, 1.0627038591337623e-06, 1.5607311070198193e-06, 8.117484071590297e-07, 1.0507668513071167e-08, 2.5884972387757443e-07, 1.6982208705940138e-07, 2.146788524726162e-08, 2.1801770344609395e-06, 2.6727764890210892e-08, 6.528401854666299e-07, 3.604612004437513e-07, 6.700404497905765e-08, 8.715637278555732e-08, 1.4897899580645912e-09, 3.33417489173371e-08, 1.7046588141056418e-08, 2.7639264210677084e-09, 7.718003303125442e-07, 9.689908431198546e-09, 2.3545059946172842e-07, 1.6050411488777172e-07, 2.2192608639670652e-08, 5.544723535422236e-06, 7.561971671066203e-08, 1.6205385691137053e-06, 7.796144245730829e-07, 1.6774373534644837e-07, 3.360197098345452e-08, 8.176223076361566e-08, 7.127417234187305e-08, 6.264504577302432e-07, 2.9765018894067907e-07, 8.469588408388518e-08, 1.76546961938584e-07, 1.489348022687409e-07, 1.3515392538465676e-06, 7.7214633620315e-07, 4.270063858058393e-09, 8.331916490078584e-09, 7.724613837467587e-09, 6.548736308786829e-08, 3.4369957546687147e-08, 3.1559867608166314e-08, 6.993107604102988e-08, 6.386721196349754e-08, 6.651063699791848e-07, 2.97622648304241e-07, 2.3495040579746274e-07, 5.408556376096385e-07, 4.5313436203286983e-07, 4.540316240309039e-06, 2.5203880795743316e-06, 5.795753565962514e-08, 2.6279032283582637e-08, 5.867439867301982e-08, 4.926463134324877e-06, 6.673210428687071e-09, 5.4062972765223094e-08, 3.907171119976738e-08, 6.012474074168495e-08, 4.466440259420779e-06, 1.064280930052064e-08, 3.3502328022905203e-08, 1.0294431973534302e-08, 2.9362601239313335e-08, 2.1099065179441823e-06, 3.6359342203695633e-09, 2.404334686900711e-08, 1.1964185198110044e-08, 2.3722387609836915e-08, 1.9860738120769383e-06, 3.3958769130038036e-09, 6.587836054450236e-08, 2.8232729931687572e-08, 6.269382168966331e-08, 4.072244792041602e-06, 1.058866683223414e-08, 1.483730648033088e-05, 1.4224469602197587e-08, 1.8621199160406832e-07, 6.421089346986264e-05, 2.074809708574321e-05, 1.1494388672872446e-05, 1.7151505105061915e-08, 1.8270718271651276e-07, 5.027218139730394e-05, 1.2275465451239143e-05, 6.743793164787348e-06, 8.155457642544661e-09, 9.066182826700242e-08, 2.2903401259100065e-05, 8.507873644703068e-06, 4.665390406444203e-06, 5.35042854465928e-09, 7.28481381884194e-08, 1.418415195075795e-05, 7.067276783345733e-06, 1.1378519047866575e-05, 2.0726620419964092e-08, 1.6813854131214612e-07, 3.641982766566798e-05, 1.1421211638662498e-05, 6.790859970351448e-06, 3.569139607861871e-06, 2.6022962629212998e-06, 4.6183602535165846e-05, 1.0042383109976072e-05, 6.067232789064292e-06, 2.1613836906908546e-06, 2.736353053478524e-06, 4.966785490978509e-05, 8.593134225520771e-06, 3.57615181201254e-06, 1.4339062772705802e-06, 1.2180205430922797e-06, 1.7921373000717722e-05, 3.724415137185133e-06, 2.5536919565638527e-06, 1.1657423328870209e-06, 1.0629835287545575e-06, 9.267131645174231e-06, 3.2675561669748276e-06, 4.830767011299031e-06, 2.644761707415455e-06, 2.0527370452327887e-06, 2.616238452901598e-05, 5.812941253680037e-06, 3.5753635074797785e-07, 7.573573768127062e-09, 3.931114278543646e-08, 3.386523985682288e-06, 2.0123293253959673e-08, 4.424653354817565e-07, 7.53996154401193e-09, 4.788682161915858e-08, 3.074750566156581e-06, 2.128469667184163e-08, 1.7226345505605423e-07, 3.3681841760113684e-09, 1.6989169182579644e-08, 1.3394455891102552e-06, 8.573327825445176e-09, 1.3997122039199894e-07, 3.2559932527931323e-09, 2.1400673233529233e-08, 1.018503212435462e-06, 8.397377015967322e-09, 3.9317109212788637e-07, 8.367782022844494e-09, 4.2673875100263103e-08, 2.225780008302536e-06, 2.0990070126458704e-08, 2.9855328875783016e-08, 8.33179637993453e-06, 5.651269748341292e-05, 4.300693490222329e-08, 5.433990736491978e-06, 3.1852017912115116e-08, 7.804589586157817e-06, 3.735482459887862e-05, 4.8802998975361334e-08, 4.758917839353671e-06, 1.642747449182025e-08, 4.231714683555765e-06, 2.3957825760589913e-05, 2.17001527857974e-08, 2.013688344959519e-06, 1.2841646856998068e-08, 4.030010131828021e-06, 1.998453626583796e-05, 1.8021276915192175e-08, 1.8103393131241319e-06, 2.8868750945321153e-08, 5.947415502305375e-06, 3.694338374771178e-05, 5.209161457742084e-08, 3.7051711387903197e-06, 1.026303024787012e-07, 6.6896879147293475e-09, 2.404243026887798e-08, 5.488313803425626e-08, 5.326817813511298e-07, 8.295290854221093e-08, 6.44355324652679e-09, 3.506443135847803e-08, 6.949679232093331e-08, 5.6960629990499e-07, 4.859085578345912e-08, 2.9387519084878022e-09, 1.257090076478562e-08, 2.47825902022214e-08, 2.799441460865637e-07, 4.290378186055932e-08, 2.9717599492329327e-09, 1.071303401545265e-08, 2.4353411731681263e-08, 2.146887396747843e-07, 8.321374167508111e-08, 6.665133334138318e-09, 3.1952602341789316e-08, 6.285342379896974e-08, 5.304324872668076e-07, 6.994373791258113e-08, 1.1108094440714922e-05, 1.7175084110476746e-07, 2.1224906276984257e-07, 2.0553461581584997e-06, 4.7799677105331284e-08, 6.7116297941538505e-06, 1.7593433199181163e-07, 1.6145257575317373e-07, 1.3196015515859472e-06, 2.8619954406394754e-08, 4.715439899882767e-06, 9.332784856042053e-08, 9.020473612508795e-08, 9.92185505310772e-07, 2.432217094394673e-08, 5.604125817626482e-06, 7.412938884954201e-08, 8.983045063359896e-08, 9.696037750472897e-07, 4.5942815773969414e-08, 6.778921942895977e-06, 1.6785159573373676e-07, 1.5652743456939788e-07, 1.3604296782432357e-06, 6.541755137590144e-09, 4.968384814674209e-07, 4.3017436723857827e-07, 2.166206591880382e-08, 1.7863075640889292e-07, 7.355163145206234e-09, 2.44814231109558e-07, 3.708766485033266e-07, 1.815368300128739e-08, 1.6876425945611118e-07, 3.785059377037214e-09, 1.8897024745001545e-07, 1.8276139712725126e-07, 9.762350039466128e-09, 8.319899080788673e-08, 2.2529742516042006e-09, 1.8766424147997895e-07, 1.7685464115402283e-07, 8.351183744537138e-09, 7.794369594193995e-08, 7.500874588117767e-09, 2.530196354655345e-07, 3.679024018765631e-07, 1.6745532960271703e-08, 1.6329217089605663e-07, 1.7582195255272381e-07, 1.8736356651061215e-05, 2.4606841009244818e-09, 1.1647965720840148e-06, 1.5857095547744393e-07, 1.6144672088103107e-07, 1.396014977217419e-05, 2.6958040244551285e-09, 8.723517908038048e-07, 1.7623625581109081e-07, 7.126288181780183e-08, 7.85504380473867e-06, 1.2958463191381497e-09, 4.702101819020754e-07, 7.056618045453433e-08, 7.303916049750114e-08, 4.71564635518007e-06, 1.0627569935195424e-09, 3.9783637362234003e-07, 7.553006042826382e-08, 1.4003197179590643e-07, 1.5776933651068248e-05, 3.0869664602306557e-09, 1.0434462183184223e-06, 1.7173969979467074e-07, 6.402002838967746e-08, 1.904664692631286e-08, 4.4724053793743224e-08, 3.0253900717980287e-08, 7.357606364166713e-07, 7.27431626046382e-08, 1.8188273998021032e-08, 4.3430794960386265e-08, 2.7546860792426742e-08, 6.244468977456563e-07, 2.7474502672930612e-08, 7.896870712897908e-09, 1.9129325679045905e-08, 1.3714911872853008e-08, 2.9318874794626026e-07, 2.72752043173341e-08, 9.026424940827837e-09, 2.13228101841878e-08, 1.4439022422152448e-08, 3.4110112778762414e-07, 6.58602701264499e-08, 1.626708545643396e-08, 3.6393217328622995e-08, 2.413966271319623e-08, 5.359889314604516e-07, 7.4393513571635594e-09, 1.2616087019523547e-07, 4.554235033538134e-08, 7.056156547946557e-09, 7.530275070166681e-09, 8.717063515462087e-09, 1.490656700298132e-07, 5.217932042000939e-08, 8.599630341166176e-09, 8.973895404551513e-09, 3.2136617811318047e-09, 5.190268126398223e-08, 2.0067448147642608e-08, 3.297202733065774e-09, 2.8739903790153676e-09, 3.548687788068605e-09, 5.3285248213796876e-08, 2.215209349287761e-08, 3.602688369852558e-09, 2.877341476192896e-09, 8.069934942511736e-09, 1.3425437828118447e-07, 4.8770800731290365e-08, 7.222855202826395e-09, 8.470101064972368e-09, 1.564426668210217e-07, 1.154521545032594e-08, 8.773495210334659e-06, 2.5134285763783737e-08, 1.8741636154118169e-07, 1.5493179716941086e-07, 1.5310687828673508e-08, 8.273552339232992e-06, 1.9982540067076116e-08, 1.6184874596092413e-07, 6.411350739199406e-08, 5.78990633215426e-09, 4.187710146652535e-06, 1.0446280285236753e-08, 7.439879823323281e-08, 6.834383015075218e-08, 4.999614944267705e-09, 3.4742070056381635e-06, 9.825020796938588e-09, 7.54632480948203e-08, 1.228886219450942e-07, 1.3329967352149197e-08, 6.917984592291759e-06, 1.8684735536567132e-08, 1.5459336566436832e-07, 1.0983417553234176e-07, 2.2430580060017746e-08, 1.8385760469641355e-08, 3.405776993758991e-08, 8.198223895306e-07, 9.284509872031776e-08, 2.4239410478799073e-08, 1.902834512179652e-08, 4.314109247616216e-08, 7.741216450085631e-07, 5.432626082324532e-08, 1.1084727802312955e-08, 7.830800008434835e-09, 1.7369082172535855e-08, 3.7066945424157893e-07, 4.890625149300831e-08, 1.0236261616114462e-08, 8.058184342019103e-09, 1.5070586556475973e-08, 3.3400377219550137e-07, 8.511953808465478e-08, 2.1229920932341884e-08, 1.6750677289678606e-08, 4.070432169100968e-08, 6.661303473265434e-07, 2.774068832422927e-07, 4.211523901176406e-06, 7.996026596401862e-08, 4.1462914168732823e-07, 3.126843139966695e-08, 3.038720564063624e-08, 5.172460078028962e-07, 1.1572486968702833e-08, 4.9637577603789396e-08, 3.966412975842104e-09, 3.679307525317199e-08, 5.055122187513916e-07, 1.0726344257250275e-08, 4.6411379628352734e-08, 3.2439237962478273e-09, 3.9403408891303116e-07, 5.640430117637152e-06, 8.054484368358317e-08, 3.833128232599847e-07, 2.7599979190995327e-08, 1.280781702917011e-08, 1.245787331072279e-07, 3.6327383323708773e-09, 1.2731145027089497e-08, 1.0708329778452708e-09, 1.377745320496615e-06, 1.3020350309034256e-07, 2.0677203792729415e-05, 1.4970314765605508e-08, 7.1952189273361e-07, 1.2233972768171952e-07, 1.6138800518206153e-08, 1.8171737110606045e-06, 2.346720817669734e-09, 9.338982209783353e-08, 1.3537099619043147e-07, 1.4543224402530086e-08, 2.2639010239799973e-06, 1.6342895925447465e-09, 8.375481996836243e-08, 1.7568145267432556e-06, 1.3184829583678948e-07, 3.2515061320737004e-05, 1.2348490230351672e-08, 6.418790121642814e-07, 5.577177830673463e-08, 5.063394592497161e-09, 4.752794779960823e-07, 8.655361982690124e-10, 2.6038991407517642e-08, 4.959026114192966e-07, 8.699826139491051e-06, 3.0758009472720005e-08, 8.132369089253189e-07, 4.076958504128925e-08, 7.02061129231879e-08, 8.259647188424424e-07, 3.719177188443723e-09, 1.0361353020016395e-07, 4.398423403273455e-09, 5.679719095041946e-08, 7.98582902916678e-07, 2.9726785477635076e-09, 6.978890354503164e-08, 4.528420749494444e-09, 4.969204496774182e-07, 9.641905307944398e-06, 2.5285991966939037e-08, 5.686803774551663e-07, 3.322646335846002e-08, 2.0312750592665907e-08, 2.2697479096223105e-07, 1.2959081585606214e-09, 2.9829148928683935e-08, 1.754648204510545e-09, 1.7009033115300554e-07, 3.923106760339579e-06, 1.6032627172535285e-05, 3.4160971154051367e-06, 5.436448554974049e-05, 2.531533027649857e-08, 4.5986038799128437e-07, 2.2014082787791267e-06, 3.731369133674889e-07, 5.030738520872546e-06, 2.7989734974198655e-08, 4.233932315855782e-07, 1.5206531998046557e-06, 3.083955562033225e-07, 4.827768862014636e-06, 2.238812015775693e-07, 5.700710971723311e-06, 1.7389209460816346e-05, 3.6413714497030014e-06, 8.655311103211716e-05, 8.013734564826791e-09, 1.2113095237964444e-07, 5.453357516671531e-07, 1.05755724177925e-07, 1.348203795714653e-06, 7.967783858475741e-06, 1.0134604622180632e-07, 3.3755513868527487e-06, 1.0832623331680225e-07, 0.00025628216098994017, 7.079048600644455e-07, 1.5309810308394844e-08, 4.159523427915701e-07, 1.5369469252846102e-08, 1.6022080671973526e-05, 6.112242658673495e-07, 8.809880824856009e-09, 3.224851639060944e-07, 1.3137806398333396e-08, 1.2821701602661051e-05, 8.709297617315315e-06, 7.824353787100335e-08, 3.7505055843212176e-06, 8.438837539870292e-08, 0.0002770682913251221, 2.2144264733015007e-07, 4.639710393661289e-09, 9.31606720655509e-08, 6.149338371841395e-09, 3.682481747091515e-06, 1.49527136272809e-06, 2.00027969299299e-07, 4.220085543238383e-07, 3.1453378142032307e-06, 3.1396086797030875e-07, 1.604591233217434e-07, 1.887565659330903e-08, 5.201398067811169e-08, 3.183225771863363e-07, 3.6004710324277767e-08, 1.406445306884052e-07, 1.3894536188274742e-08, 3.829802253108028e-08, 3.164133772770583e-07, 2.6510159401027522e-08, 1.7182715055241715e-06, 1.8385854616553843e-07, 3.9011027297419787e-07, 3.4123397654184373e-06, 2.5412310833416996e-07, 5.341733100294732e-08, 5.952077053450466e-09, 1.6353569165517e-08, 1.0809919359644482e-07, 1.0978366660197025e-08, 1.1746595191652887e-05, 2.6309508029953577e-06, 1.0386403204165617e-07, 8.664718365025692e-08, 2.056795977978254e-07, 1.4387512692337623e-06, 2.743641118740925e-07, 1.1466561922190976e-08, 1.1209638550724321e-08, 2.4897579109506296e-08, 1.3373841056818492e-06, 2.8889772352158616e-07, 1.1819499157184055e-08, 7.347199293405993e-09, 2.4825547839668616e-08, 1.8275059119332582e-05, 3.6774213185708504e-06, 1.2805746507638105e-07, 6.690176235224499e-08, 2.7598008500717697e-07, 4.189961089196004e-07, 9.279906976189523e-08, 4.4245922481422895e-09, 3.3819602673901272e-09, 9.204525142081366e-09, 2.5749062615432194e-07, 3.161854692734778e-06, 9.364200082018215e-07, 1.4876205796099384e-06, 2.0353496438474394e-05, 3.501737566580232e-08, 3.166424846767768e-07, 9.774446141364024e-08, 1.1557326473621288e-07, 2.1413713966467185e-06, 3.519025781884011e-08, 3.4863603559642797e-07, 1.063033749915121e-07, 1.658715405028488e-07, 1.8752824644252541e-06, 3.4637818657756725e-07, 3.864352038362995e-06, 8.410971759076347e-07, 2.4232722353190184e-06, 3.081166141782887e-05, 9.646940135610294e-09, 1.0186833776515414e-07, 2.8826770304135607e-08, 4.339304382483533e-08, 4.897901249023562e-07, 2.412031676612969e-07, 1.194538867821393e-07, 2.6430393518239725e-06, 1.3702667445159022e-07, 7.810046554368455e-06, 3.1100753972168604e-08, 1.6029892080382524e-08, 2.5948418169718934e-07, 1.4184751151447017e-08, 8.68356892169686e-07, 2.9611415541808128e-08, 1.3846360502611788e-08, 2.2979554614721565e-07, 1.3772504914300043e-08, 9.67901087278733e-07, 2.438053741116164e-07, 1.1493346363522505e-07, 2.2944548163650325e-06, 1.3314026148236735e-07, 1.3109467545291409e-05, 8.798747508365068e-09, 4.5508903312452276e-09, 7.414296021579503e-08, 6.1289866515323865e-09, 2.27574318500956e-07, 1.1599545359786134e-06, 6.919000838934153e-07, 4.0721991467762564e-07, 7.893447218521032e-06, 6.643391170513269e-09, 1.3735912318679766e-07, 7.866312046189705e-08, 4.551187515744459e-08, 9.488824161962839e-07, 7.622567577136863e-10, 1.2892564882349689e-07, 5.7876679449009316e-08, 3.270927351195496e-08, 1.0128368330697413e-06, 6.254863849086689e-10, 1.0108171863976168e-06, 6.234211014088942e-07, 3.557815659860353e-07, 1.1458053450041916e-05, 6.324277546099211e-09, 4.4438351665121445e-08, 2.7100449884187583e-08, 1.1804944577420429e-08, 2.7984003736492014e-07, 2.3614560307194665e-10, 6.610809577978216e-06, 1.852882824948665e-08, 1.3306849844241242e-08, 7.784589861614677e-09, 1.916800556500675e-06, 6.573464474968205e-07, 2.0474553164007148e-09, 1.7360991533266201e-09, 1.0037790598715901e-09, 2.3147111960497568e-07, 5.621343461825745e-07, 1.6145597081518304e-09, 1.3704445356310657e-09, 7.234253196486407e-10, 2.2748881178813463e-07, 6.477056103904033e-06, 1.711689634475988e-08, 1.4537316239682241e-08, 8.970780562833625e-09, 2.1609405393974157e-06, 1.6536408509182365e-07, 7.550248204424292e-10, 6.231393734346113e-10, 3.2099478630698286e-10, 9.959818214611005e-08, 1.0888968660083265e-07, 1.7371075955452397e-07, 4.919299317407422e-05, 9.094081860894221e-07, 2.461385406604677e-07, 1.3753629346524576e-08, 1.5759233917833626e-08, 3.176809968863381e-06, 7.717769534565377e-08, 2.3933766968298187e-08, 1.3737976978234201e-08, 1.6818290760056698e-08, 4.202552645438118e-06, 1.0549805296022896e-07, 2.753357009055435e-08, 1.1973938285336772e-07, 1.807114102803098e-07, 8.651366806589067e-05, 1.0715629059632192e-06, 2.3302685292492242e-07, 4.560248623164398e-09, 5.223526056141736e-09, 1.024520770442905e-06, 2.954174505021001e-08, 1.0434312081031294e-08, 1.2452558095787936e-08, 2.3225453560371534e-07, 1.006045181384252e-06, 5.862176749360515e-06, 1.9300631493024412e-07, 1.45494016834391e-09, 2.453912806288372e-08, 9.601127004543741e-08, 5.304223691382504e-07, 2.2811898148233922e-08, 1.2789868053530995e-09, 2.1084042955976656e-08, 1.0424371055250958e-07, 5.508990739144792e-07, 1.6859466711593996e-08, 1.292904272531814e-08, 2.1052264287391154e-07, 1.14486954316817e-06, 7.4883009801851586e-06, 1.8068985241370683e-07, 5.268711023020956e-10, 8.316404453978521e-09, 3.890780675419592e-08, 2.1282571083247603e-07, 6.7342904586098484e-09, 8.870514101033677e-09, 1.516632153197861e-08, 2.0734054473336982e-08, 5.112740231183466e-10, 1.7870556234811374e-07, 5.068353914339241e-08, 8.483347357923776e-08, 8.279246088704895e-08, 3.786864599675255e-09, 8.055219495872734e-07, 1.819885575571334e-08, 2.536598486813091e-08, 2.8235261240183718e-08, 7.553531689019621e-10, 2.4297045797538885e-07, 2.55341827681832e-08, 4.605335490737161e-08, 5.615466491804e-08, 1.4447059104583104e-09, 4.902827299702039e-07, 7.086736530936832e-08, 2.1415053197415546e-07, 2.4900478479139565e-07, 4.002923770229927e-09, 2.0664824660343584e-06, 5.312982276350908e-10, 3.2760688606359167e-10, 6.4883840522611536e-09, 2.6564186961230973e-10, 4.3474126520948175e-09, 2.767027940109301e-09, 1.8938792756273415e-09, 3.118343983032901e-08, 1.3405890841866608e-09, 2.207330851433653e-08, 1.2761163237229312e-09, 9.585986449067718e-10, 1.4047545349171742e-08, 5.334956920677314e-10, 1.0515647907993753e-08, 1.5897980709667081e-09, 8.57795279252116e-10, 1.4382319335481952e-08, 6.652022821462822e-10, 1.2732432885798062e-08, 4.898164984723508e-09, 4.4905075213819146e-09, 1.1919102860247222e-07, 2.869028126184503e-09, 6.958872234008595e-08, 1.1016904011285078e-07, 2.5236676637341304e-10, 1.4772464362877713e-09, 2.397305820522888e-08, 1.5074769210698946e-10, 4.180027133315889e-07, 1.7468843038770387e-09, 8.686392050094582e-09, 1.3475234084125987e-07, 8.637813797562899e-10, 1.3997600945003796e-07, 5.527726609777517e-10, 4.658607277718829e-09, 4.779073847771542e-08, 3.5333747039345553e-10, 3.256805882756453e-07, 6.477832159568209e-10, 3.954160998631551e-09, 7.215477637600998e-08, 3.894013722582912e-10, 9.676039098849287e-07, 2.2623789508458003e-09, 1.8036647730923505e-08, 3.045942946755531e-07, 1.2400976912019246e-09, 2.535986420859615e-10, 8.572342835577729e-10, 3.674503190609357e-08, 2.5310491480468045e-09, 6.932409091220393e-10, 1.5565974065268051e-09, 2.8409787855565583e-09, 1.839793810631818e-07, 1.4045562046760551e-08, 4.149224075433722e-09, 5.346651454907203e-10, 2.2368917829140855e-09, 8.314457744518222e-08, 6.1230629455621965e-09, 1.4219444510743529e-09, 5.778418854518463e-10, 1.9652590665941716e-09, 1.0428924923644445e-07, 7.129343781997477e-09, 1.925498649413271e-09, 2.9256483902173613e-09, 1.4428120920229048e-08, 7.728506830062543e-07, 3.0426932084992586e-08, 4.999061165023022e-09, 5.946598591322072e-08, 3.908050771883609e-08, 9.654078647614028e-10, 1.3929475350948906e-09, 2.0995315708205453e-08, 2.29149748065538e-07, 2.1388459003901517e-07, 4.391557784089173e-09, 8.594481570867174e-09, 9.571962777954468e-08, 1.4617299370911496e-07, 9.277164281229489e-08, 2.87796741993418e-09, 4.2430854385600014e-09, 5.440350747676348e-08, 1.4124105973678525e-07, 1.1773278174587176e-07, 2.407876564802791e-09, 3.4529283876594263e-09, 4.820812193884194e-08, 1.0368208904765197e-06, 6.725301204824063e-07, 1.3244533469958242e-08, 1.864685472696692e-08, 3.692144900924177e-07, 3.511152701918263e-09, 6.469306867984415e-08, 1.1126079613177353e-07, 4.794023880094755e-07, 4.018163224372984e-08, 1.723989662139047e-08, 1.8840825077859336e-07, 4.7315026563410356e-07, 1.428076302545378e-06, 1.7654913619935542e-07, 1.0058474941843087e-08, 1.7179522160404304e-07, 2.196229900164326e-07, 7.082289812387899e-07, 7.451254901980064e-08, 8.300351517220861e-09, 1.584881061944543e-07, 3.6257185342947196e-07, 1.483069354435429e-06, 1.0437162956122847e-07, 6.50128271217909e-08, 1.5076299177962937e-06, 2.2215599528863095e-06, 6.7341397880227305e-06, 5.161481340110186e-07, 5.602269759208411e-10, 1.5108483353287738e-09, 2.230249984691568e-09, 9.874236983620222e-10, 2.4402002196666217e-08, 3.6135063830045056e-09, 7.987030592460087e-09, 1.1547043321513684e-08, 5.21065945946475e-09, 9.420059399189995e-08, 1.357007395341725e-09, 4.0373833165574524e-09, 6.634755411738524e-09, 2.4817816690614336e-09, 4.637279360508728e-08, 1.3969039258654448e-09, 3.6727778596201688e-09, 5.471974429127613e-09, 2.534068066495365e-09, 7.702504944973043e-08, 5.5423190481462825e-09, 2.3342447974528113e-08, 2.3273939220302964e-08, 1.4484120569591141e-08, 3.6001318903799984e-07, 1.0135470240868472e-08, 4.458683733332691e-08, 9.964739433598879e-08, 6.806385233204537e-09, 4.642696694645565e-06, 2.7941837288381066e-08, 1.469015131760898e-07, 2.8535012575048313e-07, 2.0510718456989707e-08, 1.6745600078138523e-05, 2.87498416184917e-08, 8.72841425803017e-08, 2.6375025186098355e-07, 2.0136576850404708e-08, 1.024148423311999e-05, 2.0548389656482868e-08, 1.2023244266856636e-07, 2.381764687697796e-07, 1.5757549931549875e-08, 1.612438245501835e-05, 2.2735392235517793e-07, 1.0524286153668072e-06, 2.002928340516519e-06, 1.3699921908028045e-07, 0.00019331101793795824, 1.9910640958187287e-07, 7.452761252579876e-08, 3.667277681529413e-08, 2.5652713020463125e-07, 1.138059360528132e-06, 7.805533641658258e-07, 2.5825175953286816e-07, 1.1226353535676026e-07, 1.0460754538144101e-06, 6.32994942861842e-06, 3.1609033612767234e-07, 1.5026462563128007e-07, 8.165796572257022e-08, 3.402878405722731e-07, 1.2395516932883766e-06, 6.160105385788484e-07, 2.1782952330795524e-07, 8.811313279011301e-08, 9.103252409659035e-07, 3.918231413990725e-06, 2.5202823508152505e-06, 1.1034721865144093e-06, 5.634966555589926e-07, 2.7955297809967306e-06, 1.7426327758585103e-05, 4.2150256263084884e-07, 2.4066427073421437e-08, 2.4368187951040454e-05, 4.9035143945275195e-08, 3.547194467046211e-07, 1.638387402635999e-06, 9.933599187661457e-08, 8.837991481414065e-05, 2.1349515577639977e-07, 1.1340625860611908e-06, 8.224982934734726e-07, 7.157360215614972e-08, 5.060266994405538e-05, 9.794190702905325e-08, 8.535794222552795e-07, 1.675613020779565e-06, 6.75961970841854e-08, 7.474915037164465e-05, 1.1794156762334751e-07, 9.280549875256838e-07, 1.0447502063470893e-05, 5.644093334922218e-07, 0.0006682219682261348, 8.034121492528357e-07, 6.530184236908099e-06, 8.656504846271673e-09, 1.2728722253996239e-07, 2.3561943507388605e-08, 1.3680243604596853e-08, 1.5506351758176606e-09, 2.8485548142498374e-08, 3.9294991438509896e-07, 7.700830195744857e-08, 6.285846154696628e-08, 7.442260585577287e-09, 2.5674442127865404e-08, 3.456314345839928e-07, 6.859313117502097e-08, 3.349427402099536e-08, 5.605661268504036e-09, 1.5106069284342993e-08, 3.73009868326335e-07, 7.013490943563738e-08, 3.851786800623813e-08, 3.892864697263576e-09, 1.8985736005561193e-07, 3.4150027659052284e-06, 5.656330586134573e-07, 2.60196344470387e-07, 2.656913267173877e-08, 1.6375595635054196e-07, 1.9707355747300426e-09, 2.8794652280339506e-06, 2.3436356855199847e-08, 6.756613046832172e-09, 5.673423970620206e-07, 7.3912067577452945e-09, 9.584487997926772e-06, 5.957667781331111e-08, 2.522298636620235e-08, 3.483764601242001e-07, 5.176730599742996e-09, 7.536307748523541e-06, 6.412109598841198e-08, 2.312195235276704e-08, 5.192550815991126e-07, 4.5358117262139785e-09, 8.531151252100244e-06, 5.852105289250176e-08, 2.0018209312411273e-08, 3.859976459352765e-06, 3.845158147441907e-08, 9.917532588588074e-05, 4.831836122320965e-07, 1.1493006013552076e-07, 1.3580481095232244e-07, 1.7601084323359828e-07, 1.399918492239749e-08, 8.663342931924944e-09, 5.619269316525788e-08, 2.926923059476394e-07, 5.497234951690189e-07, 3.2955068007822774e-08, 3.381981272809753e-08, 1.673348748454373e-07, 3.1411062195729755e-07, 3.053997090773919e-07, 3.4157238815168967e-08, 2.4345236937506343e-08, 1.2469735111153568e-07, 2.758043535777688e-07, 5.519466412806651e-07, 3.632102973938345e-08, 2.039007362952816e-08, 1.676137344475137e-07, 2.9840587103535654e-06, 5.677311037288746e-06, 3.248334792260721e-07, 1.7768981308563525e-07, 1.5935428336888435e-06, 5.4177946573474856e-09, 2.7001073377164175e-08, 7.699857640375285e-09, 1.1485600248661854e-09, 1.04432604075555e-06, 5.145319281751881e-09, 2.8453403189132587e-08, 7.581522964983378e-09, 8.52026171838105e-10, 1.2486459581850795e-06, 1.8238088372868333e-08, 1.0082969481572945e-07, 2.980037194788565e-08, 3.1801010713650157e-09, 4.973323939339025e-06, 6.900826576838881e-10, 4.315563462142791e-09, 1.1293931345690567e-09, 1.6740918373781e-10, 2.0424509727945406e-07, 4.392873176328749e-09, 2.2000090638130132e-08, 5.9877858227253e-09, 8.743201718175442e-10, 9.825087090575835e-07, 1.0940782502188995e-08, 1.4295341577152954e-09, 4.661531605165692e-09, 5.309540362929965e-09, 7.424877601636126e-09, 1.1017488255049557e-08, 1.1125453891480674e-09, 4.067232772797524e-09, 4.692047195220539e-09, 7.647342314953676e-09, 4.438676270979158e-08, 4.134293352109353e-09, 1.495096668691076e-08, 1.7343490199550615e-08, 2.9399474854585605e-08, 1.419830475413164e-09, 1.8491000397524715e-10, 6.605495039835318e-10, 7.712979699370237e-10, 1.1889994544489468e-09, 7.160975812325887e-09, 1.104481395231005e-09, 3.650888924511264e-09, 4.926930863291545e-09, 6.933590146473989e-09, 4.827101633964048e-07, 1.2213241973313416e-08, 8.573733389916072e-10, 4.6322227831296914e-08, 1.2839169585276977e-06, 5.958939937045216e-07, 1.2053513742671385e-08, 8.467593848315857e-10, 4.636642003674751e-08, 1.211765265907161e-06, 2.235951569673489e-06, 4.35416964705837e-08, 2.8644298044611105e-09, 1.8361690479196113e-07, 5.082854386273539e-06, 9.934092304320075e-08, 1.5018353227702619e-09, 1.152799591896958e-10, 7.179150607328211e-09, 2.2800792010002624e-07, 4.671974807024526e-07, 6.663505747184217e-09, 5.966828142689451e-10, 4.044306223249805e-08, 1.0935991667793132e-06, 5.7556661658964003e-08, 4.909414883513818e-07, 9.674469225728899e-09, 1.307929942129249e-08, 8.461514511282076e-08, 6.892283010984102e-08, 7.360069957940141e-07, 8.70662919538745e-09, 1.4293793704212021e-08, 9.910680631719515e-08, 2.3611683275248652e-07, 1.9339172467880417e-06, 2.9123876643666335e-08, 4.810286213796644e-08, 3.669331931632769e-07, 7.504366905664028e-09, 1.3421919220490963e-07, 1.2326293319375736e-09, 2.1339114919527447e-09, 1.4384760049779288e-08, 5.0074241642050765e-08, 8.865144991432317e-07, 6.913846828382475e-09, 1.143705308237486e-08, 7.52569846440565e-08, 7.530510174547089e-06, 2.1839455257577356e-06, 1.333762611466227e-07, 1.775964619810111e-07, 7.47281603707961e-07, 5.911676453251857e-06, 2.292298404427129e-06, 1.3965573941732146e-07, 1.9529484518443496e-07, 8.221006737585412e-07, 2.6216153855784796e-05, 8.922414053813554e-06, 5.472879820445087e-07, 7.932914627417631e-07, 3.2371815450460417e-06, 1.9267065454187104e-06, 4.5632569367626274e-07, 2.346726546420541e-08, 3.783639357379798e-08, 1.325387728456917e-07, 9.510290510661434e-06, 1.998185325646773e-06, 1.1177554171126758e-07, 2.009936110880517e-07, 6.968846264499007e-07, 4.111780427251688e-08, 1.7382245687258546e-07, 3.3673252630705974e-08, 7.937494928000888e-08, 2.995984402787144e-07, 4.613274739995177e-08, 1.8626332121129963e-07, 3.4733673714981705e-08, 9.60759436452463e-08, 3.902334242411598e-07, 1.5248762963437912e-07, 6.856258778498159e-07, 1.2814932404126012e-07, 3.194197688571876e-07, 1.389865246892441e-06, 8.297819320546296e-09, 3.870108500336755e-08, 6.084562631514245e-09, 1.2873773158617041e-08, 6.853951362018051e-08, 4.8047013478935696e-08, 2.025366114821736e-07, 3.37304619790757e-08, 8.355282687944054e-08, 2.775815346467425e-07, 1.4655135771590722e-08, 2.8645392724513385e-09, 1.894504038091327e-07, 9.623054353369298e-08, 3.610655596730794e-08, 1.1547637512876463e-08, 2.19779749954796e-09, 2.2259806087276957e-07, 1.1734414329112042e-07, 4.1582019605357345e-08, 4.2093770247220164e-08, 8.160623288233637e-09, 7.993334634193161e-07, 4.1355144730914617e-07, 1.4951115190342534e-07, 2.4300594869686165e-09, 3.9926509320942216e-10, 3.3726212933515853e-08, 2.0285416013621216e-08, 6.087441661861703e-09, 1.4313384255615347e-08, 2.2377324437883317e-09, 2.2554978329480946e-07, 1.0593055321805878e-07, 3.533014591994288e-08, 7.467086504675535e-09, 7.910739618921525e-09, 1.993404197264681e-08, 2.019581124557135e-08, 2.2390826970308808e-08, 7.582102057313023e-09, 7.640533539188255e-09, 1.9026275666078618e-08, 1.6156571192027513e-08, 1.9860342703736933e-08, 2.7035705230105123e-08, 2.562937773120666e-08, 7.066382323728249e-08, 6.002252916914586e-08, 6.292443543998161e-08, 9.66122515322354e-10, 1.0996614729918974e-09, 2.503891094463029e-09, 2.7247890610482273e-09, 3.1602922501150488e-09, 5.377581491217143e-09, 6.833468013667243e-09, 1.5829424881985688e-08, 1.7074377467451995e-08, 2.002496657382835e-08, 1.5375366047010175e-07, 5.562045544138527e-07, 6.097763360912722e-08, 5.581572963819781e-07, 1.3301235668450317e-09, 2.2910320751634572e-07, 7.189100870164111e-07, 6.924896212012754e-08, 8.327604632540897e-07, 1.1727311344245095e-09, 8.293991413665935e-07, 2.1581686269200873e-06, 2.6055144530801044e-07, 2.2533488390763523e-06, 4.195092273562295e-09, 5.5823186073666875e-08, 1.417187007746179e-07, 1.4922306945663877e-08, 1.8823457992311887e-07, 1.810187000295116e-10, 3.4514724234213645e-07, 6.654046273979475e-07, 7.404361213048105e-08, 1.0309651088391547e-06, 1.0989149590301395e-09, 2.1917837500495807e-07, 3.148483429527005e-08, 2.629934670039802e-07, 5.251798107508421e-09, 3.0483607815767755e-07, 3.0465994882433733e-07, 3.367459555647656e-08, 3.763895790598326e-07, 4.849047385846461e-09, 4.712544239282579e-07, 9.172174486593576e-07, 1.3164036261059664e-07, 1.1663750001389417e-06, 1.998261645042021e-08, 1.3224815802459489e-06, 5.7698557043295295e-08, 6.30402086088111e-09, 7.520962697071809e-08, 7.49409256872724e-10, 1.3033718460064847e-07, 3.2799371751934814e-07, 3.436163353853772e-08, 4.658960506276344e-07, 4.450015911316996e-09, 5.640574158860545e-07, 4.782817768500536e-07, 1.834394396382777e-07, 3.6752729748457114e-09, 6.252853950172721e-07, 1.3932033304797642e-08, 5.801815063932736e-07, 2.3027642725992337e-07, 3.7240681649564067e-09, 8.356053058378166e-07, 1.4847921114835572e-08, 2.35083120969648e-06, 9.236772484655376e-07, 1.4887396204699144e-08, 3.017612698386074e-06, 5.564957916703861e-08, 1.1737785143850488e-07, 4.0181788563131704e-08, 4.670125952621618e-10, 1.1708213065730888e-07, 2.100684071137948e-09, 5.344846272237191e-07, 1.9073353030307771e-07, 2.716890712406439e-09, 6.231482529983623e-07, 1.2562822782058447e-08, 9.84385451374692e-07, 9.311573023751407e-08, 2.141945820710589e-08, 1.4606125375848933e-07, 4.794476282654614e-08, 1.1902659480256261e-06, 1.3078867766580515e-07, 2.3471697474519715e-08, 1.9393402794776193e-07, 5.7825918275966615e-08, 4.047221864311723e-06, 4.0467409689881606e-07, 8.391136674390509e-08, 6.304035196080804e-07, 2.000334831109285e-07, 2.966840781937208e-07, 2.2910139563236953e-08, 4.443214240978932e-09, 4.6350244531367935e-08, 1.1202820004996283e-08, 1.7228626347787213e-06, 1.3066711801457132e-07, 2.5276154502762438e-08, 1.9183521260401903e-07, 6.681657538365471e-08, 3.015641070192032e-09, 8.563622486690292e-07, 7.266079649070889e-08, 6.923523443447266e-08, 1.055256149129491e-07, 3.120472547024633e-09, 1.246937131327286e-06, 9.552174873306285e-08, 8.08776619010132e-08, 1.273952960900715e-07, 1.2195596532649233e-08, 3.960087724408368e-06, 2.9827563707840454e-07, 2.929293714259984e-07, 4.343482657986897e-07, 4.489537352991846e-10, 3.63831276217752e-07, 1.6607584640837558e-08, 1.552601069931825e-08, 2.950075206342717e-08, 2.5710251705390874e-09, 1.7058823686966207e-06, 8.682238217261329e-08, 1.007093786142832e-07, 1.8396745815607574e-07, 3.9697525267001765e-08, 1.2316445463511627e-07, 1.8100843135471223e-07, 1.7865750123746693e-07, 1.867949706024774e-08, 6.0433382031988e-07, 2.6831355626200093e-06, 3.2633581668051193e-06, 2.6886198156717e-06, 1.7930938156496268e-07, 2.6315756258554757e-06, 1.4904870113241486e-05, 2.4525790649931878e-05, 1.8472321244189516e-05, 1.1001579878211487e-06, 9.619934360216575e-08, 3.223535713914316e-07, 6.100788141338853e-07, 5.039425445829693e-07, 3.6114688128918715e-08, 2.934597773673886e-07, 9.863711056823377e-07, 2.054505557680386e-06, 1.6510406339875772e-06, 1.1804284838490275e-07, 5.272837810821329e-08, 2.440419564209151e-07, 1.9408445961488496e-09, 3.868728626343909e-08, 1.0251149433315732e-05, 1.1692150110320654e-06, 5.478354523802409e-06, 2.3136291105174678e-08, 9.714095767776598e-07, 0.0001702937443042174, 9.126827535510529e-06, 2.120315912179649e-05, 8.322755462586429e-08, 5.360704562917817e-06, 0.0015236876206472516, 1.6869925900664384e-07, 8.342859132426383e-07, 4.949772591800183e-09, 1.313067059527384e-07, 3.19253776979167e-05, 4.882264761363331e-07, 2.322703494428424e-06, 1.8356290709675704e-08, 3.900388776401087e-07, 8.40828288346529e-05, 2.38725377244009e-08, 1.559688911356716e-08, 1.6435151906080137e-08, 2.2887778783342583e-08, 3.777753221356761e-09, 3.573369156129047e-07, 2.654140587310394e-07, 2.514038044409972e-07, 3.2927084703260334e-07, 6.094624183106134e-08, 1.6498773902640096e-06, 1.2948028143000556e-06, 1.105567321246781e-06, 1.5630084817530587e-06, 2.778673149350652e-07, 6.817575126660813e-08, 4.3375411706847444e-08, 4.271679543421669e-08, 7.719182804066804e-08, 1.3669549936423664e-08, 2.5301386585852015e-07, 1.2408025895638275e-07, 1.6183456352791836e-07, 2.3687309180786542e-07, 4.314635759783414e-08, 9.175033649500008e-11, 7.301308002638507e-09, 6.037825528437679e-08, 3.6072151488042437e-07, 3.4734981557704714e-09, 8.750274949065329e-10, 1.089484840122168e-07, 7.689702670177212e-07, 9.324719940195791e-06, 6.032115607013111e-08, 2.4756356964417137e-09, 3.910228656422987e-07, 4.430126864463091e-06, 9.174973092740402e-05, 2.2373521346708003e-07, 1.3458122116727367e-10, 1.6149607873217064e-08, 1.4613689813813835e-07, 1.3586807199317263e-06, 1.077878497568463e-08, 3.989750196886632e-10, 5.478316111862114e-08, 3.6322248320175277e-07, 3.077452447541873e-06, 3.246773161436067e-08, 4.7118515311694864e-08, 1.4023184391476207e-08, 2.2878831273942524e-08, 1.2141969374379613e-10, 1.3519682795504195e-07, 8.475153663312085e-07, 2.220790094042968e-07, 2.1062464838905726e-07, 9.253456334512578e-10, 2.6022269139502896e-06, 5.876125214854255e-06, 1.20789422908274e-06, 1.3366675375436898e-06, 3.3774092411675838e-09, 1.1995981367363129e-05, 1.577168831090603e-07, 2.4769546413949683e-08, 4.3207794675481637e-08, 2.899094575514738e-10, 5.310368464961357e-07, 4.78835374906339e-07, 7.696087322983658e-08, 1.430588270068256e-07, 8.310249155485394e-10, 1.4727395409863675e-06, 9.319969240806358e-10, 2.1817786546307616e-06, 5.435481398308184e-07, 5.927368373903619e-09, 1.3834798195944131e-08, 8.16253908908493e-09, 4.408262248034589e-05, 8.91931813384872e-06, 8.719311495042348e-08, 2.2680472966385423e-07, 2.8557629150327557e-08, 0.0004714426177088171, 4.690230707637966e-05, 4.1519061255712586e-07, 1.3619096534966957e-06, 1.7675233499048204e-09, 7.183773504948476e-06, 1.7345630567433545e-06, 1.2988585318396417e-08, 3.35209300317274e-08, 6.888941861404874e-09, 1.772882569639478e-05, 4.5978113121236674e-06, 5.1111271659465274e-08, 1.188291989251411e-07, 6.3557061835695094e-09, 1.8133602397440995e-09, 2.793227622532868e-07, 2.2914758979197813e-09, 1.874774291366066e-08, 1.2537812210666743e-07, 2.245861985272768e-08, 4.468693987291772e-06, 2.4114719110457372e-08, 2.658294988577836e-07, 5.142226768839464e-07, 7.263253110068035e-08, 2.2738935513189062e-05, 8.408294860373644e-08, 1.2971323712918092e-06, 2.364933493481658e-08, 4.734668657135899e-09, 9.384403938383912e-07, 5.077262610342359e-09, 6.268783891982821e-08, 9.244222098914179e-08, 1.4118109348260077e-08, 2.726150569287711e-06, 1.8301438586831864e-08, 1.678777152847033e-07, 4.15112388907346e-09, 5.805163572070171e-10, 1.677930185906007e-07, 6.702277621783992e-10, 9.906320208585839e-11, 5.4052662790127215e-08, 5.110773138028435e-09, 2.5072122298297472e-06, 6.189180723481513e-09, 1.3584472435823614e-09, 2.4029188239182986e-07, 1.655956971546857e-08, 1.6311894796672277e-05, 2.1085288182121076e-08, 4.785210450108934e-09, 1.0243703663093129e-08, 1.0870033761989362e-09, 4.880239998783509e-07, 1.3980634427923633e-09, 2.554005062993525e-10, 3.737205034326507e-08, 4.36348734922376e-09, 1.4230353144739638e-06, 5.221165277902173e-09, 1.246676317734341e-09, 7.121491307771066e-08, 6.843611686235818e-07, 3.439053708476081e-09, 1.9265831596726457e-08, 1.0493493363128437e-07, 1.1632824907792383e-06, 1.270782286155736e-05, 4.510975060156852e-08, 3.057353978874744e-07, 2.1134185317350784e-06, 7.168040610849857e-06, 0.00010716413089539856, 1.6171453864899377e-07, 1.3182506108933012e-06, 1.301295924349688e-05, 2.2086327078341128e-07, 2.1458322407852393e-06, 9.230140207705517e-09, 5.997367225063499e-08, 3.75059528323618e-07, 5.396165647653106e-07, 6.759014013368869e-06, 3.0628516611841405e-08, 1.9537903028776782e-07, 1.018880197989347e-06, 8.94932850048491e-10, 2.4916894858506566e-07, 1.1025644397477663e-08, 1.3396196651971337e-10, 5.488157484023759e-08, 1.144800965136028e-08, 3.150425754938624e-06, 1.0604233580124856e-07, 1.1230755214697297e-09, 1.0489866326679476e-06, 4.239666040461998e-08, 2.1904639652348123e-05, 5.089195269647462e-07, 3.776434720492716e-09, 5.484606845129747e-06, 2.2187942594342758e-09, 7.502150651816919e-07, 2.506343221853058e-08, 2.732073733913154e-10, 2.1710530972995912e-07, 8.32310131926306e-09, 2.0785269043699373e-06, 7.549261482608927e-08, 1.2741998567378232e-09, 5.990170279801532e-07, 1.0870334676837956e-07, 1.309612969180307e-07, 1.7743683144999522e-07, 4.0870027362416295e-08, 6.3216269552413e-08, 1.6423297211076715e-06, 2.2162018922244897e-06, 2.9018940495006973e-06, 6.84787437421619e-07, 1.0980679689964745e-06, 1.1659474694170058e-05, 1.7496618966106325e-05, 2.3121498088585213e-05, 3.6081169128010515e-06, 6.6914590206579305e-06, 3.8777127997491334e-07, 4.511379927407688e-07, 5.543415682041086e-07, 1.2736711596517125e-07, 1.990219402614457e-07, 1.0450993386257323e-06, 1.3502560705092037e-06, 1.8298912891623331e-06, 3.550646852090722e-07, 6.911857894920104e-07, 6.498645234387368e-05, 0.0017813541926443577, 0.005003167316317558, 2.0038396542076953e-06, 4.399466320137435e-07, 0.5514423847198486, 9.102164040086791e-05, 0.003003917168825865, 0.007954221218824387, 1.8209206018582336e-06, 9.385953489982057e-07, 0.6928038001060486, 0.00043236679630354047, 0.0049882326275110245, 0.021181846037507057, 5.851614787388826e-06, 3.275268227298511e-06, 0.8556421399116516, 0.004034307319670916, 0.052454303950071335, 0.1220429539680481, 5.0367867515888065e-05, 2.2477477614302188e-05, 0.9720574617385864, 0.0003516451979521662, 0.01454223319888115, 0.015203827992081642, 8.91784657142125e-06, 4.604731202562107e-06, 0.902198851108551, 0.00018495641415938735, 0.0025894716382026672, 0.00279888603836298, 5.5577575039933436e-06, 2.761414634733228e-06, 0.3529151976108551, 2.805072108458262e-05, 0.0015915903495624661, 0.0020600624848157167, 5.102409090795845e-07, 3.4624869726940233e-07, 0.4090200960636139, 0.0004674784140661359, 0.014604548923671246, 0.03653550148010254, 9.403617696079891e-06, 7.14329007678316e-06, 0.9035418629646301, 0.0015102087054401636, 0.06168447434902191, 0.06032215803861618, 2.5527142497594468e-05, 1.2635604434763081e-05, 0.9831148386001587, 0.001126886229030788, 0.06822948157787323, 0.11302126199007034, 1.4335877494886518e-05, 1.4235172784538008e-05, 0.9871161580085754, 0.0026440583169460297, 0.0865592360496521, 0.22286690771579742, 3.198458580300212e-05, 3.0498040359816514e-05, 0.9862428903579712, 0.00010204275167779997, 0.0029864897951483727, 0.004536351189017296, 3.3446483485022327e-06, 2.528855702621513e-06, 0.6087731719017029, 2.463987698320125e-07, 5.125164648234204e-08, 3.8755602872697636e-05, 2.59002831626276e-06, 3.0647396442873287e-07, 2.200087919845828e-06, 4.802700459549669e-07, 5.792328039433414e-08, 3.766944428207353e-05, 2.6334485028201016e-06, 4.0258277067550807e-07, 1.0495930382603547e-06, 1.2135774341004435e-06, 1.1003484701177513e-07, 0.00012068485375493765, 9.89690852293279e-06, 7.374677011284803e-07, 3.056627065234352e-06, 9.858315024757758e-06, 7.645601272088243e-07, 0.0005404611583799124, 0.0001586717553436756, 7.639029718120582e-06, 2.3858303393353708e-05, 2.7733995011658408e-06, 2.0965747182799532e-07, 0.00013232672063168138, 2.5049557734746486e-05, 2.262105454065022e-06, 8.078760401986074e-06, 1.1946840459131636e-06, 2.616700101043534e-07, 3.873254536301829e-05, 1.2263226381037384e-05, 7.717863468315045e-07, 4.9911895985133015e-06, 1.502779412021482e-07, 1.8878104413033725e-08, 1.161032105301274e-05, 1.153488028649008e-06, 1.3112912711221725e-07, 6.090411943660001e-07, 2.2696383439324563e-06, 2.932002018951607e-07, 9.740653331391513e-05, 3.71804999304004e-05, 1.6098945252451813e-06, 7.383294814644614e-06, 5.389092166296905e-06, 5.334183583727281e-07, 0.00036250450648367405, 7.065362296998501e-05, 3.1715608201920986e-06, 1.4131117495708168e-05, 3.9146120798250195e-06, 3.254111220485356e-07, 0.000659097742754966, 3.980636392952874e-05, 7.513373020628933e-06, 2.061724808299914e-05, 8.181516022887081e-06, 3.598233888624236e-07, 0.0005820686346851289, 8.714725845493376e-05, 5.1682523007912096e-06, 1.302925193158444e-05, 1.0523492619540775e-06, 1.2902687274163327e-07, 2.626034438435454e-05, 3.2871560051717097e-06, 3.1576885817230504e-07, 2.551530315031414e-06, 0.6688133478164673, 1.2665173926507123e-05, 8.545611490262672e-05, 1.3192841663567378e-07, 1.481872402564477e-08, 8.290054864801277e-08, 0.9326063990592957, 1.2564206372189801e-05, 0.00017888973525259644, 2.4284744881697407e-07, 3.6667042735416544e-08, 2.142028279195074e-07, 0.9599934220314026, 4.14875139540527e-05, 0.00041997182415798306, 4.7033844907673483e-07, 6.782762795864983e-08, 5.096164841233985e-07, 0.9915696978569031, 0.0003350318584125489, 0.002059181686490774, 2.764044211289729e-06, 2.9223824071777926e-07, 4.418814569362439e-06, 0.9294164180755615, 0.00021871368517167866, 0.000805073359515518, 1.4836720083621913e-06, 1.6505306632552674e-07, 7.818012477400771e-07, 0.47029855847358704, 5.674723433912732e-05, 0.00016918184701353312, 4.351110760580923e-07, 6.275100616903728e-08, 7.765972327433701e-07, 0.7385593056678772, 7.642505806870759e-06, 6.422706064768136e-05, 7.978036364875152e-08, 8.617840663305287e-09, 8.095251757822552e-08, 0.9014750719070435, 0.0001437585160601884, 0.0008591162622906268, 1.125545281865925e-06, 1.5379855256014707e-07, 1.3657607951245154e-06, 0.984717071056366, 0.0006767635350115597, 0.004045675043016672, 2.59595071838703e-06, 3.232432277400221e-07, 1.1587351309572114e-06, 0.993645191192627, 0.0009470246732234955, 0.002377207623794675, 1.949001443790621e-06, 1.5389640850571595e-07, 1.5667603747715475e-06, 0.9979023933410645, 0.000918191799428314, 0.0034652261529117823, 4.941949555359315e-06, 6.077780199120753e-07, 5.559750661632279e-06, 0.8695005178451538, 2.9445178370224312e-05, 0.0001722186425467953, 3.319492236641963e-07, 6.180819411838456e-08, 4.433007916304632e-07, 7.681941749382304e-10, 9.420392244052778e-10, 4.4461746284696346e-08, 1.7124661688683318e-09, 2.341545360384778e-11, 3.199333775683044e-08, 4.439826994939722e-08, 4.173926754447166e-06, 9.018873470267863e-08, 9.346422524814102e-10, 3.466160336529356e-08, 3.341706644732767e-08, 1.5244794440150145e-06, 5.140240233458826e-08, 1.1313918690802893e-09, 8.099159742869233e-08, 9.528645250611589e-08, 5.892640274396399e-06, 9.356239871749494e-08, 2.550720301641718e-09, 7.095893295172573e-08, 7.958323777756959e-08, 3.5256746286904672e-06, 1.2840035878980416e-07, 1.753430511897136e-09, 3.376952051326043e-09, 1.2454486864044156e-07, 2.59811816505362e-09, 1.3879132565453034e-10, 2.3908899748903423e-08, 1.71872414966856e-07, 8.27774238132406e-06, 1.2812391503302933e-07, 4.929243235807235e-09, 1.3301543049237807e-06, 1.0319344312392786e-07, 2.6698523925006157e-06, 9.142956969299121e-08, 5.0027146869524586e-09, 5.68965162983659e-07, 2.643467951202183e-07, 9.700165719550569e-06, 1.6563190285978635e-07, 1.1595642668282835e-08, 1.3184240970076644e-06, 2.3011705252429238e-07, 8.187002094928175e-06, 1.5711293599451892e-07, 9.114675236787662e-09, 1.4805750652158167e-06, 4.3104447788877565e-10, 1.7260606832714132e-10, 1.0121414817376717e-10, 2.4694458283791576e-11, 2.4166254067314874e-11, 1.979178243516344e-08, 7.468183405023865e-09, 4.580908985474252e-09, 1.1139065225762579e-09, 9.900318342914716e-10, 1.735325305673996e-08, 7.445455807442158e-09, 4.3664427629153124e-09, 1.0943719264133733e-09, 8.613004753854625e-10, 4.174532719503077e-08, 1.9959342623110388e-08, 1.0559019436584549e-08, 2.5690640725883895e-09, 2.7386382051020064e-09, 2.5485771715239025e-08, 1.3489899863827759e-08, 9.008932266851843e-09, 1.7338257496390952e-09, 1.7146492004016523e-09, 9.868343919805511e-10, 9.867566486132517e-11, 4.199126824033783e-09, 8.043730126416904e-10, 7.17890080714767e-10, 3.933033809744302e-08, 3.747510746165972e-09, 1.980829296144293e-07, 3.795030067976768e-08, 2.8126574846965013e-08, 2.9376046484230756e-08, 4.507497930461568e-09, 1.4998572339663951e-07, 3.4496846268439185e-08, 2.634693707648239e-08, 8.0194418217161e-08, 1.3183416136541837e-08, 3.687960656861833e-07, 8.780176585787558e-08, 5.299677852121931e-08, 6.885910153187069e-08, 7.661855150331576e-09, 2.8900382176288986e-07, 7.435936311139812e-08, 5.66433584481274e-08, 5.485284448880634e-10, 2.4795245856523707e-09, 6.418089615323197e-09, 7.48724485188923e-11, 1.105404545675981e-09, 2.4538660881034957e-08, 1.128319766507957e-07, 3.0870305067765e-07, 2.742092997110035e-09, 5.052283214013187e-08, 2.312049751651557e-08, 7.220764786097789e-08, 1.5363949046331982e-07, 3.0738938061602994e-09, 3.330215392338687e-08, 4.18498444787474e-08, 1.937395524009844e-07, 4.3384812897784286e-07, 9.736631945145291e-09, 7.98295189952114e-08, 4.393411501268929e-08, 1.9008544427379093e-07, 3.743223544461216e-07, 4.707411793702931e-09, 6.944604535874532e-08, 1.2755153599997016e-09, 1.2909340263433933e-10, 1.0653060655840818e-09, 3.6754110865899747e-10, 6.926805240503597e-10, 5.7358302996135535e-08, 5.997546903557804e-09, 4.6439183165603026e-08, 1.592144549533714e-08, 3.4863962383724356e-08, 4.442411594141049e-08, 4.272076026268223e-09, 4.6833228850573505e-08, 1.5484015847277988e-08, 2.664474862967836e-08, 1.0341945255731844e-07, 1.2172961305623176e-08, 1.1617775186323342e-07, 4.332853364985567e-08, 6.911754013572136e-08, 9.503489195594739e-08, 1.0761344704235398e-08, 9.925171440272607e-08, 2.8071212909708265e-08, 6.505412386559328e-08, 1.3408602006492742e-09, 3.5596578129570844e-08, 3.400615122828299e-09, 2.611874883040599e-10, 4.284934906895188e-10, 6.558836673775659e-08, 1.4934159935364733e-06, 1.7215211300936062e-07, 1.0031154573653112e-08, 1.745220146176507e-08, 3.439553708517451e-08, 6.917028372299683e-07, 1.010144998758733e-07, 9.00159857764038e-09, 1.0520744275765992e-08, 8.239752702365877e-08, 1.6650249108352e-06, 2.446779205911298e-07, 2.287878686502154e-08, 2.8120620498839344e-08, 8.574984633469285e-08, 2.0253539787518093e-06, 2.3401589999139105e-07, 1.5348318171959363e-08, 2.77490421751736e-08, 2.396627785117289e-09, 1.0567940966765832e-09, 4.5135648690797225e-12, 2.052774306093852e-08, 4.658728958162328e-10, 1.4107440904354007e-07, 4.3307050390239965e-08, 1.3982920377131336e-10, 1.3840533483744366e-06, 1.880766120621047e-08, 8.308560239811413e-08, 3.2898668678171816e-08, 2.129506987413876e-10, 5.407793537415273e-07, 1.8526710832134086e-08, 2.6584393708617426e-07, 9.329297512294943e-08, 6.491066018021741e-10, 1.978234649868682e-06, 4.928644159463147e-08, 1.848559492145796e-07, 7.269434831869148e-08, 2.492135664500239e-10, 1.526706910226494e-06, 2.985948910350089e-08, 8.668578632686774e-10, 4.130433408494616e-12, 1.7972163687818288e-11, 2.544542909710401e-10, 3.643633395000734e-09, 3.6070971987101075e-08, 1.214864042697883e-10, 6.764745985599063e-10, 1.1615476580573159e-08, 2.2519172659940523e-07, 2.6358046412156e-08, 1.493749846037673e-10, 6.649599759711577e-10, 8.709185372879347e-09, 1.2529446280495904e-07, 6.47466364966931e-08, 4.024003630309636e-10, 2.2926387455157737e-09, 2.6133228914204665e-08, 4.285083150534774e-07, 7.553020253681098e-08, 2.068347715322716e-10, 1.030684426694961e-09, 2.1754900103587715e-08, 2.543459061143949e-07, 1.6151886939042015e-08, 4.777240381059755e-09, 8.592387956696257e-08, 3.8651495337660435e-09, 1.1107982311742148e-09, 1.003879106065142e-06, 1.9108456683625263e-07, 5.155168764758855e-06, 2.666218961167033e-07, 5.625853560786709e-08, 5.808873311252682e-07, 1.1917953912643497e-07, 2.48667856794782e-06, 1.2623476663975453e-07, 3.443111040724034e-08, 2.871104697987903e-06, 4.588296178553719e-07, 8.356376383744646e-06, 5.955367328169814e-07, 1.29364096324025e-07, 1.0109974937222432e-06, 2.937129011115758e-07, 7.239067144837463e-06, 2.1276564154959487e-07, 6.900504700979582e-08, 5.6379088897440255e-11, 1.6586080286984384e-09, 5.2246122983490295e-09, 1.162662077724974e-09, 1.1057677440362568e-08, 2.649346519945084e-09, 9.094413400134727e-08, 3.6585524298970995e-07, 7.413404290446124e-08, 8.846303671816713e-07, 2.6269746378204673e-09, 5.2240174852613563e-08, 1.791295574093965e-07, 5.0159215447820316e-08, 3.6486042631622695e-07, 9.647676435520225e-09, 1.5107040951534145e-07, 4.263417849870166e-07, 1.211331550621253e-07, 1.4636078731200541e-06, 4.281489829338625e-09, 1.2541831040380202e-07, 4.498417922604858e-07, 8.766538428517379e-08, 8.416588457293983e-07, 5.420423221380588e-08, 4.54131710014849e-09, 1.9978492193928332e-09, 4.806549047664532e-10, 9.076966955845478e-11, 3.416158733671182e-06, 2.1681937312223454e-07, 1.0760282975752489e-07, 2.0574113079874223e-08, 3.2729292609445793e-09, 1.329213318967959e-06, 1.2997882947729522e-07, 7.047712813346152e-08, 1.3502385876051903e-08, 3.402100823279852e-09, 4.250542588124517e-06, 3.522310407788609e-07, 1.6028201343942783e-07, 3.377894230993661e-08, 9.088045871408212e-09, 2.969126853713533e-06, 3.707949645104236e-07, 1.747712303767912e-07, 3.6804443936944153e-08, 6.244377459552197e-09, 1.7759114491477934e-12, 2.182863312327754e-08, 9.610311157981499e-11, 5.418997889305999e-11, 5.2901723002207746e-09, 6.748698128111741e-11, 1.192921672554803e-06, 3.6579639317579904e-09, 1.9915753490806765e-09, 2.1341209333058941e-07, 8.586756305994925e-11, 5.887466727472201e-07, 3.4806006965482084e-09, 1.9390502536964505e-09, 1.6545429559755576e-07, 3.196774789326895e-10, 1.5373888118119794e-06, 8.047094546270728e-09, 5.896348298506382e-09, 3.906635299699701e-07, 1.19827175959486e-10, 1.51707979512139e-06, 6.604075508676033e-09, 3.2176605824218996e-09, 4.1839874143079214e-07, 4.140797571494659e-08, 7.125717615963367e-08, 1.0612858432068606e-06, 4.417569812176225e-07, 1.07183780073683e-06, 5.65594238111089e-10, 1.0739522604552576e-09, 1.4798500203028198e-08, 6.486279513495674e-09, 1.7387177919658825e-08, 7.292372483647114e-09, 1.3350653027544013e-08, 2.4009284516068874e-07, 9.902517916771103e-08, 2.125794509311163e-07, 5.8614887166186236e-08, 1.0834875752152584e-07, 1.8149203242501244e-06, 7.22253957974317e-07, 3.1206845960696228e-06, 1.480409128618021e-08, 2.583359659524831e-08, 4.620892752882355e-07, 1.701696703548805e-07, 3.5386830177230877e-07, 1.33086189180176e-07, 2.7990995477011893e-06, 5.705061312255566e-07, 1.1942352102778386e-06, 6.477110048308532e-08, 1.5369636674478215e-09, 3.592472808122693e-08, 8.779601934350012e-09, 2.092080286786313e-08, 8.133472784166429e-10, 4.087306848532535e-08, 8.022483939384983e-07, 1.29160213191426e-07, 3.153827208279836e-07, 1.2847404029514564e-08, 2.3218656508561253e-07, 4.3306081352056935e-06, 1.0617779935273575e-06, 2.363976591368555e-06, 8.665546147312853e-08, 3.967496908785506e-08, 1.124454115597473e-06, 2.2433324886605988e-07, 5.82622249112319e-07, 2.4726828584675786e-08, 3.544567164226464e-07, 2.022296484938124e-06, 9.463911254670165e-08, 1.1667127353121032e-07, 2.9504974463634426e-06, 4.462774594315988e-09, 3.278897864333885e-08, 1.1612214523282205e-09, 1.8895782716299436e-09, 3.651217994615763e-08, 6.32131360589483e-08, 6.184056360325485e-07, 2.325206516218259e-08, 2.7915575628867373e-08, 9.289599915973668e-07, 5.759410441896762e-07, 4.321461801737314e-06, 1.7096429871799046e-07, 2.0117484211823466e-07, 4.876564162259456e-06, 1.3579173696598446e-07, 9.106900051847333e-07, 3.905300971496217e-08, 5.275473569099631e-08, 1.1705247970894561e-06, 0.0001577870425535366, 0.0002305245288880542, 6.6220909502590075e-06, 3.7893778426223435e-06, 4.324891051510349e-05, 2.1759788069175556e-06, 3.889088930009166e-06, 9.86229480304246e-08, 4.8127819951560014e-08, 6.714112146255502e-07, 4.581975736073218e-05, 6.068270522519015e-05, 2.2642636849923292e-06, 1.450473973818589e-06, 1.976354542421177e-05, 0.0002306148671777919, 0.0005498766549862921, 1.0341898814658634e-05, 6.185570327943424e-06, 5.9166442952118814e-05, 6.392496288754046e-05, 9.465512994211167e-05, 2.7087532998848474e-06, 1.3322743370736134e-06, 1.695645369181875e-05, 6.573164057499525e-08, 3.0732614959561033e-06, 2.8369686333462596e-07, 2.279236133162499e-09, 1.0355466173450623e-07, 8.815474461520978e-10, 3.3019748713059016e-08, 4.657940699814844e-09, 3.144457957904301e-11, 1.7603202229210524e-09, 1.664567150783114e-08, 8.758228773331211e-07, 8.294389175489414e-08, 5.606748954001262e-10, 2.9718353999896863e-08, 1.0013437901079669e-07, 4.10268467021524e-06, 5.12343490299827e-07, 3.4515654778743965e-09, 1.6455672380288888e-07, 2.345080041266101e-08, 9.540417522657663e-07, 1.2957090689269535e-07, 9.497609365638482e-10, 4.6262009334441245e-08, 1.3205868754084804e-07, 6.492619775144703e-08, 1.0901001701313362e-07, 1.6035264707170427e-06, 2.755564082690398e-06, 1.6814433179135335e-09, 1.2355009237907666e-09, 1.7236435612133505e-09, 2.781034602605814e-08, 5.892753307534804e-08, 2.5867073816243646e-08, 1.4636642120535726e-08, 3.190966424426733e-08, 4.5926350367153645e-07, 1.0924431990133598e-06, 2.0920629140164237e-07, 1.2395595661018888e-07, 2.0082043761249224e-07, 2.971665253426181e-06, 5.495732693816535e-06, 5.077961873212189e-08, 3.171028950532673e-08, 4.321578828125894e-08, 8.247706659858522e-07, 1.6256871049336041e-06, 3.4731064602055994e-07, 2.2319229628919857e-06, 7.040342779873754e-07, 1.9769504433497787e-06, 7.481501143047353e-07, 4.539316922347325e-09, 2.3738227383773847e-08, 1.0431406849420455e-08, 2.69351332349288e-08, 9.248962484775802e-09, 1.1074736505634064e-07, 6.821977649451583e-07, 1.8857041084174853e-07, 7.378694135695696e-07, 1.9154526853526477e-07, 5.105119953441317e-07, 3.3205858471774263e-06, 1.228735527547542e-06, 3.754696308533312e-06, 1.4130224599284702e-06, 1.3953287236745382e-07, 6.449101306316152e-07, 2.70388312628711e-07, 6.425631795536901e-07, 2.519464885608613e-07, 1.8481589449947933e-06, 6.026231130817905e-05, 1.6823376427055337e-05, 2.889580173359718e-06, 1.4860502233204897e-05, 2.2449327730100777e-08, 8.115231366900844e-07, 2.6657383500605647e-07, 4.4713480917835113e-08, 1.8657675582289812e-07, 5.53909330847091e-07, 2.0231713278917596e-05, 5.360638169804588e-06, 7.869169280638744e-07, 5.0832236411224585e-06, 2.849269776561414e-06, 0.00011798815830843523, 3.6681074561784044e-05, 5.416957719717175e-06, 2.435013811918907e-05, 6.912708272466261e-07, 2.494926047802437e-05, 6.659049631707603e-06, 1.0712194580264622e-06, 5.236205197434174e-06, 4.338087578048544e-08, 1.4029015282801538e-08, 1.9077222077612532e-06, 7.946467803776613e-07, 2.7698648707996654e-08, 5.898808663751254e-10, 2.2346645367488094e-10, 4.5138321524973435e-08, 1.943761240852382e-08, 4.5999506981253546e-10, 7.500488230505198e-09, 3.0820597185510223e-09, 7.608041414641775e-07, 2.1399290517365444e-07, 5.3332609439848966e-09, 7.093051834772268e-08, 2.4791665609313895e-08, 5.079273705632659e-06, 1.4990680483606411e-06, 5.412064751908474e-08, 1.6518528767051066e-08, 5.5756013139784955e-09, 1.1540171271917643e-06, 4.039515317799669e-07, 1.15700373726213e-08, 2.005071451094409e-07, 1.9643794075818732e-05, 9.10296975575875e-08, 1.793470983102452e-05, 1.064120624505449e-06, 3.525869818332694e-09, 1.7619171899241337e-07, 1.4277192761369406e-09, 2.1104808922700613e-07, 1.984216702055619e-08, 4.972380551748756e-08, 3.5455684610496974e-06, 3.5413329158018314e-08, 7.016968538664514e-06, 2.913916432589758e-07, 3.474338825526502e-07, 1.571593566040974e-05, 1.9012171037502412e-07, 2.5362112864968367e-05, 2.0263103124307236e-06, 9.251842669755206e-08, 7.554959211120149e-06, 3.962263406265265e-08, 7.780414307489991e-06, 5.03752346503461e-07, 6.728782420140078e-09, 1.1857279247351471e-07, 1.1811759577540215e-05, 1.2500711576990398e-10, 1.263044850929873e-07, 9.847393039885688e-11, 1.0893799196054488e-09, 1.8034538129541033e-07, 1.5604623712986432e-12, 1.884906009053111e-09, 1.6348010722921913e-09, 4.745393411553778e-08, 3.674746267279261e-06, 2.3698654150194898e-11, 3.906128043240642e-08, 8.179370070138248e-09, 2.046178337877791e-07, 1.915673965413589e-05, 1.595712173507735e-10, 1.6862446727827773e-07, 2.798726583819189e-09, 2.607785809516372e-08, 5.871565463166917e-06, 4.823684160437658e-11, 5.516630352531138e-08, 9.904912303682067e-07, 4.1362671510114524e-08, 6.027376997508327e-08, 4.1561648345123103e-08, 1.4529243799188407e-06, 1.7284346398582784e-08, 7.641156041238162e-10, 9.898355468607178e-10, 6.768075544449914e-10, 1.6255143009402673e-08, 3.258297169850266e-07, 7.672253055091005e-09, 1.4019652994079479e-08, 7.857476447270528e-09, 2.930769085196516e-07, 1.8914472548203776e-06, 6.347652004023985e-08, 1.0772131275871288e-07, 5.788606216583503e-08, 2.2433225694840075e-06, 4.931869170832215e-07, 1.837436691687344e-08, 2.2423821022243828e-08, 1.730044196790459e-08, 5.1660862254721e-07, 3.2812761219247477e-07, 2.2230270957379616e-08, 1.1428732022977783e-06, 1.2737331189782708e-07, 9.961813418613019e-08, 6.762091775414092e-09, 3.8320638329203405e-10, 2.0361470731700138e-08, 2.685084155018558e-09, 1.6409490433133556e-09, 9.75345670894967e-08, 4.944393783290479e-09, 3.841346938315837e-07, 3.2102143165957386e-08, 2.4502647022472956e-08, 6.616862151531677e-07, 4.034906098127067e-08, 1.8671538555281586e-06, 2.3135083893066621e-07, 1.7212894931617484e-07, 1.8223055064936489e-07, 1.007377825601452e-08, 5.836121204083611e-07, 7.714987759754877e-08, 4.8934147400814254e-08, 2.925850850488132e-08, 9.379788252772414e-07, 8.464291312293426e-08, 3.444227658633281e-08, 2.428064647119754e-07, 2.6278680564928436e-08, 6.007877004776674e-07, 6.350873604787921e-08, 2.4809073906340018e-08, 1.7715072431201406e-07, 7.210538655044729e-08, 2.4283986022055615e-06, 2.1197982391640835e-07, 9.541577128402423e-08, 6.919099746482971e-07, 4.6889446991826844e-08, 9.622178822610294e-07, 1.0672554395796396e-07, 4.853805180005111e-08, 3.630448190961033e-07, 3.0169999831741734e-08, 6.46364469503169e-07, 6.735629654031072e-08, 3.3562127299546773e-08, 2.6850324275073945e-07, 7.4094428370585774e-09, 7.46819761587858e-09, 3.658522373939377e-09, 6.986903944294909e-09, 5.67848212895683e-09, 3.421003258452515e-09, 1.869735477555423e-08, 1.9271308104862328e-08, 9.362485009489774e-09, 1.6358466581323228e-08, 1.2117064684957768e-08, 7.72347874544721e-09, 8.923628946888584e-09, 6.854379286380663e-09, 3.5994052183241365e-09, 9.489506425097716e-08, 6.59299530525459e-07, 1.4096143274855422e-07, 7.744833965261932e-07, 6.553971729772456e-07, 8.341174861925538e-08, 4.2457958215891267e-07, 9.561507141597758e-08, 4.3018499695790524e-07, 4.1603883005336684e-07, 2.640267950937414e-07, 1.8250879065817571e-06, 3.2400242844232707e-07, 1.806212594601675e-06, 1.970150378838298e-06, 1.3666334552908666e-07, 6.21774574938172e-07, 1.5870257641381613e-07, 6.951535169719136e-07, 6.693206273666874e-07, 8.57956550248673e-08, 3.6368800238051335e-07, 1.2024081286199362e-07, 4.521389485034888e-07, 4.772834358846012e-07, 1.3022959421959968e-07, 1.337983501770168e-09, 1.0220536523775081e-06, 1.5725070170446998e-06, 3.5058143055266555e-08, 7.297287396568208e-08, 1.2216100353512616e-09, 6.319613703453797e-07, 1.0665152103683795e-06, 2.727582959494157e-08, 3.161937627282896e-07, 3.158146855142263e-09, 3.219411155441776e-06, 4.561361038213363e-06, 9.066632600251978e-08, 1.395968922679458e-07, 2.773675289446942e-09, 1.1860009863084997e-06, 1.4956991662984365e-06, 6.753549541826942e-08, 8.59586322121686e-08, 1.4842761464350929e-09, 8.009259317987016e-07, 1.1693823580571916e-06, 5.0659178185696874e-08, 7.2866304101637525e-09, 1.2005513099211385e-06, 5.925743451484777e-08, 6.524393825202424e-07, 5.18359044576755e-08, 6.410199038242581e-09, 7.178728083090391e-07, 4.303253220427905e-08, 3.8892528664291603e-07, 3.3718947634042706e-08, 1.767783963657621e-08, 3.1893773666524794e-06, 1.683906418747938e-07, 1.8516626596465358e-06, 1.2500598245424044e-07, 1.3506634921611749e-08, 1.1657956520139123e-06, 8.76889600931463e-08, 6.762655857528443e-07, 6.244415828859928e-08, 8.284440689010353e-09, 7.754147191008087e-07, 6.631633198139752e-08, 4.6894868432900694e-07, 4.597174552145589e-08, 2.0461490635170776e-07, 4.452463642223847e-08, 1.3461526116032019e-08, 4.77016315336698e-10, 1.759431356163077e-08, 1.4374137435879675e-07, 4.447752743885758e-08, 1.3017303679419001e-08, 4.46035541834533e-10, 1.6196528562772983e-08, 5.284184680931503e-07, 1.349092286773157e-07, 3.4649044522439e-08, 1.0867650113155491e-09, 5.073093234386761e-08, 2.953394755422778e-07, 9.602152317711443e-08, 2.9338531604139462e-08, 1.120377568497588e-09, 3.427987493864748e-08, 2.2578393554795184e-07, 6.308377464847581e-08, 1.5047120882627496e-08, 6.132538921121977e-10, 1.6144065639878136e-08, 8.950769370130729e-06, 3.544039657299436e-07, 3.289898984348838e-07, 1.0596348687386126e-07, 2.1896109103636263e-07, 6.865661362098763e-06, 2.5077548571061925e-07, 2.1283608475641813e-07, 6.36877857118634e-08, 1.6163326677087753e-07, 3.130918776150793e-05, 1.0047382374978042e-06, 1.0477957630428136e-06, 3.105058965502394e-07, 6.547081738972338e-07, 1.0567004210315645e-05, 4.786824092661845e-07, 3.942588477912068e-07, 1.441116950218202e-07, 2.7989793238702987e-07, 7.617866685905028e-06, 3.5250383234597393e-07, 2.9249557087496214e-07, 9.002374667943513e-08, 2.3746093802401447e-07, 2.0845169501626515e-07, 5.886147960154631e-07, 9.728672978326358e-08, 5.6654808844314175e-08, 1.582840582159406e-06, 1.2881305622158834e-07, 3.628561557889043e-07, 7.316226913189894e-08, 4.499631955923178e-08, 9.527188353786187e-07, 4.998444751436182e-07, 1.816340045479592e-06, 2.7436621508059034e-07, 1.4670928294435726e-07, 4.697808435594197e-06, 2.101314890978756e-07, 7.348469353019027e-07, 1.3876609727958567e-07, 9.265492906251893e-08, 1.7522415873827413e-06, 1.7924595852036873e-07, 5.357605346034688e-07, 9.30402777044037e-08, 7.371921384446978e-08, 1.2929161812280654e-06, 4.5919253466308874e-07, 2.558401206442795e-07, 6.498753180039785e-08, 6.847767686224415e-09, 6.265980232456059e-07, 2.9909884347034676e-07, 1.6331725305462896e-07, 5.2438824837963693e-08, 6.229970761495451e-09, 3.540894226716773e-07, 1.374639964524249e-06, 6.603013389394619e-07, 1.7359069204303523e-07, 1.7551313291619408e-08, 1.5899420304776868e-06, 4.77069534099428e-07, 2.8835461307608057e-07, 1.0666449412610746e-07, 1.400925597749847e-08, 5.282713573251385e-07, 4.081962856616883e-07, 2.1425796603580238e-07, 7.358885056873987e-08, 7.151284897588539e-09, 3.5588746527537296e-07, 1.018786335293953e-07, 1.8780247046379372e-07, 1.7583367650786386e-07, 3.703859619008654e-08, 2.730367398839917e-08, 6.685876741130414e-08, 1.0546746409545449e-07, 1.5544328846317512e-07, 3.345169474755494e-08, 2.2978365876724638e-08, 2.5922395252564456e-07, 5.001143108529504e-07, 4.951493224325532e-07, 1.0332442457183788e-07, 7.792585421384501e-08, 1.0984905429722858e-07, 1.8778921173634444e-07, 2.882322860386921e-07, 7.388743483716098e-08, 5.495929755738871e-08, 8.211888058440309e-08, 1.219539171870565e-07, 2.012634894299481e-07, 5.1838870973597295e-08, 3.5491428462819385e-08, 2.960542566654567e-08, 1.3475833782194968e-08, 4.801898612072364e-08, 8.855759858761303e-08, 1.9529347810021136e-06, 2.314419056403949e-08, 9.242578258294998e-09, 3.450316654607377e-08, 6.223559978479898e-08, 1.0208400453848299e-06, 7.814793434590683e-08, 3.4914407365249644e-08, 1.2295332396661252e-07, 2.50053773243053e-07, 5.579616299655754e-06, 4.467009162567592e-08, 1.9359100988936007e-08, 6.592260604065814e-08, 1.2254128023414523e-07, 1.8956059193442343e-06, 3.2711895414649916e-08, 1.170059515942512e-08, 4.6875054948714023e-08, 9.94197790760154e-08, 1.3542293118007365e-06, 1.2085489053959009e-08, 1.568896479398063e-08, 8.841933407666147e-09, 6.970044097442951e-08, 1.27061753119051e-07, 1.226340451410124e-08, 1.3641497709215855e-08, 7.423702097497653e-09, 4.7194156138630206e-08, 8.225698167052542e-08, 3.521160607533602e-08, 4.2592805726826555e-08, 2.517165853532788e-08, 1.9924071636978624e-07, 3.3353046546835685e-07, 3.063844999928733e-08, 2.6442592115927255e-08, 1.5373544215435686e-08, 9.448147864077328e-08, 1.5364066996426118e-07, 2.2599520477228907e-08, 1.732685994682015e-08, 1.1269514210709985e-08, 6.394839147105813e-08, 1.1705164837394477e-07, 1.1418273970775772e-06, 5.758960242019384e-07, 2.552187424953445e-06, 9.527424182920186e-09, 1.924830002053568e-07, 6.730870154569857e-07, 3.4807362681021914e-07, 1.4255332416723832e-06, 8.355963920791964e-09, 2.384221318152413e-07, 3.22630785376532e-06, 1.879907472357445e-06, 7.459028438461246e-06, 2.2347435901792778e-08, 6.495536126749357e-07, 1.33665355406265e-06, 6.948784516680462e-07, 2.606871703392244e-06, 1.7339589319931292e-08, 4.626219265446707e-07, 7.689899916840659e-07, 4.706000709120417e-07, 2.015563495660899e-06, 1.0241886450046422e-08, 3.17634257953614e-05, 1.8248394439979165e-07, 2.570369339593981e-08, 1.3497601969447715e-07, 2.0736585781833128e-08, 4.9050576933495904e-08, 4.4657235775957815e-07, 6.100054861235549e-08, 2.49692760689868e-07, 3.523162916962974e-08, 9.793144073455551e-08, 6.623472472711001e-07, 1.0354339963214443e-07, 4.972243345946481e-07, 6.730017076961303e-08, 1.6522220391834708e-07, 1.3316214335645782e-06, 1.8943613611099863e-07, 7.995537885108206e-07, 1.0324365007363667e-07, 3.255029810134147e-07, 4.3736932298088504e-07, 6.588715706357107e-08, 3.2539929861741257e-07, 3.880101928643853e-08, 1.0456670196390405e-07, 7.951841851649988e-09, 6.286996523385824e-08, 1.5249823626106718e-09, 3.4825398120830187e-09, 4.8857017986847495e-08, 1.853614683966498e-08, 1.1004303246409108e-07, 3.803092951670806e-09, 7.475194685468978e-09, 8.599880629844847e-08, 3.645275725716601e-08, 2.0112035770125658e-07, 7.988813166548425e-09, 1.5161896627091664e-08, 1.7243110050912946e-07, 5.619837750714396e-08, 4.0339520523957617e-07, 1.4105566492617072e-08, 2.3953313998958947e-08, 2.879114333609323e-07, 2.468182813686326e-08, 1.2958190609424491e-07, 4.707824796668092e-09, 9.962778158012497e-09, 1.1547730593974848e-07, 7.651953737308759e-09, 3.124542899968219e-07, 8.277285523661249e-09, 4.296902833544891e-09, 3.8351422517735045e-06, 1.5866755020965684e-08, 3.6858122598459886e-07, 1.8308876192918433e-08, 9.363110287097243e-09, 3.70548946193594e-06, 3.344952403949719e-08, 7.407587077068456e-07, 3.782015411957218e-08, 1.8463600426343874e-08, 6.267711796681397e-06, 5.001162151074823e-08, 1.303446879319381e-06, 5.8658400803324184e-08, 2.7715030270769603e-08, 1.1201825145690236e-05, 2.1228828472885652e-08, 5.548001240640588e-07, 2.484567929172954e-08, 1.2521174319601869e-08, 6.533374289574567e-06, 6.542990593771947e-09, 4.321150584019051e-07, 1.5459012558949325e-07, 8.094047387885439e-08, 4.883025539470509e-09, 1.2741226740331513e-08, 6.287758083090011e-07, 1.766800039604277e-07, 1.4782060020479548e-07, 9.013933599533175e-09, 2.9423935288264147e-08, 1.1158739425809472e-06, 4.0092376707434596e-07, 2.847034750175226e-07, 2.006492039186014e-08, 3.854822594462348e-08, 1.8889975308411522e-06, 6.424461389542557e-07, 4.722968469650368e-07, 2.9040618798603646e-08, 1.7421204034917537e-08, 7.626769615853846e-07, 2.659948279415403e-07, 1.863567860027615e-07, 1.2465534382499754e-08, 5.037762917936561e-08, 4.2026059077215905e-08, 3.2561538887421193e-07, 2.2671432020615612e-07, 2.912543450861449e-08, 9.397984968018136e-08, 9.343560947172591e-08, 4.5176656726653164e-07, 3.201846539013786e-07, 4.8092775983832325e-08, 1.8266379697706725e-07, 1.3275230514864234e-07, 1.1403800499465433e-06, 6.316293479358137e-07, 1.036384418284797e-07, 2.679090584933874e-07, 2.492326416358992e-07, 1.5452144452865468e-06, 1.026551217364613e-06, 1.6597834928688826e-07, 1.0283741858074791e-07, 9.566724656906445e-08, 6.374970098477206e-07, 4.1798435290729685e-07, 6.578419231573207e-08, 3.1288116986161185e-08, 5.004196736990707e-07, 5.501362352333672e-07, 6.090434681027546e-07, 1.7932692830679997e-10, 9.529318134582354e-08, 6.455617835854355e-07, 5.510173082257097e-07, 7.057040534164116e-07, 4.5578896212816744e-10, 1.1594210747034595e-07, 1.4157552641336224e-06, 1.068340452548e-06, 1.5593429907312384e-06, 1.0911412884340166e-09, 2.378029080318811e-07, 2.3220522962219547e-06, 1.9755971152335405e-06, 2.8535253022710094e-06, 1.4344395671272991e-09, 8.419095109957198e-08, 9.339789244222629e-07, 9.040485906552931e-07, 1.1508958550621173e-06, 6.012835229718405e-10, 1.613572919723083e-07, 2.2048767256421797e-09, 3.5896650274480635e-07, 2.9050947758513246e-10, 1.9090644620689545e-09, 2.995775787439925e-07, 5.959585713810611e-09, 5.771071869276057e-07, 5.143570569465794e-10, 4.260155339608218e-09, 5.759893610957079e-07, 1.1077965211825358e-08, 1.1115976121800486e-06, 1.4362245837062915e-09, 1.0112838566556093e-08, 9.45224485349172e-07, 1.5913066420125688e-08, 2.074883013847284e-06, 1.4856554875208872e-09, 1.3210222249426806e-08, 3.7233780858514365e-07, 7.790249334505006e-09, 8.600666205893504e-07, 8.318146171859553e-10, 6.692444820544097e-09, 1.88604218465116e-07, 2.122854247943451e-08, 9.347015605953857e-09, 6.288430332013206e-10, 7.930359147145793e-10, 1.950128591943212e-07, 3.033335360669298e-08, 1.3659723130388102e-08, 1.1974040647899642e-09, 1.6914180056559758e-09, 4.580938082199282e-07, 5.944296788129577e-08, 3.103332701925865e-08, 2.757539085962435e-09, 3.9388727834932524e-09, 6.70043618811178e-07, 9.5570591440719e-08, 4.693714572567842e-08, 3.793783509564719e-09, 5.622966092744264e-09, 2.661920177615684e-07, 3.752605337581372e-08, 1.9731624334440312e-08, 1.8262827916615265e-09, 2.7538231694990145e-09, 7.42962583899498e-07, 6.428248866541253e-08, 3.2203420485821255e-10, 1.7584174116791473e-09, 1.4121340541350946e-08, 9.715290616441052e-07, 1.4050310426227952e-07, 8.294634978867066e-10, 4.323299940267589e-09, 3.1940903255645026e-08, 1.9624226297310088e-06, 2.5901960043483996e-07, 1.711235042556325e-09, 8.840364884576957e-09, 5.285263782184302e-08, 3.3347905628033914e-06, 4.167921758835291e-07, 2.3756834277577354e-09, 1.415456196696141e-08, 1.0461916843951258e-07, 1.2410207546054153e-06, 1.6538518821107573e-07, 1.1762661955572185e-09, 6.169251332011072e-09, 3.915608814963889e-08, 4.4640142732532695e-05, 1.7730539525473432e-07, 3.721422103808436e-07, 5.385354384657148e-08, 1.247483055522025e-06, 4.096385964658111e-05, 2.7021741288990597e-07, 5.74700436573039e-07, 1.1070238770116703e-07, 1.2629561751964502e-06, 5.076748493593186e-05, 6.417944860004354e-07, 1.2203925052745035e-06, 2.0895785723951121e-07, 3.156898628731142e-06, 0.00014642206951975822, 9.790320518732187e-07, 1.7073341496143257e-06, 4.127854822399968e-07, 4.9709906306816265e-06, 6.59068682580255e-05, 3.8442752270384517e-07, 7.432822144437523e-07, 1.3069316651126428e-07, 2.2097124201536644e-06, 1.9840047826846785e-08, 1.992666831540646e-08, 5.270083391906155e-08, 5.571569317019964e-10, 1.0590197234705556e-05, 4.920594420809721e-08, 4.684609677951812e-08, 1.2350155031981558e-07, 1.3359561235049e-09, 8.816329682304058e-06, 1.1651916764776615e-07, 9.515697030337833e-08, 1.7583887768068962e-07, 2.7394375656797365e-09, 1.5769879610161297e-05, 1.7721714584695292e-07, 1.3074502192012005e-07, 3.3352662853758375e-07, 3.958175120999385e-09, 3.687903517857194e-05, 6.776620153914337e-08, 5.837523531226907e-08, 1.17369886254437e-07, 1.7815389163899908e-09, 1.6239659089478664e-05, 4.672489062329532e-09, 4.46309975643544e-08, 4.230875219946029e-06, 1.5783019335913195e-09, 5.972902528128543e-08, 1.0118511362122717e-08, 8.793868744305655e-08, 4.373485808173427e-06, 4.389832941598115e-09, 1.0830103747139219e-07, 1.917338110501987e-08, 1.713653574597629e-07, 1.1265568900853395e-05, 7.661592249519344e-09, 1.8357506803567958e-07, 3.03791516387264e-08, 2.6860877255785454e-07, 1.6054629668360576e-05, 1.2115239478305284e-08, 3.0270302886492573e-07, 1.4181044782901608e-08, 1.1746798378453605e-07, 8.871582394931465e-06, 5.607018849218548e-09, 1.4995225683378521e-07, 1.9227801573151737e-08, 1.488213774436531e-09, 2.225878148465199e-08, 2.0778276876853852e-08, 1.1142453359980209e-07, 2.615616878642868e-08, 3.081290111950352e-09, 2.99271079029495e-08, 3.9955267538971384e-08, 1.6430706750725221e-07, 7.176812744091876e-08, 8.32683255680422e-09, 7.4166862873426e-08, 7.555772185696696e-08, 2.8103605131946097e-07, 1.0716533438426268e-07, 1.1379022168966912e-08, 1.0070112210769366e-07, 1.4927593383617932e-07, 4.941855422657682e-07, 4.05857853991165e-08, 5.1178647986205306e-09, 4.7815547077334486e-08, 5.124470447981366e-08, 1.781715610604806e-07, 0.20282140374183655, 6.596810999326408e-05, 2.037602975235586e-09, 0.08974555134773254, 1.78337302259024e-07, 0.002217761240899563, 0.01785564422607422, 4.604617060977034e-06, 7.631471010682844e-10, 0.0023716918658465147, 6.084971460040833e-08, 9.573809074936435e-05, 0.007962560281157494, 9.98805626295507e-06, 1.2581375941067563e-09, 0.008849889039993286, 7.862172424211167e-08, 0.00028982353978790343, 0.611240565776825, 0.00016800352022983134, 1.9496380065930907e-09, 0.09039215743541718, 4.5772347334605e-07, 0.0042615314014256, 0.0647808164358139, 9.250866241927724e-06, 3.245946011976031e-10, 0.03226147219538689, 5.579530082400197e-08, 0.00020943650451954454, 0.670208215713501, 0.00019731707288883626, 2.5313242613123066e-09, 0.08908852189779282, 7.408704050249071e-07, 0.003335481509566307, 0.24225549399852753, 5.8245816035196185e-05, 1.684107409083424e-09, 0.04963848739862442, 2.0765189390203886e-07, 0.0027274275198578835, 0.09424488246440887, 2.219716589024756e-05, 7.044427263735997e-10, 0.010749183595180511, 4.143468856909749e-08, 0.0002370415022596717, 0.023342298343777657, 7.323169029405108e-06, 2.4768104234240695e-10, 0.003445684676989913, 2.1558774321306373e-08, 0.00017724705685395747, 0.025582144036889076, 1.9683304344653152e-05, 4.7697108485067474e-09, 0.02309146150946617, 3.6306767015048536e-07, 0.0015376227675005794, 0.5592209696769714, 0.0003532487608026713, 8.035086374036382e-09, 0.3158232271671295, 1.562907073093811e-06, 0.008245470002293587, 0.5521916747093201, 8.638959843665361e-05, 2.626750728040861e-08, 0.595989465713501, 1.714155246190785e-06, 0.0031617549248039722, 1.9068401115873712e-06, 0.23152916133403778, 0.0056074620224535465, 0.0002873802150133997, 4.329305625105917e-07, 0.0019715006928890944, 1.5665048636037682e-07, 0.07500803470611572, 0.0026505838613957167, 5.8534911659080535e-05, 4.936574882208333e-08, 6.738944648532197e-05, 1.5414877907460323e-06, 0.33718302845954895, 0.016659805551171303, 0.0003298459923826158, 6.647518944191688e-07, 0.0026096832007169724, 2.5181261520401677e-08, 0.012449412606656551, 0.0003507710061967373, 9.659464922151528e-06, 1.512631087052796e-08, 2.1656487660948187e-05, 3.9137798779620425e-08, 0.003870771499350667, 8.551921200705692e-05, 3.8716189010301605e-06, 1.6301125782547388e-08, 3.057614594581537e-05, 1.7914659977691372e-08, 0.003901419695466757, 9.624493395676836e-05, 3.8851562749187e-06, 9.333546380219104e-09, 8.988886293082032e-06, 5.679543946257581e-09, 1.9201917833555626e-09, 1.2107125302307509e-09, 1.6825605797521348e-08, 3.3400611165745886e-09, 5.173175221528936e-10, 2.6408770281705074e-08, 9.417953528156886e-09, 2.2478749972520973e-09, 1.7480408587289276e-07, 1.2337801891249e-08, 4.329893776855442e-09, 2.62921187044185e-08, 9.044348381337386e-09, 2.590127223811578e-09, 4.340438977123995e-07, 1.579416952779411e-08, 3.1194189453742638e-09, 4.1940506889659446e-07, 1.0098521840973262e-07, 2.176872015979825e-08, 3.588761956052622e-06, 1.0806847683397791e-07, 2.056011005890923e-08, 1.308537918021102e-07, 3.5457933478255654e-08, 1.2962201978439225e-08, 9.521265837975079e-07, 9.066113904054873e-08, 1.400791926897682e-08, 3.292023791345855e-07, 8.951129615297759e-08, 3.7045801093427144e-08, 5.54479765924043e-06, 3.078806969369907e-07, 1.944669847375735e-08, 4.6163603428794886e-07, 6.371998040322069e-08, 1.3932803355487522e-08, 6.622300134040415e-06, 5.290709736982535e-07, 2.9159004100165475e-08, 1.985932414072522e-07, 6.782400419069745e-08, 2.748922867112924e-08, 1.944590167113347e-06, 9.483173357693886e-08, 1.7341010405402812e-08, 3.271236721502646e-07, 1.0575935505130474e-07, 2.1742287970027974e-08, 5.683053132088389e-06, 1.7485027115071716e-07, 2.589215064574546e-08, 4.240911835040606e-07, 1.1474529770794106e-07, 4.4890622774573785e-08, 6.213523647602415e-06, 2.1330343713543698e-07, 2.249283070909769e-08, 5.1624169827846345e-08, 1.180372777298544e-08, 4.231464068027435e-09, 3.248688074108941e-07, 2.662742204506685e-08, 2.1870005806334802e-09, 5.244753538136138e-07, 2.490919541742187e-07, 5.698144533994309e-08, 8.595577128289733e-06, 5.580774882218975e-07, 4.0065085471496786e-08, 1.849221753502661e-08, 2.1496896707162705e-08, 1.4906226253330601e-09, 7.351894510065904e-06, 1.5782275042397487e-08, 1.1286539064458978e-10, 1.0562670382796568e-07, 2.0491076213602355e-07, 1.9157697650484806e-08, 7.477624603779987e-05, 3.117860103429848e-07, 4.534832231950503e-10, 2.104254832602237e-07, 4.835053459828487e-07, 2.4754669425419706e-08, 0.00037269879248924553, 3.6023024563291983e-07, 8.210016555487698e-10, 1.4536423122990527e-06, 4.014964815723943e-06, 1.630865824608918e-07, 0.0006462130695581436, 2.507307954147109e-06, 3.3970171120500936e-09, 2.1343946627894184e-06, 6.951441719138529e-06, 2.72821040425697e-07, 0.0010502696968615055, 3.3555334084667265e-06, 5.314140238965592e-09, 3.415299033804331e-06, 1.4997576727182604e-05, 5.809189360661549e-07, 0.011836220510303974, 6.9138422986725345e-06, 7.864088047426776e-09, 2.286915787408361e-06, 1.325415723840706e-06, 1.1486760342904745e-07, 0.0016596484929323196, 2.177982651119237e-06, 1.3132838150298198e-09, 1.4248387287807418e-06, 3.376945869604242e-06, 1.6975764083326794e-07, 0.002073707990348339, 3.3625199193920707e-06, 4.997536606765607e-09, 2.8709623620670754e-06, 4.227640602039173e-06, 3.7236088701320114e-07, 0.001738311373628676, 1.0180855497310404e-05, 3.1514379994490582e-09, 3.196484612999484e-06, 4.661743332690094e-06, 2.3418488126480952e-07, 0.002423581201583147, 6.53021561447531e-06, 3.1514195697468494e-09, 2.6882096904046193e-07, 7.592718134219467e-07, 4.175743484324812e-08, 0.00019170145969837904, 6.541956736327847e-07, 7.385256295400211e-10, 9.456452971789986e-06, 2.35309089475777e-05, 1.241205495716713e-06, 0.008832816034555435, 2.0809902707696892e-05, 1.3078152782952657e-08, 2.5519972268739366e-07, 9.899440556182526e-08, 3.089165693381801e-05, 1.731044818598093e-07, 9.222997050528647e-07, 2.8633075999096036e-05, 1.4818589022524975e-07, 2.1978490138963025e-08, 8.716359843674581e-06, 4.652251561765297e-08, 2.0994458793666126e-07, 2.780860995699186e-05, 5.629923194305775e-08, 7.402493285013634e-09, 2.7243261229159543e-06, 1.785125114395214e-08, 6.751024983486786e-08, 8.663397238706239e-06, 5.5396447429245654e-09, 2.2476993599696016e-09, 9.982959454646334e-07, 3.1382534348978197e-09, 1.948754224656568e-08, 1.274961050512502e-06, 1.1370228492069145e-07, 2.9102277920856068e-08, 2.5868146622087806e-05, 5.249146539654248e-08, 2.349468104512198e-07, 2.7118549041915685e-05, 5.744281850184052e-08, 1.2799123538798085e-08, 5.318713647284312e-06, 2.8490928727364917e-08, 1.4991134378306015e-07, 8.901022738427855e-06, 2.0931744870722468e-07, 2.5149963889248284e-08, 1.750508090481162e-05, 6.376362904347843e-08, 2.896743751534814e-07, 4.608070230460726e-05, 3.5654957741826365e-07, 7.452633354887439e-08, 7.948230631882325e-05, 1.4789097235734516e-07, 8.909821076485969e-07, 4.81766473967582e-05, 2.4024652134357893e-07, 8.340123969219349e-08, 6.268921424634755e-05, 1.3573152557455614e-07, 6.467702178269974e-07, 3.770729381358251e-05, 3.426560590824579e-09, 6.04751249078106e-10, 2.7184813689018483e-07, 1.5123389207616356e-09, 5.5002167265172375e-09, 4.771855515173229e-07, 1.1063183258386289e-08, 2.49272136265688e-09, 1.5678261888751877e-06, 6.424605292210117e-09, 2.5056982266846717e-08, 1.338094762104447e-06, 8.80528219227017e-08, 1.2336460741835253e-08, 9.91914112091763e-06, 2.8387594497303326e-08, 1.341225868145557e-07, 1.8966016796184704e-05, 2.9223367164377123e-05, 5.7024713839837204e-08, 0.0018157742451876402, 0.0021180815529078245, 0.003479035571217537, 0.38210955262184143, 1.2016534128633793e-05, 1.6285028436868743e-08, 0.0012734842021018267, 0.0010315671097487211, 0.004505908582359552, 0.6316387057304382, 4.2798205868166406e-06, 4.942677378494409e-09, 0.0001888991828309372, 0.0003816950775217265, 0.0014767752727493644, 0.47792768478393555, 1.1117811027361313e-06, 2.3784445524199782e-09, 8.894426719052717e-05, 9.484766633249819e-05, 0.000254189595580101, 0.05540476739406586, 3.4885717468569055e-05, 2.2675642696867726e-08, 0.0005387602723203599, 0.00615645432844758, 0.00412751454859972, 0.8223419189453125, 8.002120921446476e-06, 1.133161120492332e-08, 0.0006253332830965519, 0.0005530245252884924, 0.004199385643005371, 0.53897625207901, 3.985817602369934e-05, 1.7726863532629977e-08, 0.0025998768396675587, 0.004421227611601353, 0.018324794247746468, 0.8926299810409546, 8.95549965207465e-05, 1.1775141217640339e-07, 0.004223812837153673, 0.010581151582300663, 0.018344251438975334, 0.8850356936454773, 5.239342135610059e-05, 4.967156996826816e-08, 0.0010488643310964108, 0.006143991369754076, 0.004865152295678854, 0.7100005149841309, 4.799431394530984e-07, 6.341365765827334e-10, 1.943313327501528e-05, 5.603151294053532e-05, 0.00010643394489306957, 0.05228497460484505, 1.457694565942802e-06, 2.2274015964995897e-09, 5.8812773204408586e-05, 0.00025054841535165906, 0.00018899828137364239, 0.07501354068517685, 1.1666715181490872e-05, 7.597403595127616e-09, 0.0004825014329981059, 0.0010209111496806145, 0.004362259991466999, 0.7200714349746704, 1.1675348188244783e-10, 3.450443056274288e-11, 1.154343772213906e-05, 3.400181824986248e-08, 0.00012130117102060467, 0.00012894932297058403, 3.0187830013517214e-09, 1.0596581390132087e-09, 0.0005968698533251882, 1.6651565601932816e-06, 0.003818096127361059, 0.004280283115804195, 2.6069577052645343e-10, 1.2760084655560888e-10, 0.000197849833057262, 2.57030364991806e-07, 0.0022338435519486666, 0.00235203979536891, 1.1029713947730002e-10, 2.856281704211039e-11, 2.4796883735689335e-05, 5.0833889986279246e-08, 0.00021734536858275533, 0.0003465491463430226, 1.5852492929457895e-10, 6.900507942830814e-11, 1.9663304556161165e-05, 3.844791507390255e-08, 0.000254871032666415, 0.0005624337354674935, 4.020668686877116e-09, 1.1105439901015757e-09, 0.0026924079284071922, 4.1446296563663054e-06, 0.01955326274037361, 0.03066684864461422, 1.5757362081814108e-09, 6.528290130702885e-10, 0.00034599273931235075, 7.968225190779776e-07, 0.004414793103933334, 0.00799933448433876, 5.436580075013353e-10, 1.281171280176352e-10, 0.0001297625422012061, 2.850139537713403e-07, 0.001262868638150394, 0.0013935280730947852, 5.094624166979145e-10, 1.279935463172066e-10, 0.0001351769606117159, 1.8581445715426526e-07, 0.0008504469296894968, 0.001963677117601037, 9.616054619243641e-10, 2.4326413106123823e-10, 0.00026748154778033495, 5.625543053611182e-07, 0.0028695615474134684, 0.004359667655080557, 4.977813161666234e-10, 1.20702725592281e-10, 0.0002710951666813344, 3.896514897405723e-07, 0.0017714343266561627, 0.002777873305603862, 6.416247394502861e-11, 2.6107482495318912e-11, 1.3063975075056078e-06, 5.571338501653145e-09, 6.880316959723132e-06, 8.689967216923833e-06, 2.01618718165264e-07, 2.417162248136151e-09, 1.1330107554385904e-06, 0.005357121117413044, 2.7634390789899044e-05, 5.184208475839114e-07, 5.6297894843737595e-06, 2.844602242646488e-08, 3.698332147905603e-05, 0.2217903584241867, 0.0007683969452045858, 2.003548615903128e-05, 1.5323108470965963e-07, 1.1195999682911406e-09, 7.080560635586153e-07, 0.0018132696859538555, 2.4274670067825355e-05, 4.104180959529913e-07, 1.3623655377159594e-06, 1.177339559177426e-08, 1.0012785423896275e-05, 0.03219662606716156, 0.00018493877723813057, 3.2840794119692873e-06, 1.4545659041687031e-06, 1.4795507929932228e-08, 1.0751479749160353e-05, 0.015393747016787529, 0.00020627430058084428, 4.769922270497773e-06, 4.8654197115638453e-08, 5.535818470292497e-10, 9.310451787314378e-07, 0.0019231380429118872, 2.5818560970947146e-05, 3.161636072945839e-07, 7.220845645861118e-07, 6.857832524076457e-09, 4.732202796731144e-06, 0.008149524219334126, 0.00010539558570599183, 1.9004532987310085e-06, 9.993294725063606e-07, 6.888731363119405e-09, 1.3298966223374009e-05, 0.08764766901731491, 0.0002821814559865743, 3.5610819395515136e-06, 1.8794131051436125e-07, 1.7758565729053544e-09, 2.182583784815506e-06, 0.013071264140307903, 0.0001290583168156445, 1.1788066558438004e-06, 2.037379118746685e-07, 1.839655539015439e-09, 1.558633812237531e-06, 0.002463142853230238, 4.081673250766471e-05, 8.316945354636118e-07, 2.2392713106000883e-07, 1.1707739666633188e-08, 3.6767298752238275e-06, 0.011726991273462772, 3.0965718906372786e-05, 6.172908229018503e-07, 1.7567004988450208e-06, 1.4066877440654935e-08, 3.827011096291244e-05, 0.04541618004441261, 0.0005210703238844872, 9.974101885745768e-06, 1.2244957758866803e-07, 1.4572462347928195e-08, 1.066742569832968e-07, 6.43815724288288e-07, 1.8650163838174194e-05, 0.00045123553718440235, 4.3857735363417305e-06, 1.5088063776147465e-07, 2.4128969471348682e-06, 1.748892645991873e-05, 0.00047202312271110713, 0.021440641954541206, 1.2584844455432176e-07, 1.612553823804319e-08, 6.907628602448312e-08, 2.7068580266131903e-07, 1.3594086340162903e-05, 0.0005399186629801989, 1.4411901929634041e-06, 1.3014653177378932e-07, 8.505930395585892e-07, 4.071180683240527e-06, 0.00022662876290269196, 0.005664026830345392, 2.4694459170859773e-06, 8.911931104194082e-08, 9.409388894709991e-07, 4.590822754835244e-06, 0.00016279538976959884, 0.004745474550873041, 4.82132733736762e-08, 2.959672062985419e-09, 3.473725129765626e-08, 1.6503244637533498e-07, 7.97790471551707e-06, 0.0002083714643958956, 7.912974524515448e-07, 3.789185498703773e-08, 3.4574156870803563e-07, 1.8757258430923685e-06, 7.444163202308118e-05, 0.0025165718980133533, 1.6246827954091714e-06, 6.37944026493642e-08, 6.763377768947976e-07, 4.900942712993128e-06, 0.0003804268781095743, 0.00918083731085062, 1.7206527047619602e-07, 1.2071206256791811e-08, 1.2302334084779432e-07, 6.693768455079407e-07, 4.117739445064217e-05, 0.0016800216399133205, 2.6589796675580146e-07, 1.9153203467681124e-08, 1.8272355362114467e-07, 6.392113505171437e-07, 1.9945275198551826e-05, 0.0005599484429694712, 1.1126243180115125e-06, 6.850278566616907e-08, 2.8565125376189826e-07, 1.0942648032141733e-06, 3.8674636016367e-05, 0.002555880695581436, 1.2993028803975903e-06, 9.759543218024191e-08, 1.3129447324899957e-06, 6.761379609088181e-06, 0.0002954544615931809, 0.010308198630809784, 0.0001587059668963775, 2.8337446167370217e-08, 1.196723720120474e-09, 8.922389497456606e-06, 0.0699237585067749, 5.387065016293491e-07, 2.9724316846113652e-05, 6.454045298198707e-09, 1.2734119314572467e-10, 1.1983561307715718e-06, 0.0055615901947021484, 8.072617418974914e-08, 6.196328467922285e-05, 1.2813974770153891e-08, 3.47341017059577e-10, 2.3092370611266233e-06, 0.027308782562613487, 1.1582694270373395e-07, 2.1353301349336107e-07, 2.55602733423288e-10, 1.4986603971700596e-11, 1.3593083991736421e-08, 8.627926035842393e-06, 9.794069999458088e-10, 2.1483003820321755e-07, 2.532008769318139e-10, 2.1969235458607628e-11, 2.151399947081245e-08, 2.1593403289443813e-05, 7.999695905702708e-10, 3.565469114619191e-06, 2.4358974837213054e-09, 8.565180509290116e-11, 2.780502370569593e-07, 0.000804154493380338, 1.0245579495915536e-08, 2.9890836231061257e-05, 6.2049014815102055e-09, 1.8358092823689276e-10, 1.3775902516499627e-06, 0.01946001872420311, 4.479363724385621e-08, 1.520380692454637e-06, 5.330552665938626e-10, 4.883644530440101e-11, 4.027539901585442e-08, 9.17548022698611e-05, 4.570985367990943e-09, 2.417649056951632e-06, 1.309729102949575e-09, 4.1408949186250155e-11, 1.1625100881929029e-07, 0.0007254818920046091, 1.3147733568530384e-08, 1.4002857824380044e-05, 4.8913588734933455e-09, 9.832547276378278e-11, 1.2782871863237233e-06, 0.0011733878636732697, 5.321172125150042e-08, 0.0003107672091573477, 2.8997664713870108e-08, 3.66317753908163e-10, 1.986473216675222e-05, 0.20436476171016693, 7.230486289699911e-07, 6.067946014809422e-05, 1.1836960744915359e-08, 2.716355473886267e-10, 1.9625219920271775e-06, 0.0146172558888793, 1.1215609418968597e-07, 0.017264867201447487, 0.1024882048368454, 0.0001373974810121581, 2.3605936760873192e-08, 1.4624772120441776e-05, 9.961989917428582e-07, 0.0017461408860981464, 0.013547191396355629, 1.4168104826239869e-05, 2.1918153958466746e-09, 1.6027070159907453e-06, 5.2399432348693153e-08, 0.009027852676808834, 0.043605491518974304, 3.352081694174558e-05, 1.4499765832454159e-08, 3.732126970135141e-06, 2.3425054962444847e-07, 0.08512871712446213, 0.14229781925678253, 0.00019313875236548483, 1.211498545927725e-08, 1.9893092030542903e-05, 7.166894420151948e-07, 0.5834140181541443, 0.7392354011535645, 0.0036541721783578396, 3.3370227470186364e-07, 0.00039304670644924045, 2.437978946545627e-05, 0.3848000168800354, 0.5628331899642944, 0.0011920433025807142, 9.628855934806779e-08, 3.597762406570837e-05, 4.826383246836485e-06, 0.0010078907944262028, 0.0017102063866332173, 7.273918527062051e-06, 1.465342291950833e-09, 9.508290759185911e-07, 4.378086515544055e-08, 0.06583065539598465, 0.25235262513160706, 0.0004902422660961747, 5.142476311448263e-08, 3.24696084135212e-05, 3.238064437027788e-06, 0.015108700841665268, 0.045916780829429626, 0.00012530286039691418, 1.9764545555744917e-08, 6.3533543652738445e-06, 4.548532501758018e-07, 0.005700948182493448, 0.026950379833579063, 5.0802842451957986e-05, 4.236220263464929e-09, 7.283225841092644e-06, 1.2577044117279002e-07, 0.02194315195083618, 0.08459386229515076, 0.00010728294000728056, 2.5180446172612392e-08, 1.1742194146791007e-05, 5.322937681739859e-07, 0.009329110383987427, 0.048823032528162, 5.4424865084001794e-05, 4.564956856967228e-09, 1.2391485142870806e-05, 3.831439698842587e-07, 7.959383374611662e-09, 0.0002462626725900918, 1.0193952626469382e-10, 1.304876207086636e-10, 6.994563591433689e-05, 8.690564379243426e-10, 1.4971676121078303e-09, 2.7349437004886568e-05, 3.8432611260130756e-11, 5.249409240626335e-11, 7.3260057433799375e-06, 3.155640748708777e-10, 9.041518644892221e-09, 0.00031830286025069654, 2.507976326615591e-10, 3.196323483667385e-10, 2.176690941269044e-05, 2.635944129636414e-09, 7.357730424928377e-09, 0.0003454260586295277, 1.8982977689763203e-10, 1.3914491781008564e-10, 8.14653976703994e-05, 1.3966773293461188e-09, 2.5652394697317504e-07, 0.009026508778333664, 2.4694200018160473e-09, 4.143774656739652e-09, 0.001934889703989029, 3.728554531789996e-08, 1.0321252830181038e-07, 0.007562647107988596, 1.7661245799160952e-09, 2.2409443189985723e-09, 0.0007623312994837761, 2.1721522358575385e-08, 2.2191835036267094e-09, 1.550821434648242e-05, 7.117924305521939e-11, 8.949836705074432e-11, 3.58756051355158e-06, 7.559253778488539e-10, 3.387811275956665e-08, 0.0008078876999206841, 5.610129027999733e-10, 7.660521661456698e-10, 0.000610227813012898, 6.0558029701951455e-09, 1.201673960338212e-08, 0.00013310741633176804, 4.0686740088169415e-10, 5.653116308401707e-10, 8.282609633170068e-05, 4.474161041656544e-09, 5.2963136113248765e-05, 5.58146896756373e-11, 8.459243722169774e-11, 1.3834705896442756e-05, 5.358718468961854e-10, 2.8753406766668377e-08, 0.0002476051449775696, 4.2279926781851884e-10, 8.286458741402214e-10, 0.00012801698176190257, 4.52668524886235e-09, 3.964650385768209e-09, 0.00012209761189296842, 4.065460121327469e-11, 6.345488717807157e-11, 5.139386121300049e-05, 6.468991453623119e-10, 8.802569784194247e-10, 7.557222488685511e-06, 1.677870955063554e-06, 0.00020113012578804046, 1.9373949555756553e-08, 0.00013124050747137517, 7.781423838615353e-10, 2.7994542506348807e-06, 5.634520903186058e-07, 9.990363469114527e-05, 7.869069840182874e-09, 0.00010828307131305337, 1.3045764468699872e-08, 0.00011614649702096358, 1.9651439288281836e-05, 0.009732716716825962, 1.1144047817879255e-07, 0.005799396894872189, 5.350706260287552e-07, 0.009138115681707859, 0.0014533456414937973, 0.3992496728897095, 5.9060298553959e-06, 0.2317131608724594, 8.649012173123083e-09, 1.6974816389847547e-05, 4.306100436224369e-06, 0.0006326621514745057, 4.7479737474986905e-08, 0.0004086726112291217, 2.9894991371293145e-08, 0.00024191317788790911, 5.0140377425123006e-05, 0.0035839821211993694, 1.3133639242823847e-07, 0.004244115203619003, 5.472718100918428e-08, 0.0004747555940411985, 8.496589725837111e-05, 0.020219363272190094, 4.920913170280983e-07, 0.027549277991056442, 2.370803553475298e-09, 2.817221320583485e-05, 4.641559371520998e-06, 0.0021927382331341505, 2.4419785304985453e-08, 0.000711593427695334, 4.585912449783791e-08, 9.139162284554914e-05, 3.156184175168164e-05, 0.005538872443139553, 2.29809799634495e-07, 0.0014797061448916793, 3.257467824369087e-07, 0.001911020721308887, 0.0005763845983892679, 0.1401883214712143, 2.151132775907172e-06, 0.029337476938962936, 5.0580009514078483e-08, 0.0003824408049695194, 0.00010701994324335828, 0.027132857590913773, 4.914741111861076e-07, 0.004807869903743267, 9.405221046421275e-10, 5.078886260889703e-06, 7.243426694003574e-07, 0.00020218304416630417, 9.102583575781864e-09, 0.00018846597231458873, 3.057545683304852e-08, 1.9514477855864243e-07, 4.401387698749204e-08, 3.2814598260877403e-10, 3.751995159007038e-09, 2.465073123403272e-08, 7.822111847133328e-09, 8.071216228699996e-08, 2.5976783391001845e-08, 5.474048991871427e-10, 4.376715434517564e-09, 1.6703554095442996e-08, 1.5634512351425656e-07, 1.4560037016053684e-06, 2.0298833192100574e-07, 2.28263830059916e-09, 2.3973287355261164e-08, 4.02169916924322e-07, 7.363114127656445e-05, 2.5761968572624028e-05, 9.88159385428844e-08, 4.38897700405505e-07, 2.1397288946900517e-05, 6.262677487711699e-08, 1.4965566208502423e-07, 1.0044963261179873e-07, 2.027062961929005e-09, 5.146398862621027e-09, 5.6677080806366575e-08, 6.661938982688298e-07, 2.699425976970815e-06, 9.020625952871342e-07, 6.3877414469004634e-09, 2.704921975293928e-08, 1.862224507931387e-06, 9.495101949141826e-06, 2.6116267690667883e-06, 1.9512945925725944e-08, 1.3469799853282893e-07, 3.0225180580600863e-06, 2.141525179411019e-08, 5.137482048667152e-07, 5.321491025611635e-10, 2.4669202236538013e-09, 3.702567994423589e-07, 1.605414695404761e-06, 6.767171498722746e-07, 7.742653629350116e-09, 8.9276007031458e-08, 1.0185683549934765e-06, 3.430670858506346e-06, 1.4320298760139849e-05, 5.4473148338729516e-06, 4.755759519525782e-08, 1.6164145222319348e-07, 3.92638548873947e-06, 7.24031224308419e-07, 4.1386615521332715e-06, 1.167689447356679e-06, 1.3109445085035532e-08, 5.305483341544459e-08, 6.105222496444185e-07, 2.9115824418113334e-08, 1.256366601865011e-07, 4.742190640172339e-08, 5.26689247770662e-10, 8.654689409581806e-09, 3.8090618659225584e-08, 0.0005128815537318587, 0.0005165708716958761, 1.2013232662866358e-05, 3.476102108379564e-07, 0.00022993357561063021, 9.068368171938346e-07, 3.396228203200735e-05, 0.00028819922590628266, 1.4707585251017008e-05, 2.936176883849839e-07, 0.0002501567068975419, 2.1232792732917005e-06, 4.680945858126506e-05, 0.0006181717035360634, 2.5656368961790577e-05, 6.27099041139445e-07, 7.647291204193607e-05, 3.676365452065511e-07, 0.0002292556455358863, 5.73125907976646e-06, 2.489359474111552e-07, 0.0008919872343540192, 3.2644443308527116e-06, 5.11085418111179e-05, 0.0008670461247675121, 4.6580000343965366e-05, 6.084414394535997e-07, 1.901646839996829e-07, 0.00010660783300409093, 1.2552508223961922e-06, 5.706192851562264e-08, 0.00014761535567231476, 7.599919058520754e-07, 1.009725656331284e-05, 0.00011526373418746516, 8.842517672746908e-06, 1.1367703223186254e-07, 9.452199446968734e-05, 4.941605880048883e-07, 7.405874839605531e-06, 0.00010223032586509362, 6.759348707419122e-06, 5.7140990605830666e-08, 5.164043977856636e-05, 2.0231865960340656e-07, 6.0518495956785046e-06, 6.4663945522625e-05, 2.0297622995713027e-06, 9.055312943928584e-08, 0.00021805069991387427, 8.006196594578796e-07, 3.385043964954093e-05, 0.00040135401650331914, 1.6446698282379657e-05, 4.1369503378518857e-07, 0.00021845065930392593, 1.3989543958814465e-06, 2.7103733373223804e-05, 8.781900760368444e-06, 4.6878324155841256e-07, 0.00017615410615690053, 1.1782638011936797e-06, 1.734401121211704e-05, 0.00018248785636387765, 3.0465966460724303e-07, 6.442659241656656e-07, 5.166817640400723e-09, 7.494534202123759e-07, 0.0003682743990793824, 1.8680068023968488e-05, 4.6918668772377714e-07, 1.6101658673051134e-08, 4.7547527515234833e-07, 0.00020438469073269516, 1.343254916719161e-05, 3.632623304383742e-07, 2.790613109482365e-07, 3.8911722732848375e-09, 1.2969972829068865e-07, 0.0006948876543901861, 2.3095890355762094e-05, 1.8310542770905158e-07, 2.86556814899086e-06, 2.4240151219601103e-08, 2.5709073270263616e-06, 0.005549022462219, 0.00011784433445427567, 7.909602572908625e-07, 7.889843089969872e-08, 1.0239381564858263e-09, 9.915880383459807e-08, 7.23313496564515e-05, 2.490944098099135e-06, 1.9174146714817653e-08, 6.106736805122637e-08, 3.3601682547512723e-10, 5.1243041809811984e-08, 5.847906504641287e-05, 2.0822769783990225e-06, 2.152442313274605e-08, 1.4769210565646063e-06, 9.045159288234572e-09, 1.7085020544982399e-06, 0.0021456510294228792, 4.294785321690142e-05, 4.70883776415576e-07, 1.9038098741930298e-07, 1.7311525546404027e-09, 1.4716638929712644e-07, 0.0002195422857766971, 1.2101709501166624e-07, 4.816961336473469e-06, 2.7128582047453165e-08, 3.256714308008668e-06, 0.015442956238985062, 0.00014677279978059232, 2.8507183742476627e-06, 9.518564070276625e-08, 1.1283187717481269e-09, 6.806595109765112e-08, 4.189603714621626e-05, 3.0545731277697996e-08, 1.9198067491288384e-07, 1.333392729563343e-09, 1.6108621991861583e-07, 0.0001099317887565121, 7.530524726462318e-06, 6.148578535203342e-08, 2.8183451377117308e-06, 2.4083142591280193e-08, 3.049548922717804e-06, 0.00605423841625452, 0.00016520748613402247, 1.1509288242450566e-06, 0.0019863254856318235, 4.139032625971595e-06, 2.255897197755985e-05, 8.876796897538952e-08, 0.0002976410323753953, 0.0003813270013779402, 0.00033636257285252213, 2.1367632143665105e-06, 8.92897787707625e-06, 7.004480551131564e-08, 6.092112380429171e-05, 3.951878898078576e-05, 0.0018279942451044917, 6.802377470194187e-07, 3.197264959453605e-06, 4.748180071345587e-09, 9.684823453426361e-05, 0.00013464721268974245, 0.007670809514820576, 5.9388280533312354e-06, 4.807205550605431e-05, 1.1410887879037546e-07, 0.00038938852958381176, 0.00040693546179682016, 7.044754602247849e-05, 5.487455609909375e-07, 1.6510468867636519e-06, 6.0747527008686575e-09, 2.515877531550359e-05, 1.5105491002032068e-05, 0.00021116090647410601, 1.713998614150114e-07, 1.0432769386170548e-06, 2.6600606162219265e-09, 8.871752470440697e-06, 2.1057667254353873e-05, 0.005218506790697575, 4.648491540137911e-06, 4.2784744437085465e-05, 5.785780743394753e-08, 0.00028366016340442, 0.0003452522214502096, 0.0003762474225368351, 9.67702590060071e-07, 2.9663817713299068e-06, 1.6942312441869944e-08, 2.7228139515500516e-05, 3.347325400682166e-05, 0.02754373475909233, 3.138691226922674e-06, 6.829132325947285e-05, 1.1752983652968396e-07, 0.0005125629249960184, 0.001723399618640542, 3.9320332234638045e-07, 1.4489379509541322e-06, 1.7614194803172722e-05, 2.2434816855820827e-05, 1.2463023040254484e-06, 4.039290615764912e-06, 1.810496286225316e-08, 5.036873335484415e-05, 6.108092202339321e-05, 0.024353766813874245, 1.5922129023238085e-05, 8.241184696089476e-05, 1.38784642444989e-07, 0.00274236430414021, 0.0018319390946999192, 1.3752495808816434e-09, 7.279139140337065e-07, 4.2706764361355454e-05, 3.504661005848675e-10, 1.1437703506089747e-05, 3.042703422551085e-09, 1.987480846565859e-09, 7.733691745670512e-06, 0.000611840165220201, 5.566035965465232e-10, 0.00028227161965332925, 1.587395992430629e-08, 9.098365616466708e-09, 7.240627382998355e-06, 0.0007751346565783024, 7.21545656556799e-10, 0.00011426438868511468, 1.2572771268537508e-08, 4.0507923404486945e-11, 1.6661998003542067e-08, 1.2654422789637465e-06, 2.0967470815147493e-11, 4.2462659166631056e-07, 1.5349276294429615e-09, 1.8381168729320052e-06, 0.00013307086192071438, 1.6782127076897524e-10, 4.244156662025489e-05, 4.62170124393424e-09, 2.4665909315046974e-09, 5.0114122132072225e-06, 0.00021894088422413915, 6.003998964665413e-10, 5.811387745779939e-05, 1.1066454419506044e-08, 7.971883708712824e-10, 8.458011393486231e-07, 0.00012259811046533287, 4.077709003791341e-10, 6.628353003179654e-05, 4.4977936930479245e-09, 3.626492162123185e-10, 1.9060804845594248e-07, 1.0313592611055356e-05, 8.424817787844319e-11, 1.5179451793301268e-06, 9.121017829905043e-10, 1.3522842845503646e-09, 2.1968194232613314e-06, 0.0003358708636369556, 3.8210209996059064e-10, 0.00010329046926926821, 6.256418494388072e-09, 7.977894789235052e-09, 3.193590964656323e-05, 0.0038911576848477125, 1.6116398215970662e-09, 0.0015976043650880456, 1.2828249396079627e-07, 9.377551180023147e-09, 1.4888206351315603e-05, 0.0013837439473718405, 1.8387574796108197e-09, 0.0004384583735372871, 4.045154256004935e-08, 1.1812467448635289e-08, 2.4090177248581313e-05, 0.0008791110012680292, 2.485486261250003e-09, 0.00023095397045835853, 4.049794455340816e-08, 9.852692528511398e-07, 2.652618604770396e-05, 1.702307059758823e-07, 2.066762178065673e-10, 3.606272116485343e-07, 5.063184360665218e-08, 3.6573526358552044e-06, 0.00010023257345892489, 4.18987696093609e-07, 1.6924787960004295e-10, 2.3757493181619793e-06, 1.6623150145278487e-07, 4.726474344352027e-06, 0.00016572528693359345, 7.994111683728988e-07, 8.788946792570584e-10, 1.828293306971318e-06, 2.7784739842218187e-08, 3.9916045579957427e-07, 4.211736293058266e-09, 7.632234254317805e-12, 1.1233439067837026e-08, 1.5991162838346895e-09, 2.4252765342680505e-06, 7.85734664532356e-05, 1.182863584858751e-07, 1.6460013907426685e-10, 7.252917839650763e-07, 6.239118022222101e-08, 2.34531148635142e-06, 8.53347810334526e-05, 5.893916181776149e-07, 2.499347395712448e-10, 2.6876097081185435e-07, 1.5355570894826087e-06, 5.5514810810564086e-05, 1.208298243682293e-07, 3.4187328878942935e-07, 5.259640190047321e-08, 2.660321456460224e-07, 7.6120136327517685e-06, 1.7142381736334755e-08, 4.7202009662017375e-11, 1.1029793256511766e-07, 1.1568359603586487e-08, 3.3770163554436294e-06, 5.0600108806975186e-05, 1.6584371564931644e-07, 1.9590977451411362e-10, 9.607481388229644e-07, 8.587882405208802e-08, 2.0739294996019453e-05, 0.0008076932863332331, 1.6117426184791839e-06, 4.3889930578799863e-10, 9.815892553888261e-06, 8.003166271919326e-07, 1.4570091479981784e-05, 0.0005920719704590738, 1.6747168274378055e-06, 1.1385420384257827e-09, 7.597023341077147e-06, 1.0948629096674267e-06, 2.4027358449529856e-05, 0.0005090135964564979, 2.3393117771774996e-06, 1.960803519551746e-09, 9.433294508198742e-06, 1.0152883760383702e-06, 2.9173327642517677e-10, 7.078285307215992e-06, 0.0032160424161702394, 7.247228239748438e-08, 1.8151941105770675e-07, 4.801044894975348e-09, 4.664315156333032e-09, 0.00022053295106161386, 0.1662684828042984, 1.0405494776932755e-06, 4.248637651471654e-06, 4.219690552531574e-08, 6.6033951640065425e-09, 0.00036061115679331124, 0.5686335563659668, 4.7744097173563205e-06, 7.132439350243658e-06, 5.584618989473711e-08, 1.1086588536102226e-08, 0.0012067982461303473, 0.45790794491767883, 3.356256456754636e-06, 1.2680729014391545e-05, 2.709487318952597e-07, 5.197240415810711e-09, 4.5935212256154045e-05, 0.25083377957344055, 1.2795483144145692e-06, 1.1874168421854847e-06, 2.567453982749157e-08, 4.3367118784942704e-09, 0.0007617234950885177, 0.2036837637424469, 2.0986542494938476e-06, 9.101810974243563e-06, 1.746702622540397e-07, 1.6217415188535256e-09, 0.00021969810768496245, 0.13329468667507172, 1.0007162245528889e-06, 3.1954907626641216e-06, 3.8015862457996263e-08, 1.5856614909992572e-09, 0.00010306004696758464, 0.2865915894508362, 2.1207717963989126e-06, 3.5304387893120293e-06, 2.3027679318943228e-08, 4.00794455401865e-08, 0.0021503781899809837, 0.5651006102561951, 1.263928152184235e-05, 4.2889896576525643e-05, 6.21364961261861e-07, 2.2953994971430802e-07, 0.059018976986408234, 0.910530686378479, 0.00039576698327437043, 0.00039250528789125383, 1.6654330465826206e-06, 5.025466709440707e-09, 0.0003393808729015291, 0.3289180397987366, 1.9114245333184954e-06, 6.563738224940607e-06, 4.993089675053852e-08, 3.4399258996842264e-09, 0.0003485649067442864, 0.43449273705482483, 4.6216027840273455e-05, 2.5590710720280185e-05, 1.67921740512611e-07, 7.140520352777457e-08, 1.713391952762322e-06, 8.71726456352917e-07, 5.480726940731984e-06, 4.126261410419829e-05, 8.447481825157865e-09, 2.045553401330835e-06, 4.08162668463774e-05, 6.889548785693478e-06, 0.0004074270837008953, 0.007567569613456726, 4.8480597314437546e-08, 4.850631285080453e-06, 7.020323391770944e-05, 3.407781332498416e-05, 0.0007756075938232243, 0.04376424849033356, 1.0208599121597217e-07, 1.9766148398048244e-05, 0.00027727283304557204, 7.088732672855258e-05, 0.0021716500632464886, 0.06346873193979263, 1.4724696484336164e-07, 2.797810338961426e-06, 2.786483491945546e-05, 6.404180112440372e-06, 4.647191963158548e-05, 0.0009357775561511517, 4.466855685336668e-08, 1.7315949662588537e-05, 0.0002957667165901512, 3.3672844438115135e-05, 0.0007990626618266106, 0.008488629944622517, 1.1496733520743874e-07, 1.6693336419848492e-06, 3.930872117052786e-05, 1.9141381926601753e-05, 0.00014902678958605975, 0.0022269641049206257, 9.656388755274747e-08, 2.0630582184821833e-06, 3.241741069359705e-05, 1.477729165344499e-05, 0.00010574026964604855, 0.0029464943800121546, 6.727309909138057e-08, 2.918334757850971e-05, 0.0002499331021681428, 9.514760313322768e-05, 0.0007591810426674783, 0.009864642284810543, 5.345034992387809e-07, 0.0018581721233204007, 0.0030908128246665, 0.005944345612078905, 0.005984464194625616, 0.3993892967700958, 1.1269221431575716e-05, 2.2593997073272476e-06, 5.673370833392255e-05, 3.062891119043343e-05, 0.00035135517828166485, 0.006843061652034521, 1.184911795348853e-07, 2.143553501809947e-06, 2.8267000743653625e-05, 0.00012612556747626513, 0.00014423827815335244, 2.413501931641804e-07, 3.439502961555263e-06, 0.028521200641989708, 6.10400929801358e-09, 4.598599616656429e-07, 1.6309327293129172e-06, 0.00028473883867263794, 2.3508007870987058e-05, 0.23118819296360016, 1.2373072877380764e-07, 4.613311375578633e-06, 8.221734788094182e-06, 0.00130177172832191, 1.5538398656644858e-06, 0.007994621060788631, 7.318094130681629e-09, 3.959665377806232e-07, 7.46913647162728e-05, 2.5860620098683285e-06, 0.012988297268748283, 1.3144974886358796e-08, 5.444274506771762e-07, 8.623152893960651e-07, 0.000306884350720793, 1.5529496977251256e-06, 0.0039029614999890327, 6.106093852764616e-09, 2.550627300479391e-07, 6.268437005019223e-07, 4.72873289254494e-05, 1.3073909030936193e-06, 0.0006917171413078904, 6.146593900524522e-09, 1.8032699244940886e-07, 3.474236223155458e-07, 4.051309224450961e-05, 1.0147047078135074e-06, 0.001925499876961112, 5.8022551208125606e-09, 1.5490860505451565e-07, 1.7447847255880333e-07, 4.0317765524378046e-05, 2.6987694923263916e-07, 0.000372765411157161, 7.36841476722816e-10, 3.966021822066068e-08, 6.95787605309306e-08, 8.932273885875475e-06, 0.00039833495975472033, 1.2038452179563564e-10, 8.521339189826449e-09, 3.379904711664494e-08, 2.3800714643584797e-06, 6.577377575922583e-08, 0.0003034631081391126, 2.234383095212067e-10, 1.6124156232422138e-08, 2.7623205056670486e-08, 2.64521304416121e-06, 6.694566536680213e-07, 0.000788665609434247, 2.938169263444479e-09, 1.0237612713126509e-07, 1.0890693147302954e-07, 1.690738099568989e-05, 5.298848648749299e-08, 8.533307845937088e-05, 5.6218987798395403e-11, 3.785882718432276e-09, 1.2776415481141612e-08, 1.2818321692975587e-06, 0.08703746646642685, 7.47275752388532e-09, 1.3608203062176472e-06, 0.009883882477879524, 1.1310209629300516e-05, 8.060863183345646e-05, 0.5851410031318665, 1.1154318002581931e-07, 5.173751105758129e-06, 0.027982108294963837, 7.056567847030237e-05, 0.0029796368908137083, 0.06930631399154663, 1.422552831087387e-08, 3.538211217346543e-07, 0.001343477051705122, 1.5070247627591016e-06, 6.684491381747648e-05, 0.1505553424358368, 2.287481493112864e-08, 1.3179012512409827e-06, 0.005336129106581211, 7.951661245897412e-06, 0.0002777308109216392, 0.044224340468645096, 1.2426649043106863e-08, 6.709452122777293e-07, 0.002173144370317459, 3.1900772228254937e-06, 3.2464562536915764e-05, 0.02193480357527733, 3.872567688745221e-08, 7.983217642504314e-07, 0.0023872205056250095, 1.4143642147246283e-05, 3.302050390630029e-05, 0.008796184323728085, 9.23093246285589e-09, 4.348932804987271e-07, 0.001478874939493835, 1.6591916391917039e-06, 1.127433824876789e-05, 0.004548192489892244, 1.1353953333070876e-09, 1.9614802226897154e-07, 0.00011130367056466639, 4.149218852944614e-07, 6.957775440241676e-06, 0.0009042640449479222, 6.284913561804828e-11, 1.733423182770366e-08, 3.6698675103252754e-05, 1.0140153960946918e-07, 2.4929947812779574e-06, 0.0010108915157616138, 1.9344610635574355e-10, 1.5158022392824932e-08, 7.157446816563606e-05, 1.5122679997148225e-07, 1.6576796042500064e-06, 0.007598778698593378, 3.321726005367509e-09, 1.7143352692983171e-07, 0.0004556033236440271, 7.133522217372956e-07, 9.229989700543229e-06, 0.0014340810012072325, 6.3387267656978e-11, 1.1729867743781597e-08, 7.080064824549481e-05, 8.774835436042849e-08, 7.247779763019935e-07, 3.939845191780478e-05, 0.00977450329810381, 0.04243219271302223, 7.06165295127903e-08, 0.00014353265578392893, 5.433964815892978e-06, 2.1086452761664987e-06, 0.0011777948820963502, 0.0026840921491384506, 6.633667393174392e-09, 1.7612683222978376e-05, 5.889319822927064e-07, 9.465232869843021e-05, 0.044573139399290085, 0.17972052097320557, 1.318545770345736e-07, 0.0006516267312690616, 1.9063501895288937e-05, 9.754351594892796e-06, 0.00420023500919342, 0.018253512680530548, 3.2260011550988565e-08, 7.098873174982145e-05, 2.370864876866108e-06, 9.410113307239953e-06, 0.004069129005074501, 0.05396021157503128, 2.961276912571975e-08, 4.435968367033638e-05, 1.999205096581136e-06, 5.6221408158307895e-05, 0.008094173856079578, 0.05718870088458061, 1.1382803677406628e-07, 0.00012393950601108372, 1.0496567483642139e-05, 1.6257616834991495e-06, 0.0006259283982217312, 0.0026950391475111246, 2.4799220454951865e-09, 5.558160410146229e-06, 2.5374001211275754e-07, 1.947916462086141e-05, 0.0086308429017663, 0.025824839249253273, 4.941190923091199e-08, 6.394404772436246e-05, 2.528088771214243e-06, 1.1423840078350622e-06, 0.00047111825551837683, 0.003808832261711359, 3.4726304054544244e-09, 3.7527420317928772e-06, 2.0046736892709305e-07, 4.181787517154589e-06, 0.00797127652913332, 0.07146353274583817, 6.53773879477626e-09, 3.0781673558522016e-05, 1.132348529608862e-06, 7.768462637613993e-06, 0.004108370281755924, 0.025986935943365097, 2.3868029330742502e-08, 4.909036579192616e-05, 1.8133823687094264e-06, 8.465089194942266e-05, 0.03309198468923569, 0.2396882176399231, 4.70159982057794e-08, 0.0002933476644102484, 2.388559039445681e-07, 0.016653362661600113, 0.1822696328163147, 6.186858172441134e-07, 3.266063140472397e-05, 2.661305487094978e-08, 0.0007909561973065138, 0.05686935782432556, 7.119604816807623e-08, 2.38607367464283e-06, 3.806894255831139e-06, 5.71960640627367e-07, 0.024820679798722267, 0.7925216555595398, 1.0220770718660788e-06, 6.833724910393357e-05, 0.00015291581803467125, 7.773316923476159e-08, 0.0030787107534706593, 0.42310240864753723, 2.753717467385286e-07, 1.1565618478925899e-05, 2.051209048659075e-05, 8.409369911532849e-08, 0.010926758870482445, 0.21727555990219116, 1.4288184502220247e-07, 9.885202416626271e-06, 9.897361451294273e-06, 3.8654434320051223e-07, 0.012689300812780857, 0.17816898226737976, 4.6290745103760855e-07, 3.804766311077401e-05, 6.313454650808126e-05, 1.349520051263653e-08, 0.0005151954828761518, 0.008642327040433884, 3.289170180664769e-08, 1.3169740213925252e-06, 1.2662945891861455e-06, 1.446438773200498e-07, 0.007477905135601759, 0.6340267062187195, 2.9949760005365533e-07, 9.878887794911861e-06, 2.4219221813837066e-05, 1.1381561471068835e-08, 0.0004559085064101964, 0.026565920561552048, 2.4400280906888838e-08, 9.371901228405477e-07, 1.5266836044247611e-06, 3.336337783821364e-08, 0.010618598200380802, 0.06438453495502472, 1.723293365785139e-07, 2.623809677970712e-06, 5.952163974143332e-06, 5.172893580152049e-08, 0.008063139393925667, 0.199288010597229, 2.0382711340971582e-07, 7.99537701823283e-06, 1.5397423339891247e-05, 1.57628178953928e-07, 0.07738202065229416, 0.35826539993286133, 5.75965202642692e-07, 4.113532122573815e-05, 0.00010940973879769444, 3.4182372132818273e-07, 0.002675288589671254, 7.334179827012122e-05, 0.0053662327118217945, 0.7887997627258301, 0.9728464484214783, 5.001667702231316e-08, 1.3188378943596035e-05, 3.61987247288198e-07, 5.756210157414898e-05, 0.019822169095277786, 0.2139037400484085, 8.065076428920293e-08, 8.893875201465562e-05, 0.000758363981731236, 0.5499085783958435, 0.8941782712936401, 4.888973492711557e-08, 7.045809616101906e-05, 7.196988008217886e-06, 0.00039661661139689386, 0.2581477165222168, 0.47814083099365234, 6.710134670129264e-09, 4.861565685132518e-06, 4.70899095716959e-07, 2.137997216777876e-05, 0.01834970898926258, 0.07284040749073029, 2.2710052505203748e-08, 9.736692845763173e-06, 1.058076236404304e-06, 3.2354932045564055e-05, 0.0347725935280323, 0.16424258053302765, 2.0267323463940556e-07, 0.00038831570418551564, 7.5775155892188195e-06, 0.0008669870439916849, 0.4790462851524353, 0.9580339193344116, 2.0456752736208728e-07, 0.001220495323650539, 5.087566387373954e-05, 0.005932832136750221, 0.8343937993049622, 0.984600841999054, 6.911974992362957e-09, 2.299701463925885e-06, 1.3054804526291264e-07, 5.840603535034461e-06, 0.0243693720549345, 0.3043660521507263, 4.7661387725383975e-08, 0.00017194592510350049, 7.4856375249510165e-06, 0.0008661533938720822, 0.7011973857879639, 0.8463575839996338, 4.331828407089233e-08, 8.504638390149921e-05, 4.227773843012983e-06, 0.00021151697728782892, 0.11564569920301437, 0.6095634698867798, 5.518292596207175e-07, 0.00041774686542339623, 3.7628982681781054e-05, 0.0017177296103909612, 0.3575795888900757, 0.8873617053031921, 6.694250623695552e-05, 0.005927766673266888, 0.8591998815536499, 0.5092182159423828, 0.025318298488855362, 0.04435494914650917, 3.499602030387905e-07, 0.00010951808508252725, 0.0173313170671463, 0.004479049704968929, 0.00011250573879806325, 0.00020331103587523103, 2.836935436789645e-06, 0.000487829209305346, 0.2536294758319855, 0.03446469083428383, 0.0005427066353149712, 0.001654955791309476, 2.411847844996373e-06, 0.0006241927039809525, 0.16557292640209198, 0.021736973896622658, 0.0010211869375780225, 0.0018658973276615143, 4.515899547641311e-07, 7.963380630826578e-05, 0.021508151665329933, 0.0013830423122271895, 3.615885725594126e-05, 0.00017356002354063094, 6.249896955523582e-07, 8.802530646789819e-05, 0.03912540152668953, 0.006599790416657925, 0.00013746194599661976, 0.0003294644702691585, 3.5987866340292385e-06, 0.0012812560889869928, 0.36486485600471497, 0.03850364312529564, 0.0011144854361191392, 0.0029752205591648817, 2.2955531676416285e-05, 0.002243703929707408, 0.47865113615989685, 0.20826317369937897, 0.009854303672909737, 0.01707383804023266, 2.262495115701313e-07, 3.971088881371543e-05, 0.015953445807099342, 0.0019949034322053194, 3.5642413422465324e-05, 7.75350708863698e-05, 3.952247425331734e-06, 0.0007861983613111079, 0.329078733921051, 0.04450200870633125, 0.0015352806076407433, 0.0024771494790911674, 1.808205070119584e-06, 0.000334693759214133, 0.07136182487010956, 0.010056188330054283, 0.0003856203402392566, 0.0004332569660618901, 3.516965080052614e-05, 0.0032528438605368137, 0.38406774401664734, 0.11751120537519455, 0.006909401621669531, 0.01407314371317625, 0.6730505228042603, 0.290769100189209, 2.2991047444520518e-05, 0.334380567073822, 0.8011007308959961, 0.7405794858932495, 0.9999617338180542, 0.9998738765716553, 0.06913012266159058, 0.9997981190681458, 0.999984622001648, 0.9999938011169434, 0.8579126596450806, 0.7023828029632568, 8.643986802781001e-05, 0.7742864489555359, 0.9754208922386169, 0.9575029015541077, 0.9182466268539429, 8.924264693632722e-05, 0.8940185308456421, 0.9949178695678711, 0.9955751895904541, 0.9243068695068359, 0.6884165406227112, 4.949815775034949e-05, 0.6899297833442688, 0.9646093845367432, 0.9774098992347717, 0.8961653113365173, 0.8643905520439148, 0.8428758978843689, 0.968900203704834, 0.984965443611145, 0.7882756590843201, 0.5218942761421204, 0.00012331201287452132, 0.533927857875824, 0.9127189517021179, 0.9442837834358215, 0.031767357140779495, 0.0047414968721568584, 5.337272455108177e-07, 0.007981151342391968, 0.10004924982786179, 0.11460661143064499, 0.4863101541996002, 0.26691803336143494, 1.2474435607146006e-05, 0.25284501910209656, 0.7692727446556091, 0.8703649640083313, 0.9443078637123108, 0.856961190700531, 0.00014636748528573662, 0.894680917263031, 0.9855382442474365, 0.9937332272529602, 0.44310954213142395, 0.25666433572769165, 4.455514954315731e-06, 0.2467903345823288, 0.7669252157211304, 0.831055223941803, 0.4596143960952759, 0.20550569891929626, 3.577696816137177e-06, 0.19538915157318115, 0.5647596716880798, 0.7666395306587219, 1.089677126309141e-09, 1.6575201211566082e-09, 2.6390575840196107e-06, 8.789730748803848e-11, 9.48198394801203e-11, 8.344629168277606e-05, 7.939613055896189e-07, 7.999884701348492e-07, 0.006472047884017229, 2.3534276749614946e-08, 2.9224429098917426e-08, 0.32342901825904846, 1.88319182470309e-09, 2.6963287158565663e-09, 4.714315309684025e-06, 2.427630874102249e-10, 1.521695686124147e-10, 0.0001820906763896346, 3.615223231889786e-09, 4.735861036664346e-09, 6.773661425540922e-06, 6.783519301833962e-10, 2.1265116056934374e-10, 0.00028995980392210186, 1.3826533251659612e-09, 2.932010856326883e-09, 5.1088495638396125e-06, 2.1618706824710898e-10, 2.6293092703078003e-10, 0.00016523881640750915, 1.4563729111571888e-09, 4.096396999386798e-09, 5.829407200508285e-06, 2.2674884192497302e-10, 2.0284658674984968e-10, 0.00027730321744456887, 1.234900182112142e-09, 2.209292526700324e-09, 5.441489065560745e-06, 1.1339231636986469e-10, 1.5056347835162853e-10, 2.1198206384687168e-11, 4.2206103195718825e-11, 2.8168667398631442e-08, 7.732518618464024e-12, 3.1586905400310394e-12, 1.0618953183438862e-06, 3.545972682150733e-10, 6.174733502284369e-10, 1.5127659480640432e-06, 3.928125186236642e-11, 4.3684375561348077e-11, 4.2831776227103546e-05, 1.908897040436841e-09, 3.0778946058518386e-09, 6.619862233492313e-06, 2.4333005055332535e-10, 1.784619396705267e-10, 0.00021586935326922685, 1.4154061256377304e-10, 2.5016272386935157e-10, 6.563009833371325e-07, 4.508284370818849e-11, 2.3694450915212606e-11, 2.699382275750395e-05, 6.64285224050154e-11, 1.5254646157369933e-10, 3.7599352253891993e-07, 1.2248611847009983e-11, 1.546775728333838e-11, 1.2356566912785638e-05]\n"
     ]
    }
   ],
   "source": [
    "gscore = []\n",
    "fscore = []\n",
    "\n",
    "for i in range(len(y_true)):\n",
    "    if(y_true[i] == 0):\n",
    "        fscore.append(results.item(i))\n",
    "    else:\n",
    "        gscore.append(results.item(i))\n",
    "        \n",
    "print(gscore)\n",
    "print(fscore)"
   ]
  },
  {
   "cell_type": "code",
   "execution_count": 25,
   "metadata": {},
   "outputs": [],
   "source": [
    "from pyeer.eer_info import get_eer_stats\n",
    "from pyeer.report import generate_eer_report, export_error_rates"
   ]
  },
  {
   "cell_type": "code",
   "execution_count": 26,
   "metadata": {},
   "outputs": [],
   "source": [
    "stats = get_eer_stats(gscore, fscore)"
   ]
  },
  {
   "cell_type": "code",
   "execution_count": 24,
   "metadata": {},
   "outputs": [
    {
     "data": {
      "text/plain": [
       "pyeer.eer_stats.Stats"
      ]
     },
     "execution_count": 24,
     "metadata": {},
     "output_type": "execute_result"
    }
   ],
   "source": [
    "type(stats)"
   ]
  },
  {
   "cell_type": "code",
   "execution_count": 27,
   "metadata": {},
   "outputs": [],
   "source": [
    "generate_eer_report([stats], ['A'], 'pyeer_report.csv')"
   ]
  },
  {
   "cell_type": "code",
   "execution_count": 28,
   "metadata": {},
   "outputs": [],
   "source": [
    "import pandas as pd"
   ]
  },
  {
   "cell_type": "code",
   "execution_count": 30,
   "metadata": {},
   "outputs": [],
   "source": [
    "report = pd.read_csv('pyeer_report.csv')"
   ]
  },
  {
   "cell_type": "code",
   "execution_count": 31,
   "metadata": {},
   "outputs": [
    {
     "data": {
      "text/html": [
       "<div>\n",
       "<style scoped>\n",
       "    .dataframe tbody tr th:only-of-type {\n",
       "        vertical-align: middle;\n",
       "    }\n",
       "\n",
       "    .dataframe tbody tr th {\n",
       "        vertical-align: top;\n",
       "    }\n",
       "\n",
       "    .dataframe thead th {\n",
       "        text-align: right;\n",
       "    }\n",
       "</style>\n",
       "<table border=\"1\" class=\"dataframe\">\n",
       "  <thead>\n",
       "    <tr style=\"text-align: right;\">\n",
       "      <th></th>\n",
       "      <th></th>\n",
       "      <th></th>\n",
       "      <th></th>\n",
       "      <th></th>\n",
       "      <th></th>\n",
       "      <th></th>\n",
       "      <th></th>\n",
       "      <th></th>\n",
       "      <th></th>\n",
       "      <th></th>\n",
       "      <th></th>\n",
       "      <th></th>\n",
       "      <th></th>\n",
       "      <th></th>\n",
       "      <th></th>\n",
       "      <th></th>\n",
       "      <th></th>\n",
       "      <th></th>\n",
       "      <th></th>\n",
       "      <th></th>\n",
       "      <th></th>\n",
       "      <th></th>\n",
       "      <th></th>\n",
       "      <th></th>\n",
       "      <th></th>\n",
       "      <th>Generated using PyEER 0.5.3</th>\n",
       "    </tr>\n",
       "  </thead>\n",
       "  <tbody>\n",
       "    <tr>\n",
       "      <th>Experiment ID</th>\n",
       "      <th>GMean</th>\n",
       "      <th>GSTD</th>\n",
       "      <th>IMean</th>\n",
       "      <th>ISTD</th>\n",
       "      <th>Sensitivity index (d')</th>\n",
       "      <th>AUC</th>\n",
       "      <th>J-Index</th>\n",
       "      <th>J-Index_TH</th>\n",
       "      <th>MCC</th>\n",
       "      <th>MCC_TH</th>\n",
       "      <th>EERlow</th>\n",
       "      <th>EERhigh</th>\n",
       "      <th>EER</th>\n",
       "      <th>ZeroFMR</th>\n",
       "      <th>FMR1000</th>\n",
       "      <th>FMR100</th>\n",
       "      <th>FMR20</th>\n",
       "      <th>FMR10</th>\n",
       "      <th>ZeroFNMR</th>\n",
       "      <th>EER_TH</th>\n",
       "      <th>ZeroFMR_TH</th>\n",
       "      <th>FMR1000_TH</th>\n",
       "      <th>FMR100_TH</th>\n",
       "      <th>FMR20_TH</th>\n",
       "      <th>FMR10_TH</th>\n",
       "      <td>ZeroFNMR_TH</td>\n",
       "    </tr>\n",
       "    <tr>\n",
       "      <th>A</th>\n",
       "      <th>0.9894154167605757</th>\n",
       "      <th>0.05874142777627435</th>\n",
       "      <th>0.018212247719313013</th>\n",
       "      <th>0.11166194270690037</th>\n",
       "      <th>10.885990486922497</th>\n",
       "      <th>0.9990634356275908</th>\n",
       "      <th>0.9790887900966961</th>\n",
       "      <th>0.5836216807365417</th>\n",
       "      <th>0.9721013949954175</th>\n",
       "      <th>0.874071478843689</th>\n",
       "      <th>0.011519716437749225</th>\n",
       "      <th>0.011766628534074196</th>\n",
       "      <th>0.01164317248591171</th>\n",
       "      <th>0.7044749667700487</th>\n",
       "      <th>0.13602126716880816</th>\n",
       "      <th>0.01595037660611431</th>\n",
       "      <th>0.0</th>\n",
       "      <th>0.0</th>\n",
       "      <th>0.027782317372119628</th>\n",
       "      <th>0.7289772033691406</th>\n",
       "      <th>0.9999939203262329</th>\n",
       "      <th>0.995598316192627</th>\n",
       "      <th>0.8026099801063538</th>\n",
       "      <th>0.00977450329810381</th>\n",
       "      <th>0.0003816950775217265</th>\n",
       "      <td>0.16391119360923767</td>\n",
       "    </tr>\n",
       "    <tr>\n",
       "      <th>Legend:</th>\n",
       "      <th>NaN</th>\n",
       "      <th>NaN</th>\n",
       "      <th>NaN</th>\n",
       "      <th>NaN</th>\n",
       "      <th>NaN</th>\n",
       "      <th>NaN</th>\n",
       "      <th>NaN</th>\n",
       "      <th>NaN</th>\n",
       "      <th>NaN</th>\n",
       "      <th>NaN</th>\n",
       "      <th>NaN</th>\n",
       "      <th>NaN</th>\n",
       "      <th>NaN</th>\n",
       "      <th>NaN</th>\n",
       "      <th>NaN</th>\n",
       "      <th>NaN</th>\n",
       "      <th>NaN</th>\n",
       "      <th>NaN</th>\n",
       "      <th>NaN</th>\n",
       "      <th>NaN</th>\n",
       "      <th>NaN</th>\n",
       "      <th>NaN</th>\n",
       "      <th>NaN</th>\n",
       "      <th>NaN</th>\n",
       "      <th>NaN</th>\n",
       "      <td>NaN</td>\n",
       "    </tr>\n",
       "    <tr>\n",
       "      <th>GMean: Genuine scores distribution mean</th>\n",
       "      <th>NaN</th>\n",
       "      <th>NaN</th>\n",
       "      <th>NaN</th>\n",
       "      <th>NaN</th>\n",
       "      <th>NaN</th>\n",
       "      <th>NaN</th>\n",
       "      <th>NaN</th>\n",
       "      <th>NaN</th>\n",
       "      <th>NaN</th>\n",
       "      <th>NaN</th>\n",
       "      <th>NaN</th>\n",
       "      <th>NaN</th>\n",
       "      <th>NaN</th>\n",
       "      <th>NaN</th>\n",
       "      <th>NaN</th>\n",
       "      <th>NaN</th>\n",
       "      <th>NaN</th>\n",
       "      <th>NaN</th>\n",
       "      <th>NaN</th>\n",
       "      <th>NaN</th>\n",
       "      <th>NaN</th>\n",
       "      <th>NaN</th>\n",
       "      <th>NaN</th>\n",
       "      <th>NaN</th>\n",
       "      <th>NaN</th>\n",
       "      <td>NaN</td>\n",
       "    </tr>\n",
       "    <tr>\n",
       "      <th>GSTD: Genuine scores distribution standard deviation</th>\n",
       "      <th>NaN</th>\n",
       "      <th>NaN</th>\n",
       "      <th>NaN</th>\n",
       "      <th>NaN</th>\n",
       "      <th>NaN</th>\n",
       "      <th>NaN</th>\n",
       "      <th>NaN</th>\n",
       "      <th>NaN</th>\n",
       "      <th>NaN</th>\n",
       "      <th>NaN</th>\n",
       "      <th>NaN</th>\n",
       "      <th>NaN</th>\n",
       "      <th>NaN</th>\n",
       "      <th>NaN</th>\n",
       "      <th>NaN</th>\n",
       "      <th>NaN</th>\n",
       "      <th>NaN</th>\n",
       "      <th>NaN</th>\n",
       "      <th>NaN</th>\n",
       "      <th>NaN</th>\n",
       "      <th>NaN</th>\n",
       "      <th>NaN</th>\n",
       "      <th>NaN</th>\n",
       "      <th>NaN</th>\n",
       "      <th>NaN</th>\n",
       "      <td>NaN</td>\n",
       "    </tr>\n",
       "    <tr>\n",
       "      <th>IMean: Impostor scores distribution mean</th>\n",
       "      <th>NaN</th>\n",
       "      <th>NaN</th>\n",
       "      <th>NaN</th>\n",
       "      <th>NaN</th>\n",
       "      <th>NaN</th>\n",
       "      <th>NaN</th>\n",
       "      <th>NaN</th>\n",
       "      <th>NaN</th>\n",
       "      <th>NaN</th>\n",
       "      <th>NaN</th>\n",
       "      <th>NaN</th>\n",
       "      <th>NaN</th>\n",
       "      <th>NaN</th>\n",
       "      <th>NaN</th>\n",
       "      <th>NaN</th>\n",
       "      <th>NaN</th>\n",
       "      <th>NaN</th>\n",
       "      <th>NaN</th>\n",
       "      <th>NaN</th>\n",
       "      <th>NaN</th>\n",
       "      <th>NaN</th>\n",
       "      <th>NaN</th>\n",
       "      <th>NaN</th>\n",
       "      <th>NaN</th>\n",
       "      <th>NaN</th>\n",
       "      <td>NaN</td>\n",
       "    </tr>\n",
       "    <tr>\n",
       "      <th>IVariance: Impostor scores distribution standard deviation</th>\n",
       "      <th>NaN</th>\n",
       "      <th>NaN</th>\n",
       "      <th>NaN</th>\n",
       "      <th>NaN</th>\n",
       "      <th>NaN</th>\n",
       "      <th>NaN</th>\n",
       "      <th>NaN</th>\n",
       "      <th>NaN</th>\n",
       "      <th>NaN</th>\n",
       "      <th>NaN</th>\n",
       "      <th>NaN</th>\n",
       "      <th>NaN</th>\n",
       "      <th>NaN</th>\n",
       "      <th>NaN</th>\n",
       "      <th>NaN</th>\n",
       "      <th>NaN</th>\n",
       "      <th>NaN</th>\n",
       "      <th>NaN</th>\n",
       "      <th>NaN</th>\n",
       "      <th>NaN</th>\n",
       "      <th>NaN</th>\n",
       "      <th>NaN</th>\n",
       "      <th>NaN</th>\n",
       "      <th>NaN</th>\n",
       "      <th>NaN</th>\n",
       "      <td>NaN</td>\n",
       "    </tr>\n",
       "    <tr>\n",
       "      <th>Sensitivity index (d'): See NICE:II protocol evaluation</th>\n",
       "      <th>NaN</th>\n",
       "      <th>NaN</th>\n",
       "      <th>NaN</th>\n",
       "      <th>NaN</th>\n",
       "      <th>NaN</th>\n",
       "      <th>NaN</th>\n",
       "      <th>NaN</th>\n",
       "      <th>NaN</th>\n",
       "      <th>NaN</th>\n",
       "      <th>NaN</th>\n",
       "      <th>NaN</th>\n",
       "      <th>NaN</th>\n",
       "      <th>NaN</th>\n",
       "      <th>NaN</th>\n",
       "      <th>NaN</th>\n",
       "      <th>NaN</th>\n",
       "      <th>NaN</th>\n",
       "      <th>NaN</th>\n",
       "      <th>NaN</th>\n",
       "      <th>NaN</th>\n",
       "      <th>NaN</th>\n",
       "      <th>NaN</th>\n",
       "      <th>NaN</th>\n",
       "      <th>NaN</th>\n",
       "      <th>NaN</th>\n",
       "      <td>NaN</td>\n",
       "    </tr>\n",
       "    <tr>\n",
       "      <th>AUC: Area under the ROC curve</th>\n",
       "      <th>NaN</th>\n",
       "      <th>NaN</th>\n",
       "      <th>NaN</th>\n",
       "      <th>NaN</th>\n",
       "      <th>NaN</th>\n",
       "      <th>NaN</th>\n",
       "      <th>NaN</th>\n",
       "      <th>NaN</th>\n",
       "      <th>NaN</th>\n",
       "      <th>NaN</th>\n",
       "      <th>NaN</th>\n",
       "      <th>NaN</th>\n",
       "      <th>NaN</th>\n",
       "      <th>NaN</th>\n",
       "      <th>NaN</th>\n",
       "      <th>NaN</th>\n",
       "      <th>NaN</th>\n",
       "      <th>NaN</th>\n",
       "      <th>NaN</th>\n",
       "      <th>NaN</th>\n",
       "      <th>NaN</th>\n",
       "      <th>NaN</th>\n",
       "      <th>NaN</th>\n",
       "      <th>NaN</th>\n",
       "      <th>NaN</th>\n",
       "      <td>NaN</td>\n",
       "    </tr>\n",
       "    <tr>\n",
       "      <th>J-Index: Youden's J statistic (Youden's Index)</th>\n",
       "      <th>NaN</th>\n",
       "      <th>NaN</th>\n",
       "      <th>NaN</th>\n",
       "      <th>NaN</th>\n",
       "      <th>NaN</th>\n",
       "      <th>NaN</th>\n",
       "      <th>NaN</th>\n",
       "      <th>NaN</th>\n",
       "      <th>NaN</th>\n",
       "      <th>NaN</th>\n",
       "      <th>NaN</th>\n",
       "      <th>NaN</th>\n",
       "      <th>NaN</th>\n",
       "      <th>NaN</th>\n",
       "      <th>NaN</th>\n",
       "      <th>NaN</th>\n",
       "      <th>NaN</th>\n",
       "      <th>NaN</th>\n",
       "      <th>NaN</th>\n",
       "      <th>NaN</th>\n",
       "      <th>NaN</th>\n",
       "      <th>NaN</th>\n",
       "      <th>NaN</th>\n",
       "      <th>NaN</th>\n",
       "      <th>NaN</th>\n",
       "      <td>NaN</td>\n",
       "    </tr>\n",
       "    <tr>\n",
       "      <th>MCC: Matthews Correlation Coefficient</th>\n",
       "      <th>NaN</th>\n",
       "      <th>NaN</th>\n",
       "      <th>NaN</th>\n",
       "      <th>NaN</th>\n",
       "      <th>NaN</th>\n",
       "      <th>NaN</th>\n",
       "      <th>NaN</th>\n",
       "      <th>NaN</th>\n",
       "      <th>NaN</th>\n",
       "      <th>NaN</th>\n",
       "      <th>NaN</th>\n",
       "      <th>NaN</th>\n",
       "      <th>NaN</th>\n",
       "      <th>NaN</th>\n",
       "      <th>NaN</th>\n",
       "      <th>NaN</th>\n",
       "      <th>NaN</th>\n",
       "      <th>NaN</th>\n",
       "      <th>NaN</th>\n",
       "      <th>NaN</th>\n",
       "      <th>NaN</th>\n",
       "      <th>NaN</th>\n",
       "      <th>NaN</th>\n",
       "      <th>NaN</th>\n",
       "      <th>NaN</th>\n",
       "      <td>NaN</td>\n",
       "    </tr>\n",
       "    <tr>\n",
       "      <th>EER: Equal Error Rate</th>\n",
       "      <th>NaN</th>\n",
       "      <th>NaN</th>\n",
       "      <th>NaN</th>\n",
       "      <th>NaN</th>\n",
       "      <th>NaN</th>\n",
       "      <th>NaN</th>\n",
       "      <th>NaN</th>\n",
       "      <th>NaN</th>\n",
       "      <th>NaN</th>\n",
       "      <th>NaN</th>\n",
       "      <th>NaN</th>\n",
       "      <th>NaN</th>\n",
       "      <th>NaN</th>\n",
       "      <th>NaN</th>\n",
       "      <th>NaN</th>\n",
       "      <th>NaN</th>\n",
       "      <th>NaN</th>\n",
       "      <th>NaN</th>\n",
       "      <th>NaN</th>\n",
       "      <th>NaN</th>\n",
       "      <th>NaN</th>\n",
       "      <th>NaN</th>\n",
       "      <th>NaN</th>\n",
       "      <th>NaN</th>\n",
       "      <th>NaN</th>\n",
       "      <td>NaN</td>\n",
       "    </tr>\n",
       "    <tr>\n",
       "      <th>EERlow, EERhigh: See FVC2000 protocol evaluation</th>\n",
       "      <th>NaN</th>\n",
       "      <th>NaN</th>\n",
       "      <th>NaN</th>\n",
       "      <th>NaN</th>\n",
       "      <th>NaN</th>\n",
       "      <th>NaN</th>\n",
       "      <th>NaN</th>\n",
       "      <th>NaN</th>\n",
       "      <th>NaN</th>\n",
       "      <th>NaN</th>\n",
       "      <th>NaN</th>\n",
       "      <th>NaN</th>\n",
       "      <th>NaN</th>\n",
       "      <th>NaN</th>\n",
       "      <th>NaN</th>\n",
       "      <th>NaN</th>\n",
       "      <th>NaN</th>\n",
       "      <th>NaN</th>\n",
       "      <th>NaN</th>\n",
       "      <th>NaN</th>\n",
       "      <th>NaN</th>\n",
       "      <th>NaN</th>\n",
       "      <th>NaN</th>\n",
       "      <th>NaN</th>\n",
       "      <th>NaN</th>\n",
       "      <td>NaN</td>\n",
       "    </tr>\n",
       "    <tr>\n",
       "      <th>FMR: False Match Rate</th>\n",
       "      <th>NaN</th>\n",
       "      <th>NaN</th>\n",
       "      <th>NaN</th>\n",
       "      <th>NaN</th>\n",
       "      <th>NaN</th>\n",
       "      <th>NaN</th>\n",
       "      <th>NaN</th>\n",
       "      <th>NaN</th>\n",
       "      <th>NaN</th>\n",
       "      <th>NaN</th>\n",
       "      <th>NaN</th>\n",
       "      <th>NaN</th>\n",
       "      <th>NaN</th>\n",
       "      <th>NaN</th>\n",
       "      <th>NaN</th>\n",
       "      <th>NaN</th>\n",
       "      <th>NaN</th>\n",
       "      <th>NaN</th>\n",
       "      <th>NaN</th>\n",
       "      <th>NaN</th>\n",
       "      <th>NaN</th>\n",
       "      <th>NaN</th>\n",
       "      <th>NaN</th>\n",
       "      <th>NaN</th>\n",
       "      <th>NaN</th>\n",
       "      <td>NaN</td>\n",
       "    </tr>\n",
       "    <tr>\n",
       "      <th>FNMR: False Non-Match Rate</th>\n",
       "      <th>NaN</th>\n",
       "      <th>NaN</th>\n",
       "      <th>NaN</th>\n",
       "      <th>NaN</th>\n",
       "      <th>NaN</th>\n",
       "      <th>NaN</th>\n",
       "      <th>NaN</th>\n",
       "      <th>NaN</th>\n",
       "      <th>NaN</th>\n",
       "      <th>NaN</th>\n",
       "      <th>NaN</th>\n",
       "      <th>NaN</th>\n",
       "      <th>NaN</th>\n",
       "      <th>NaN</th>\n",
       "      <th>NaN</th>\n",
       "      <th>NaN</th>\n",
       "      <th>NaN</th>\n",
       "      <th>NaN</th>\n",
       "      <th>NaN</th>\n",
       "      <th>NaN</th>\n",
       "      <th>NaN</th>\n",
       "      <th>NaN</th>\n",
       "      <th>NaN</th>\n",
       "      <th>NaN</th>\n",
       "      <th>NaN</th>\n",
       "      <td>NaN</td>\n",
       "    </tr>\n",
       "    <tr>\n",
       "      <th>_TH: Threshold</th>\n",
       "      <th>NaN</th>\n",
       "      <th>NaN</th>\n",
       "      <th>NaN</th>\n",
       "      <th>NaN</th>\n",
       "      <th>NaN</th>\n",
       "      <th>NaN</th>\n",
       "      <th>NaN</th>\n",
       "      <th>NaN</th>\n",
       "      <th>NaN</th>\n",
       "      <th>NaN</th>\n",
       "      <th>NaN</th>\n",
       "      <th>NaN</th>\n",
       "      <th>NaN</th>\n",
       "      <th>NaN</th>\n",
       "      <th>NaN</th>\n",
       "      <th>NaN</th>\n",
       "      <th>NaN</th>\n",
       "      <th>NaN</th>\n",
       "      <th>NaN</th>\n",
       "      <th>NaN</th>\n",
       "      <th>NaN</th>\n",
       "      <th>NaN</th>\n",
       "      <th>NaN</th>\n",
       "      <th>NaN</th>\n",
       "      <th>NaN</th>\n",
       "      <td>NaN</td>\n",
       "    </tr>\n",
       "    <tr>\n",
       "      <th>EER_TH: Threshold for which EERlow and EERHigh were calculated</th>\n",
       "      <th>NaN</th>\n",
       "      <th>NaN</th>\n",
       "      <th>NaN</th>\n",
       "      <th>NaN</th>\n",
       "      <th>NaN</th>\n",
       "      <th>NaN</th>\n",
       "      <th>NaN</th>\n",
       "      <th>NaN</th>\n",
       "      <th>NaN</th>\n",
       "      <th>NaN</th>\n",
       "      <th>NaN</th>\n",
       "      <th>NaN</th>\n",
       "      <th>NaN</th>\n",
       "      <th>NaN</th>\n",
       "      <th>NaN</th>\n",
       "      <th>NaN</th>\n",
       "      <th>NaN</th>\n",
       "      <th>NaN</th>\n",
       "      <th>NaN</th>\n",
       "      <th>NaN</th>\n",
       "      <th>NaN</th>\n",
       "      <th>NaN</th>\n",
       "      <th>NaN</th>\n",
       "      <th>NaN</th>\n",
       "      <th>NaN</th>\n",
       "      <td>NaN</td>\n",
       "    </tr>\n",
       "  </tbody>\n",
       "</table>\n",
       "</div>"
      ],
      "text/plain": [
       "                                                                                                                                                                                                                                                                                                                                                                                                                                                                                                                                       Generated using PyEER 0.5.3\n",
       "Experiment ID                                      GMean              GSTD                IMean                ISTD                Sensitivity index (d') AUC                J-Index            J-Index_TH         MCC                MCC_TH            EERlow               EERhigh              EER                 ZeroFMR            FMR1000             FMR100              FMR20 FMR10 ZeroFNMR             EER_TH             ZeroFMR_TH         FMR1000_TH        FMR100_TH          FMR20_TH            FMR10_TH                              ZeroFNMR_TH\n",
       "A                                                  0.9894154167605757 0.05874142777627435 0.018212247719313013 0.11166194270690037 10.885990486922497     0.9990634356275908 0.9790887900966961 0.5836216807365417 0.9721013949954175 0.874071478843689 0.011519716437749225 0.011766628534074196 0.01164317248591171 0.7044749667700487 0.13602126716880816 0.01595037660611431 0.0   0.0   0.027782317372119628 0.7289772033691406 0.9999939203262329 0.995598316192627 0.8026099801063538 0.00977450329810381 0.0003816950775217265         0.16391119360923767\n",
       "Legend:                                            NaN                NaN                 NaN                  NaN                 NaN                    NaN                NaN                NaN                NaN                NaN               NaN                  NaN                  NaN                 NaN                NaN                 NaN                 NaN   NaN   NaN                  NaN                NaN                NaN               NaN                NaN                 NaN                                           NaN\n",
       "GMean: Genuine scores distribution mean            NaN                NaN                 NaN                  NaN                 NaN                    NaN                NaN                NaN                NaN                NaN               NaN                  NaN                  NaN                 NaN                NaN                 NaN                 NaN   NaN   NaN                  NaN                NaN                NaN               NaN                NaN                 NaN                                           NaN\n",
       "GSTD: Genuine scores distribution standard devi... NaN                NaN                 NaN                  NaN                 NaN                    NaN                NaN                NaN                NaN                NaN               NaN                  NaN                  NaN                 NaN                NaN                 NaN                 NaN   NaN   NaN                  NaN                NaN                NaN               NaN                NaN                 NaN                                           NaN\n",
       "IMean: Impostor scores distribution mean           NaN                NaN                 NaN                  NaN                 NaN                    NaN                NaN                NaN                NaN                NaN               NaN                  NaN                  NaN                 NaN                NaN                 NaN                 NaN   NaN   NaN                  NaN                NaN                NaN               NaN                NaN                 NaN                                           NaN\n",
       "IVariance: Impostor scores distribution standar... NaN                NaN                 NaN                  NaN                 NaN                    NaN                NaN                NaN                NaN                NaN               NaN                  NaN                  NaN                 NaN                NaN                 NaN                 NaN   NaN   NaN                  NaN                NaN                NaN               NaN                NaN                 NaN                                           NaN\n",
       "Sensitivity index (d'): See NICE:II protocol ev... NaN                NaN                 NaN                  NaN                 NaN                    NaN                NaN                NaN                NaN                NaN               NaN                  NaN                  NaN                 NaN                NaN                 NaN                 NaN   NaN   NaN                  NaN                NaN                NaN               NaN                NaN                 NaN                                           NaN\n",
       "AUC: Area under the ROC curve                      NaN                NaN                 NaN                  NaN                 NaN                    NaN                NaN                NaN                NaN                NaN               NaN                  NaN                  NaN                 NaN                NaN                 NaN                 NaN   NaN   NaN                  NaN                NaN                NaN               NaN                NaN                 NaN                                           NaN\n",
       "J-Index: Youden's J statistic (Youden's Index)     NaN                NaN                 NaN                  NaN                 NaN                    NaN                NaN                NaN                NaN                NaN               NaN                  NaN                  NaN                 NaN                NaN                 NaN                 NaN   NaN   NaN                  NaN                NaN                NaN               NaN                NaN                 NaN                                           NaN\n",
       "MCC: Matthews Correlation Coefficient              NaN                NaN                 NaN                  NaN                 NaN                    NaN                NaN                NaN                NaN                NaN               NaN                  NaN                  NaN                 NaN                NaN                 NaN                 NaN   NaN   NaN                  NaN                NaN                NaN               NaN                NaN                 NaN                                           NaN\n",
       "EER: Equal Error Rate                              NaN                NaN                 NaN                  NaN                 NaN                    NaN                NaN                NaN                NaN                NaN               NaN                  NaN                  NaN                 NaN                NaN                 NaN                 NaN   NaN   NaN                  NaN                NaN                NaN               NaN                NaN                 NaN                                           NaN\n",
       "EERlow, EERhigh: See FVC2000 protocol evaluation   NaN                NaN                 NaN                  NaN                 NaN                    NaN                NaN                NaN                NaN                NaN               NaN                  NaN                  NaN                 NaN                NaN                 NaN                 NaN   NaN   NaN                  NaN                NaN                NaN               NaN                NaN                 NaN                                           NaN\n",
       "FMR: False Match Rate                              NaN                NaN                 NaN                  NaN                 NaN                    NaN                NaN                NaN                NaN                NaN               NaN                  NaN                  NaN                 NaN                NaN                 NaN                 NaN   NaN   NaN                  NaN                NaN                NaN               NaN                NaN                 NaN                                           NaN\n",
       "FNMR: False Non-Match Rate                         NaN                NaN                 NaN                  NaN                 NaN                    NaN                NaN                NaN                NaN                NaN               NaN                  NaN                  NaN                 NaN                NaN                 NaN                 NaN   NaN   NaN                  NaN                NaN                NaN               NaN                NaN                 NaN                                           NaN\n",
       "_TH: Threshold                                     NaN                NaN                 NaN                  NaN                 NaN                    NaN                NaN                NaN                NaN                NaN               NaN                  NaN                  NaN                 NaN                NaN                 NaN                 NaN   NaN   NaN                  NaN                NaN                NaN               NaN                NaN                 NaN                                           NaN\n",
       "EER_TH: Threshold for which EERlow and EERHigh ... NaN                NaN                 NaN                  NaN                 NaN                    NaN                NaN                NaN                NaN                NaN               NaN                  NaN                  NaN                 NaN                NaN                 NaN                 NaN   NaN   NaN                  NaN                NaN                NaN               NaN                NaN                 NaN                                           NaN"
      ]
     },
     "execution_count": 31,
     "metadata": {},
     "output_type": "execute_result"
    }
   ],
   "source": [
    "report"
   ]
  },
  {
   "cell_type": "code",
   "execution_count": null,
   "metadata": {},
   "outputs": [],
   "source": []
  }
 ],
 "metadata": {
  "kernelspec": {
   "display_name": "Python 3",
   "language": "python",
   "name": "python3"
  },
  "language_info": {
   "codemirror_mode": {
    "name": "ipython",
    "version": 3
   },
   "file_extension": ".py",
   "mimetype": "text/x-python",
   "name": "python",
   "nbconvert_exporter": "python",
   "pygments_lexer": "ipython3",
   "version": "3.7.3"
  }
 },
 "nbformat": 4,
 "nbformat_minor": 2
}
